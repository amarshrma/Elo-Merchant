{
 "cells": [
  {
   "cell_type": "markdown",
   "metadata": {
    "id": "WIbUkZOB_f-G"
   },
   "source": [
    "![elo_image.png](data:image/png;base64,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)"
   ]
  },
  {
   "cell_type": "markdown",
   "metadata": {
    "id": "TDVGbYWe_f-K"
   },
   "source": [
    "<h1 style=\"text-align:center;font-size:30px;\" > Elo Merchant Category Recommendation </h1>"
   ]
  },
  {
   "cell_type": "markdown",
   "metadata": {
    "id": "LI0xDG81_f-M"
   },
   "source": [
    "<h1>1. Business Problem </h1>"
   ]
  },
  {
   "cell_type": "markdown",
   "metadata": {
    "id": "6uIJg0iZ_f-M"
   },
   "source": [
    "<h2> 1.1 Description </h2>"
   ]
  },
  {
   "cell_type": "markdown",
   "metadata": {
    "id": "CsnuQvTx_f-M"
   },
   "source": [
    "<p> Elo, one of the largest payment brands in Brazil, has tied up with various merchants and offers discounts and promotions to car holders. The company wants to find out whether these recommendations are useful to customers or not. The company wants to predict a score called Loyalty Score for every card holder, based on various transactions data. This score represents how much the customers are enjoying the recommendations and how useful it is to them.This loyalty score will help Elo to focus on specific customers, thus reducing the unwanted costs that Elo spends on promotions. \n",
    "\n",
    "This is a Kaggle problem. (https://www.kaggle.com/c/elo-merchant-category-recommendation)\n",
    "</p>"
   ]
  },
  {
   "cell_type": "markdown",
   "metadata": {
    "id": "iP0ZwBua_f-N"
   },
   "source": [
    "<h2> 1.2 Problem Statement </h2>"
   ]
  },
  {
   "cell_type": "markdown",
   "metadata": {
    "id": "MJEgtiVy_f-N"
   },
   "source": [
    "<p> Predict a score called loyalty score for every card id based on various transactional data. </p>"
   ]
  },
  {
   "cell_type": "markdown",
   "metadata": {
    "id": "b_X0O5LR_f-N"
   },
   "source": [
    "<h2> 1.3 Sources </h2>"
   ]
  },
  {
   "cell_type": "markdown",
   "metadata": {
    "id": "SihwB4Qb_f-N"
   },
   "source": [
    "\n",
    "\n",
    "*   Source : https://www.kaggle.com/c/elo-merchant-category-recommendation\n",
    "*   \n",
    "\n"
   ]
  },
  {
   "cell_type": "markdown",
   "metadata": {
    "id": "iMJaj9du_f-N"
   },
   "source": [
    "<h2>1.4 Real world/Business Objectives and Constraints </h2>"
   ]
  },
  {
   "cell_type": "markdown",
   "metadata": {
    "id": "R82ZgZSr_f-N"
   },
   "source": [
    "\n",
    "\n",
    "*   Predict a score given a card id.\n",
    "*   Minimize the the difference between the actual and predicted scores (RMSE).\n",
    "*   No latency concerns.\n",
    "\n"
   ]
  },
  {
   "cell_type": "markdown",
   "metadata": {
    "id": "3ecbJJpl_f-O"
   },
   "source": [
    "<h1>2. Machine Learning Problem </h1>"
   ]
  },
  {
   "cell_type": "markdown",
   "metadata": {
    "id": "Gjf6FYRw_f-O"
   },
   "source": [
    "<h2> 2.1 Data </h2>"
   ]
  },
  {
   "cell_type": "markdown",
   "metadata": {
    "id": "Tlv6KnCn_f-O"
   },
   "source": [
    "<h3> 2.1.1 Data Overview </h3>"
   ]
  },
  {
   "cell_type": "markdown",
   "metadata": {
    "id": "ZmVsynrv_f-O"
   },
   "source": [
    "<p> \n",
    "- Data is present in 5 files namely <br>\n",
    "\n",
    "\n",
    "*   train.csv\n",
    "*   test.csv\n",
    "*   merchants.csv\n",
    "*   transactions.csv\n",
    "*   new_merchants_transactions.csv\n",
    "</p>"
   ]
  },
  {
   "cell_type": "markdown",
   "metadata": {
    "id": "QPuFV2V4_f-O"
   },
   "source": [
    "<h2>2.2 Mapping the real world problem to a Machine Learning Problem </h2>"
   ]
  },
  {
   "cell_type": "markdown",
   "metadata": {
    "id": "sfiZWlj2_f-O"
   },
   "source": [
    "<h3> 2.2.1 Type of Machine Learning Problem </h3>"
   ]
  },
  {
   "cell_type": "markdown",
   "metadata": {
    "id": "hksI48us_f-O"
   },
   "source": [
    "<p> It is a regression problem, where we have to predict loyalty score for a given card id. </p>"
   ]
  },
  {
   "cell_type": "markdown",
   "metadata": {
    "id": "exrR90t1_f-O"
   },
   "source": [
    "<h3> 2.2.2 Performance Metric </h3>"
   ]
  },
  {
   "cell_type": "markdown",
   "metadata": {
    "id": "cSnSFCnH_f-O"
   },
   "source": [
    "Source:  https://www.kaggle.com/c/elo-merchant-category-recommendation\n",
    "\n",
    "Metric: \n",
    "* RMSE - Root Mean Square Error: https://en.wikipedia.org/wiki/Root-mean-square_deviation\n",
    "\n",
    "  - We could have gone for other metric like MAD. But as we know these metric reduces the affect the outliers. But our dataset contains outliers and also the test data contains these outliers. So we want our better fit to these outliers as well."
   ]
  },
  {
   "cell_type": "markdown",
   "metadata": {
    "id": "E_9TVGiD_f-P"
   },
   "source": [
    "<h3> 2.2.3 Necessary Imports </h3>"
   ]
  },
  {
   "cell_type": "code",
   "execution_count": 1,
   "metadata": {
    "id": "N4woRNjC_f-P"
   },
   "outputs": [],
   "source": [
    "import warnings\n",
    "warnings.filterwarnings(\"ignore\")\n",
    "import pandas as pd\n",
    "import numpy as np\n",
    "import matplotlib.pyplot as plt\n",
    "import seaborn as sns\n",
    "import gc\n",
    "gc.collect()\n",
    "from tqdm import tqdm"
   ]
  },
  {
   "cell_type": "markdown",
   "metadata": {
    "id": "8WnJC6o0_f-P"
   },
   "source": [
    "<h1>3. Exploratory Data Analysis </h1>"
   ]
  },
  {
   "cell_type": "code",
   "execution_count": 2,
   "metadata": {
    "id": "QYph9XLx_f-P"
   },
   "outputs": [],
   "source": [
    "#https://www.kaggle.com/artgor/elo-eda-and-models\n",
    "def reduce_mem_usage(df, verbose=True):\n",
    "    ''' \n",
    "    This is done as there are lot of historical data, which requires lot of RAM. \n",
    "    This method  tries to reduce the size of data, it works on only numeric data by selecting the smallest data type\n",
    "    in which it can be represented.\n",
    "    '''\n",
    "    numerics = ['int16', 'int32', 'int64', 'float16', 'float32', 'float64']\n",
    "    start_mem = df.memory_usage().sum() / 1024**2    \n",
    "    for col in df.columns:\n",
    "        col_type = df[col].dtypes\n",
    "        if col_type in numerics:\n",
    "            c_min = df[col].min()\n",
    "            c_max = df[col].max()\n",
    "            if str(col_type)[:3] == 'int':\n",
    "                if c_min > np.iinfo(np.int8).min and c_max < np.iinfo(np.int8).max:\n",
    "                    df[col] = df[col].astype(np.int8)\n",
    "                elif c_min > np.iinfo(np.int16).min and c_max < np.iinfo(np.int16).max:\n",
    "                    df[col] = df[col].astype(np.int16)\n",
    "                elif c_min > np.iinfo(np.int32).min and c_max < np.iinfo(np.int32).max:\n",
    "                    df[col] = df[col].astype(np.int32)\n",
    "                elif c_min > np.iinfo(np.int64).min and c_max < np.iinfo(np.int64).max:\n",
    "                    df[col] = df[col].astype(np.int64)  \n",
    "            else:\n",
    "                if c_min > np.finfo(np.float16).min and c_max < np.finfo(np.float16).max:\n",
    "                    df[col] = df[col].astype(np.float16)\n",
    "                elif c_min > np.finfo(np.float32).min and c_max < np.finfo(np.float32).max:\n",
    "                    df[col] = df[col].astype(np.float32)\n",
    "                else:\n",
    "                    df[col] = df[col].astype(np.float64)    \n",
    "    end_mem = df.memory_usage().sum() / 1024**2\n",
    "    if verbose: print('Mem. usage decreased to {:5.2f} Mb ({:.1f}% reduction)'.format(end_mem, 100 * (start_mem - end_mem) / start_mem))\n",
    "    return df \n"
   ]
  },
  {
   "cell_type": "markdown",
   "metadata": {
    "id": "ETIOJh5T_f-P"
   },
   "source": [
    "<h2> 3.1 Reading data from files train.csv and test.cv and basic stats </h2>"
   ]
  },
  {
   "cell_type": "code",
   "execution_count": null,
   "metadata": {
    "colab": {
     "base_uri": "https://localhost:8080/"
    },
    "id": "JXGDuwe5_f-P",
    "outputId": "b5588bca-c3e3-47a2-89e6-14b53074f9c1"
   },
   "outputs": [
    {
     "name": "stdout",
     "output_type": "stream",
     "text": [
      "Mem. usage decreased to  4.04 Mb (56.2% reduction)\n",
      "No. of data points in train: 201917\n"
     ]
    }
   ],
   "source": [
    "df_train = reduce_mem_usage(pd.read_csv(\"train.csv\", parse_dates=['first_active_month']))\n",
    "print(\"No. of data points in train:\", df_train.shape[0])"
   ]
  },
  {
   "cell_type": "code",
   "execution_count": null,
   "metadata": {
    "id": "4BUU7qm0_f-Q"
   },
   "outputs": [],
   "source": [
    "df_train.sort_values(by = 'first_active_month', inplace=True)"
   ]
  },
  {
   "cell_type": "code",
   "execution_count": null,
   "metadata": {
    "colab": {
     "base_uri": "https://localhost:8080/",
     "height": 204
    },
    "id": "6ravcNiO_f-Q",
    "outputId": "054e3bb1-327c-4040-c247-4199f3d35a4f"
   },
   "outputs": [
    {
     "data": {
      "text/html": [
       "<div>\n",
       "<style scoped>\n",
       "    .dataframe tbody tr th:only-of-type {\n",
       "        vertical-align: middle;\n",
       "    }\n",
       "\n",
       "    .dataframe tbody tr th {\n",
       "        vertical-align: top;\n",
       "    }\n",
       "\n",
       "    .dataframe thead th {\n",
       "        text-align: right;\n",
       "    }\n",
       "</style>\n",
       "<table border=\"1\" class=\"dataframe\">\n",
       "  <thead>\n",
       "    <tr style=\"text-align: right;\">\n",
       "      <th></th>\n",
       "      <th>first_active_month</th>\n",
       "      <th>card_id</th>\n",
       "      <th>feature_1</th>\n",
       "      <th>feature_2</th>\n",
       "      <th>feature_3</th>\n",
       "      <th>target</th>\n",
       "    </tr>\n",
       "  </thead>\n",
       "  <tbody>\n",
       "    <tr>\n",
       "      <th>69678</th>\n",
       "      <td>2011-11-01</td>\n",
       "      <td>C_ID_f25b3d3f13</td>\n",
       "      <td>3</td>\n",
       "      <td>1</td>\n",
       "      <td>1</td>\n",
       "      <td>0.645996</td>\n",
       "    </tr>\n",
       "    <tr>\n",
       "      <th>145874</th>\n",
       "      <td>2011-11-01</td>\n",
       "      <td>C_ID_2dbbc2b7fd</td>\n",
       "      <td>3</td>\n",
       "      <td>3</td>\n",
       "      <td>1</td>\n",
       "      <td>-0.069580</td>\n",
       "    </tr>\n",
       "    <tr>\n",
       "      <th>9322</th>\n",
       "      <td>2011-11-01</td>\n",
       "      <td>C_ID_0a70866829</td>\n",
       "      <td>3</td>\n",
       "      <td>1</td>\n",
       "      <td>1</td>\n",
       "      <td>-2.544922</td>\n",
       "    </tr>\n",
       "    <tr>\n",
       "      <th>33398</th>\n",
       "      <td>2011-11-01</td>\n",
       "      <td>C_ID_08cb8e0333</td>\n",
       "      <td>3</td>\n",
       "      <td>3</td>\n",
       "      <td>1</td>\n",
       "      <td>-3.574219</td>\n",
       "    </tr>\n",
       "    <tr>\n",
       "      <th>152463</th>\n",
       "      <td>2011-11-01</td>\n",
       "      <td>C_ID_d26de4d1bf</td>\n",
       "      <td>3</td>\n",
       "      <td>3</td>\n",
       "      <td>1</td>\n",
       "      <td>-0.693359</td>\n",
       "    </tr>\n",
       "  </tbody>\n",
       "</table>\n",
       "</div>"
      ],
      "text/plain": [
       "       first_active_month          card_id  feature_1  feature_2  feature_3  \\\n",
       "69678          2011-11-01  C_ID_f25b3d3f13          3          1          1   \n",
       "145874         2011-11-01  C_ID_2dbbc2b7fd          3          3          1   \n",
       "9322           2011-11-01  C_ID_0a70866829          3          1          1   \n",
       "33398          2011-11-01  C_ID_08cb8e0333          3          3          1   \n",
       "152463         2011-11-01  C_ID_d26de4d1bf          3          3          1   \n",
       "\n",
       "          target  \n",
       "69678   0.645996  \n",
       "145874 -0.069580  \n",
       "9322   -2.544922  \n",
       "33398  -3.574219  \n",
       "152463 -0.693359  "
      ]
     },
     "execution_count": 16,
     "metadata": {
      "tags": []
     },
     "output_type": "execute_result"
    }
   ],
   "source": [
    "df_train.head(5)"
   ]
  },
  {
   "cell_type": "code",
   "execution_count": null,
   "metadata": {
    "colab": {
     "base_uri": "https://localhost:8080/"
    },
    "id": "U5JXy4zW_f-R",
    "outputId": "6ac0ac5f-9b37-4623-f877-1973733fd241"
   },
   "outputs": [
    {
     "name": "stdout",
     "output_type": "stream",
     "text": [
      "<class 'pandas.core.frame.DataFrame'>\n",
      "Int64Index: 201917 entries, 69678 to 43740\n",
      "Data columns (total 6 columns):\n",
      " #   Column              Non-Null Count   Dtype         \n",
      "---  ------              --------------   -----         \n",
      " 0   first_active_month  201917 non-null  datetime64[ns]\n",
      " 1   card_id             201917 non-null  object        \n",
      " 2   feature_1           201917 non-null  int8          \n",
      " 3   feature_2           201917 non-null  int8          \n",
      " 4   feature_3           201917 non-null  int8          \n",
      " 5   target              201917 non-null  float16       \n",
      "dtypes: datetime64[ns](1), float16(1), int8(3), object(1)\n",
      "memory usage: 5.6+ MB\n"
     ]
    }
   ],
   "source": [
    "df_train.info()"
   ]
  },
  {
   "cell_type": "code",
   "execution_count": null,
   "metadata": {
    "colab": {
     "base_uri": "https://localhost:8080/"
    },
    "id": "tQiP9dOM_f-S",
    "outputId": "fa6f0678-2286-4a00-bd03-d5211f35bb58"
   },
   "outputs": [
    {
     "name": "stdout",
     "output_type": "stream",
     "text": [
      "Mem. usage decreased to  2.24 Mb (52.5% reduction)\n",
      "No. of data points in test.csv: 123623\n"
     ]
    }
   ],
   "source": [
    "df_test = reduce_mem_usage(pd.read_csv(\"test.csv\", parse_dates=['first_active_month']))\n",
    "print(\"No. of data points in test.csv:\", df_test.shape[0])"
   ]
  },
  {
   "cell_type": "code",
   "execution_count": null,
   "metadata": {
    "colab": {
     "base_uri": "https://localhost:8080/",
     "height": 204
    },
    "id": "6TGDzdQo_f-S",
    "outputId": "532d937d-c288-4788-ac61-11de14ab6056"
   },
   "outputs": [
    {
     "data": {
      "text/html": [
       "<div>\n",
       "<style scoped>\n",
       "    .dataframe tbody tr th:only-of-type {\n",
       "        vertical-align: middle;\n",
       "    }\n",
       "\n",
       "    .dataframe tbody tr th {\n",
       "        vertical-align: top;\n",
       "    }\n",
       "\n",
       "    .dataframe thead th {\n",
       "        text-align: right;\n",
       "    }\n",
       "</style>\n",
       "<table border=\"1\" class=\"dataframe\">\n",
       "  <thead>\n",
       "    <tr style=\"text-align: right;\">\n",
       "      <th></th>\n",
       "      <th>first_active_month</th>\n",
       "      <th>card_id</th>\n",
       "      <th>feature_1</th>\n",
       "      <th>feature_2</th>\n",
       "      <th>feature_3</th>\n",
       "    </tr>\n",
       "  </thead>\n",
       "  <tbody>\n",
       "    <tr>\n",
       "      <th>0</th>\n",
       "      <td>2017-04-01</td>\n",
       "      <td>C_ID_0ab67a22ab</td>\n",
       "      <td>3</td>\n",
       "      <td>3</td>\n",
       "      <td>1</td>\n",
       "    </tr>\n",
       "    <tr>\n",
       "      <th>1</th>\n",
       "      <td>2017-01-01</td>\n",
       "      <td>C_ID_130fd0cbdd</td>\n",
       "      <td>2</td>\n",
       "      <td>3</td>\n",
       "      <td>0</td>\n",
       "    </tr>\n",
       "    <tr>\n",
       "      <th>2</th>\n",
       "      <td>2017-08-01</td>\n",
       "      <td>C_ID_b709037bc5</td>\n",
       "      <td>5</td>\n",
       "      <td>1</td>\n",
       "      <td>1</td>\n",
       "    </tr>\n",
       "    <tr>\n",
       "      <th>3</th>\n",
       "      <td>2017-12-01</td>\n",
       "      <td>C_ID_d27d835a9f</td>\n",
       "      <td>2</td>\n",
       "      <td>1</td>\n",
       "      <td>0</td>\n",
       "    </tr>\n",
       "    <tr>\n",
       "      <th>4</th>\n",
       "      <td>2015-12-01</td>\n",
       "      <td>C_ID_2b5e3df5c2</td>\n",
       "      <td>5</td>\n",
       "      <td>1</td>\n",
       "      <td>1</td>\n",
       "    </tr>\n",
       "  </tbody>\n",
       "</table>\n",
       "</div>"
      ],
      "text/plain": [
       "  first_active_month          card_id  feature_1  feature_2  feature_3\n",
       "0         2017-04-01  C_ID_0ab67a22ab          3          3          1\n",
       "1         2017-01-01  C_ID_130fd0cbdd          2          3          0\n",
       "2         2017-08-01  C_ID_b709037bc5          5          1          1\n",
       "3         2017-12-01  C_ID_d27d835a9f          2          1          0\n",
       "4         2015-12-01  C_ID_2b5e3df5c2          5          1          1"
      ]
     },
     "execution_count": 19,
     "metadata": {
      "tags": []
     },
     "output_type": "execute_result"
    }
   ],
   "source": [
    "df_test.head(5)"
   ]
  },
  {
   "cell_type": "code",
   "execution_count": null,
   "metadata": {
    "colab": {
     "base_uri": "https://localhost:8080/"
    },
    "id": "2z9jR6yZ_f-S",
    "outputId": "dfaef9e9-e673-4574-aedc-5ead7d985f70"
   },
   "outputs": [
    {
     "name": "stdout",
     "output_type": "stream",
     "text": [
      "<class 'pandas.core.frame.DataFrame'>\n",
      "RangeIndex: 123623 entries, 0 to 123622\n",
      "Data columns (total 5 columns):\n",
      " #   Column              Non-Null Count   Dtype         \n",
      "---  ------              --------------   -----         \n",
      " 0   first_active_month  123622 non-null  datetime64[ns]\n",
      " 1   card_id             123623 non-null  object        \n",
      " 2   feature_1           123623 non-null  int8          \n",
      " 3   feature_2           123623 non-null  int8          \n",
      " 4   feature_3           123623 non-null  int8          \n",
      "dtypes: datetime64[ns](1), int8(3), object(1)\n",
      "memory usage: 2.2+ MB\n"
     ]
    }
   ],
   "source": [
    "df_test.info()"
   ]
  },
  {
   "cell_type": "markdown",
   "metadata": {
    "id": "EweavoOV_f-T"
   },
   "source": [
    "<h3> 3.1.1 Checking if there are any null values and replacing them </h3>"
   ]
  },
  {
   "cell_type": "code",
   "execution_count": null,
   "metadata": {
    "colab": {
     "base_uri": "https://localhost:8080/"
    },
    "id": "vy59UVIp_f-T",
    "outputId": "ba8bee81-ef88-4cf4-cfe8-af08f0e87ebc"
   },
   "outputs": [
    {
     "name": "stdout",
     "output_type": "stream",
     "text": [
      "Empty DataFrame\n",
      "Columns: [first_active_month, card_id, feature_1, feature_2, feature_3, target]\n",
      "Index: []\n"
     ]
    }
   ],
   "source": [
    "nan_indexes = df_train[df_train.isnull().any(1)]\n",
    "print (nan_indexes)"
   ]
  },
  {
   "cell_type": "markdown",
   "metadata": {
    "id": "sHK4yVvq_f-T"
   },
   "source": [
    "\n",
    "\n",
    "*   There are no NaN values in train.csv\n"
   ]
  },
  {
   "cell_type": "code",
   "execution_count": null,
   "metadata": {
    "colab": {
     "base_uri": "https://localhost:8080/"
    },
    "id": "eXnTW2Q8_f-T",
    "outputId": "5e780b5e-f77d-481e-a885-4defd92d8141"
   },
   "outputs": [
    {
     "name": "stdout",
     "output_type": "stream",
     "text": [
      "      first_active_month          card_id  feature_1  feature_2  feature_3\n",
      "11578                NaT  C_ID_c27b4f80f7          5          2          1\n"
     ]
    }
   ],
   "source": [
    "nan_indexes = df_test[df_test.isnull().any(1)]\n",
    "print (nan_indexes)"
   ]
  },
  {
   "cell_type": "markdown",
   "metadata": {
    "id": "SHLLqaCh_f-T"
   },
   "source": [
    "\n",
    "\n",
    "*   There is one NaN value in test.csv in the field first_active_month.\n",
    "\n",
    "\n",
    "*   We will replace this value by selecting all the rows having same features(feature_1, feature_2, feature_3) as this row and then select the mode of first_active_month from these rows.\n",
    "\n"
   ]
  },
  {
   "cell_type": "code",
   "execution_count": null,
   "metadata": {
    "colab": {
     "base_uri": "https://localhost:8080/"
    },
    "id": "rqcKtsmu_f-U",
    "outputId": "3373d7c1-91f5-4dc3-d975-307151f4d6b7"
   },
   "outputs": [
    {
     "name": "stdout",
     "output_type": "stream",
     "text": [
      "Date occuring maximum no of times with these features  2017-01-01T00:00:00.000000000\n"
     ]
    }
   ],
   "source": [
    "mode_Date = df_test.loc[(df_test['feature_1'] == 5) & (df_test['feature_2'] == 2) & (df_test['feature_3'] == 1)]['first_active_month'].mode().values[0]\n",
    "print(\"Date occuring maximum no of times with these features \", mode_Date)\n",
    "df_test['first_active_month'] = df_test[\"first_active_month\"].fillna(mode_Date)"
   ]
  },
  {
   "cell_type": "markdown",
   "metadata": {
    "id": "fNpupKdQ_f-U"
   },
   "source": [
    "<h3> 3.1.2 Checking if there is any correlation between first_active_month and target </h3>"
   ]
  },
  {
   "cell_type": "code",
   "execution_count": null,
   "metadata": {
    "colab": {
     "base_uri": "https://localhost:8080/",
     "height": 729
    },
    "id": "iGvWyGOR_f-U",
    "outputId": "8263b043-bf6f-4aa3-c65d-df1149714011"
   },
   "outputs": [
    {
     "data": {
      "image/png": "[encoded data removed]",
      "text/plain": [
       "<Figure size 728x720 with 1 Axes>"
      ]
     },
     "metadata": {
      "tags": []
     },
     "output_type": "display_data"
    }
   ],
   "source": [
    "sns.set_style(\"darkgrid\")\n",
    "sns.FacetGrid(df_train, size = 10)\\\n",
    "    .map(plt.scatter, 'first_active_month', 'target')\\\n",
    "    .add_legend()\n",
    "plt.show()"
   ]
  },
  {
   "cell_type": "markdown",
   "metadata": {
    "id": "_LAw1rWQ_f-U"
   },
   "source": [
    "\n",
    "\n",
    "*   One thing that can be clearly observed that dates which are more recent have higher loyalty score.\n",
    "* Also it shows that more no of users have started using the Elo service lately.\n",
    "* This feature clearly indicates a trend in loyalty score. \n",
    "* Also there seems a constant value which is present below -30, which can't be separated using first_active_month."
   ]
  },
  {
   "cell_type": "markdown",
   "metadata": {
    "id": "1y2mhR05_f-U"
   },
   "source": [
    "<h3> 3.1.3 Checking if there is any correlation between features - feature_1, feature_2, feature_3 and target </h3>"
   ]
  },
  {
   "cell_type": "code",
   "execution_count": null,
   "metadata": {
    "colab": {
     "base_uri": "https://localhost:8080/",
     "height": 606
    },
    "id": "WR6tfnji_f-V",
    "outputId": "c528d573-3fc9-477c-b5b1-2f0b54d120dd"
   },
   "outputs": [
    {
     "data": {
      "image/png": "[encoded data removed]",
      "text/plain": [
       "<Figure size 1296x720 with 3 Axes>"
      ]
     },
     "metadata": {
      "tags": []
     },
     "output_type": "display_data"
    }
   ],
   "source": [
    "fig, ax = plt.subplots(1, 3, figsize = (18,10))\n",
    "sns.boxplot( x = 'feature_1', y= 'target', ax = ax[0], data = df_train)\n",
    "sns.boxplot( x = 'feature_2', y= 'target', ax = ax[1], data = df_train)\n",
    "sns.boxplot( x = 'feature_3', y= 'target', ax = ax[2], data = df_train)\n",
    "plt.show()"
   ]
  },
  {
   "cell_type": "markdown",
   "metadata": {
    "id": "os6UJdg8_f-V"
   },
   "source": [
    "\n",
    "\n",
    "*   These categorical features aren't really helpful at predicting the target variable. \n",
    "* The boxplots are overlapping for all the categories. \n",
    "*  We can ignore these features.\n",
    "\n"
   ]
  },
  {
   "cell_type": "markdown",
   "metadata": {
    "id": "P3HMEKK6t3yk"
   },
   "source": [
    "<h3> 3.1.4 Analysis of how these categorical variables are related with the target score </h3>"
   ]
  },
  {
   "cell_type": "markdown",
   "metadata": {
    "id": "IrWzT0Z6w27q"
   },
   "source": [
    "- We are concating all the categorical variables and plotting them against the target score."
   ]
  },
  {
   "cell_type": "code",
   "execution_count": null,
   "metadata": {
    "id": "sz-QrlW8vwA9"
   },
   "outputs": [],
   "source": [
    "concatOfAllTrainPoints = []\n",
    "allTargetPoints = []\n",
    "for i, row in df_train.iterrows():\n",
    "    f = str(row['feature_1']) + str(row['feature_2']) + str(row['feature_3'])\n",
    "    concatOfAllTrainPoints.append(f)\n",
    "    allTargetPoints.append(row['target'])"
   ]
  },
  {
   "cell_type": "code",
   "execution_count": null,
   "metadata": {
    "id": "YvIvEPnMxaRY"
   },
   "outputs": [],
   "source": [
    "data = {'Concat_Of_All_Features': concatOfAllTrainPoints, \n",
    "        'Loyalty_Scores': allTargetPoints}\n",
    "data = pd.DataFrame(data)"
   ]
  },
  {
   "cell_type": "code",
   "execution_count": null,
   "metadata": {
    "colab": {
     "base_uri": "https://localhost:8080/",
     "height": 729
    },
    "id": "uq6mSzAWmYJU",
    "outputId": "dfc53fa5-5389-4ebe-a4c9-34418a6bffb4"
   },
   "outputs": [
    {
     "data": {
      "image/png": "[encoded data removed]",
      "text/plain": [
       "<Figure size 728x720 with 1 Axes>"
      ]
     },
     "metadata": {
      "tags": []
     },
     "output_type": "display_data"
    }
   ],
   "source": [
    "sns.FacetGrid(data, size = 10)\\\n",
    "    .map(plt.scatter, 'Concat_Of_All_Features', 'Loyalty_Scores')\\\n",
    "    .add_legend()\n",
    "plt.show()"
   ]
  },
  {
   "cell_type": "markdown",
   "metadata": {
    "id": "b-vsq0LbuwB7"
   },
   "source": [
    "- Nothing much be derived from these multivariate analysis. As points seem to be evenly distributed among all the categories."
   ]
  },
  {
   "cell_type": "markdown",
   "metadata": {
    "id": "ZjJol6ez_f-V"
   },
   "source": [
    "<h3> 3.1.5 Analysis on the target variable(loyalty score) </h3>"
   ]
  },
  {
   "cell_type": "code",
   "execution_count": null,
   "metadata": {
    "colab": {
     "base_uri": "https://localhost:8080/",
     "height": 513
    },
    "id": "ZgcrRYPx_f-V",
    "outputId": "3468c12e-a9ab-41f3-e9e0-cf2b10aaf1bb"
   },
   "outputs": [
    {
     "data": {
      "image/png": "[encoded data removed]",
      "text/plain": [
       "<Figure size 556.875x504 with 1 Axes>"
      ]
     },
     "metadata": {
      "tags": []
     },
     "output_type": "display_data"
    }
   ],
   "source": [
    "sns.FacetGrid(df_train, size = 7)\\\n",
    "    .map(sns.distplot, 'target', hist=False, kde_kws=dict(cumulative=True), label = 'Cdf')\\\n",
    "    .map(sns.distplot, 'target', hist=False, label = 'Pdf')\\\n",
    "    .add_legend()\n",
    "plt.show()"
   ]
  },
  {
   "cell_type": "code",
   "execution_count": null,
   "metadata": {
    "colab": {
     "base_uri": "https://localhost:8080/",
     "height": 513
    },
    "id": "p9pX__Fe_f-V",
    "outputId": "3cbf5064-4836-4885-bd22-275875c4d91f"
   },
   "outputs": [
    {
     "data": {
      "image/png": "[encoded data removed]",
      "text/plain": [
       "<Figure size 512x504 with 1 Axes>"
      ]
     },
     "metadata": {
      "tags": []
     },
     "output_type": "display_data"
    }
   ],
   "source": [
    "sns.FacetGrid(df_train, size = 7)\\\n",
    "    .map(sns.distplot, 'target')\\\n",
    "    .add_legend()\n",
    "plt.show()"
   ]
  },
  {
   "cell_type": "markdown",
   "metadata": {
    "id": "BUL6lEh0_f-W"
   },
   "source": [
    "\n",
    "\n",
    "*   Most of the data is centered around zero.\n",
    "*   There exists some scores which have values in the range of -30.\n",
    "*   We need to deal with card ids having score less than -30. We will see what can be used to differentiate these cards from other cards.\n",
    "\n"
   ]
  },
  {
   "cell_type": "code",
   "execution_count": null,
   "metadata": {
    "colab": {
     "base_uri": "https://localhost:8080/"
    },
    "id": "shNpE1Ep_f-W",
    "outputId": "cef2edeb-159e-4a09-a22a-659b5305d8ae"
   },
   "outputs": [
    {
     "name": "stdout",
     "output_type": "stream",
     "text": [
      "No of values less than -10 :  2263\n",
      "No of values less than -20 :  2207\n",
      "No of values less than -30 :  2207\n",
      "No of values less than -31 :  2207\n",
      "No of values less than -32 :  2207\n",
      "No of values less than -33 :  2207\n",
      "No of values less than -34 :  0\n"
     ]
    }
   ],
   "source": [
    "print(\"No of values less than -10 : \", df_train.loc[df_train.target < -10].shape[0])\n",
    "print(\"No of values less than -20 : \", df_train.loc[df_train.target < -20].shape[0])\n",
    "print(\"No of values less than -30 : \", df_train.loc[df_train.target < -30].shape[0])\n",
    "print(\"No of values less than -31 : \", df_train.loc[df_train.target < -31].shape[0])\n",
    "print(\"No of values less than -32 : \", df_train.loc[df_train.target < -32].shape[0])\n",
    "print(\"No of values less than -33 : \", df_train.loc[df_train.target < -33].shape[0])\n",
    "print(\"No of values less than -34 : \", df_train.loc[df_train.target < -34].shape[0])"
   ]
  },
  {
   "cell_type": "markdown",
   "metadata": {
    "id": "_jEf8XOl_f-W"
   },
   "source": [
    "\n",
    "\n",
    "*   There are more than 2000 points that are between -10 and -34(excluded).\n",
    "*   We can look to ignore these outliers, but we will wait to see whether these points affect our submissions.\n",
    "\n"
   ]
  },
  {
   "cell_type": "code",
   "execution_count": null,
   "metadata": {
    "id": "6fke1zttxSlT"
   },
   "outputs": [],
   "source": [
    "df_train.to_csv(\"train_EDA.csv\", index = False)\n",
    "df_test.to_csv(\"test_EDA.csv\", index = False)"
   ]
  },
  {
   "cell_type": "markdown",
   "metadata": {
    "id": "1b8ByHxC_f-W"
   },
   "source": [
    "<h2> 3.2 Reading data from files transactions.csv and new_merchant_transactions.csv and basic stats </h2>"
   ]
  },
  {
   "cell_type": "code",
   "execution_count": null,
   "metadata": {
    "colab": {
     "base_uri": "https://localhost:8080/"
    },
    "id": "p-HNReL1_f-W",
    "outputId": "7511840c-2f5f-4128-befc-7575d1dc8cf3"
   },
   "outputs": [
    {
     "name": "stdout",
     "output_type": "stream",
     "text": [
      "Mem. usage decreased to 1749.11 Mb (43.7% reduction)\n",
      "No. of data points in historical_transactions: 29112361\n"
     ]
    }
   ],
   "source": [
    "df_histTrans = reduce_mem_usage(pd.read_csv(\"historical_transactions.csv\", parse_dates=['purchase_date']))\n",
    "print(\"No. of data points in historical_transactions:\", df_histTrans.shape[0])"
   ]
  },
  {
   "cell_type": "code",
   "execution_count": null,
   "metadata": {
    "colab": {
     "base_uri": "https://localhost:8080/",
     "height": 309
    },
    "id": "e6-3swtv_f-X",
    "outputId": "c43ebfd4-3873-4306-e59b-d2bdc0d48d99"
   },
   "outputs": [
    {
     "data": {
      "text/html": [
       "<div>\n",
       "<style scoped>\n",
       "    .dataframe tbody tr th:only-of-type {\n",
       "        vertical-align: middle;\n",
       "    }\n",
       "\n",
       "    .dataframe tbody tr th {\n",
       "        vertical-align: top;\n",
       "    }\n",
       "\n",
       "    .dataframe thead th {\n",
       "        text-align: right;\n",
       "    }\n",
       "</style>\n",
       "<table border=\"1\" class=\"dataframe\">\n",
       "  <thead>\n",
       "    <tr style=\"text-align: right;\">\n",
       "      <th></th>\n",
       "      <th>authorized_flag</th>\n",
       "      <th>card_id</th>\n",
       "      <th>city_id</th>\n",
       "      <th>category_1</th>\n",
       "      <th>installments</th>\n",
       "      <th>category_3</th>\n",
       "      <th>merchant_category_id</th>\n",
       "      <th>merchant_id</th>\n",
       "      <th>month_lag</th>\n",
       "      <th>purchase_amount</th>\n",
       "      <th>purchase_date</th>\n",
       "      <th>category_2</th>\n",
       "      <th>state_id</th>\n",
       "      <th>subsector_id</th>\n",
       "    </tr>\n",
       "  </thead>\n",
       "  <tbody>\n",
       "    <tr>\n",
       "      <th>0</th>\n",
       "      <td>Y</td>\n",
       "      <td>C_ID_4e6213e9bc</td>\n",
       "      <td>88</td>\n",
       "      <td>N</td>\n",
       "      <td>0</td>\n",
       "      <td>A</td>\n",
       "      <td>80</td>\n",
       "      <td>M_ID_e020e9b302</td>\n",
       "      <td>-8</td>\n",
       "      <td>-0.703331</td>\n",
       "      <td>2017-06-25 15:33:07</td>\n",
       "      <td>1.0</td>\n",
       "      <td>16</td>\n",
       "      <td>37</td>\n",
       "    </tr>\n",
       "    <tr>\n",
       "      <th>1</th>\n",
       "      <td>Y</td>\n",
       "      <td>C_ID_4e6213e9bc</td>\n",
       "      <td>88</td>\n",
       "      <td>N</td>\n",
       "      <td>0</td>\n",
       "      <td>A</td>\n",
       "      <td>367</td>\n",
       "      <td>M_ID_86ec983688</td>\n",
       "      <td>-7</td>\n",
       "      <td>-0.733128</td>\n",
       "      <td>2017-07-15 12:10:45</td>\n",
       "      <td>1.0</td>\n",
       "      <td>16</td>\n",
       "      <td>16</td>\n",
       "    </tr>\n",
       "    <tr>\n",
       "      <th>2</th>\n",
       "      <td>Y</td>\n",
       "      <td>C_ID_4e6213e9bc</td>\n",
       "      <td>88</td>\n",
       "      <td>N</td>\n",
       "      <td>0</td>\n",
       "      <td>A</td>\n",
       "      <td>80</td>\n",
       "      <td>M_ID_979ed661fc</td>\n",
       "      <td>-6</td>\n",
       "      <td>-0.720386</td>\n",
       "      <td>2017-08-09 22:04:29</td>\n",
       "      <td>1.0</td>\n",
       "      <td>16</td>\n",
       "      <td>37</td>\n",
       "    </tr>\n",
       "    <tr>\n",
       "      <th>3</th>\n",
       "      <td>Y</td>\n",
       "      <td>C_ID_4e6213e9bc</td>\n",
       "      <td>88</td>\n",
       "      <td>N</td>\n",
       "      <td>0</td>\n",
       "      <td>A</td>\n",
       "      <td>560</td>\n",
       "      <td>M_ID_e6d5ae8ea6</td>\n",
       "      <td>-5</td>\n",
       "      <td>-0.735352</td>\n",
       "      <td>2017-09-02 10:06:26</td>\n",
       "      <td>1.0</td>\n",
       "      <td>16</td>\n",
       "      <td>34</td>\n",
       "    </tr>\n",
       "    <tr>\n",
       "      <th>4</th>\n",
       "      <td>Y</td>\n",
       "      <td>C_ID_4e6213e9bc</td>\n",
       "      <td>88</td>\n",
       "      <td>N</td>\n",
       "      <td>0</td>\n",
       "      <td>A</td>\n",
       "      <td>80</td>\n",
       "      <td>M_ID_e020e9b302</td>\n",
       "      <td>-11</td>\n",
       "      <td>-0.722865</td>\n",
       "      <td>2017-03-10 01:14:19</td>\n",
       "      <td>1.0</td>\n",
       "      <td>16</td>\n",
       "      <td>37</td>\n",
       "    </tr>\n",
       "  </tbody>\n",
       "</table>\n",
       "</div>"
      ],
      "text/plain": [
       "  authorized_flag          card_id  city_id category_1  installments  \\\n",
       "0               Y  C_ID_4e6213e9bc       88          N             0   \n",
       "1               Y  C_ID_4e6213e9bc       88          N             0   \n",
       "2               Y  C_ID_4e6213e9bc       88          N             0   \n",
       "3               Y  C_ID_4e6213e9bc       88          N             0   \n",
       "4               Y  C_ID_4e6213e9bc       88          N             0   \n",
       "\n",
       "  category_3  merchant_category_id      merchant_id  month_lag  \\\n",
       "0          A                    80  M_ID_e020e9b302         -8   \n",
       "1          A                   367  M_ID_86ec983688         -7   \n",
       "2          A                    80  M_ID_979ed661fc         -6   \n",
       "3          A                   560  M_ID_e6d5ae8ea6         -5   \n",
       "4          A                    80  M_ID_e020e9b302        -11   \n",
       "\n",
       "   purchase_amount       purchase_date  category_2  state_id  subsector_id  \n",
       "0        -0.703331 2017-06-25 15:33:07         1.0        16            37  \n",
       "1        -0.733128 2017-07-15 12:10:45         1.0        16            16  \n",
       "2        -0.720386 2017-08-09 22:04:29         1.0        16            37  \n",
       "3        -0.735352 2017-09-02 10:06:26         1.0        16            34  \n",
       "4        -0.722865 2017-03-10 01:14:19         1.0        16            37  "
      ]
     },
     "execution_count": 29,
     "metadata": {
      "tags": []
     },
     "output_type": "execute_result"
    }
   ],
   "source": [
    "df_histTrans.head(5)"
   ]
  },
  {
   "cell_type": "code",
   "execution_count": null,
   "metadata": {
    "colab": {
     "base_uri": "https://localhost:8080/"
    },
    "id": "I9fZkqIU_f-X",
    "outputId": "36b1ef00-5738-4abe-c76b-8e6236aa0043"
   },
   "outputs": [
    {
     "name": "stdout",
     "output_type": "stream",
     "text": [
      "<class 'pandas.core.frame.DataFrame'>\n",
      "RangeIndex: 29112361 entries, 0 to 29112360\n",
      "Data columns (total 14 columns):\n",
      " #   Column                Dtype         \n",
      "---  ------                -----         \n",
      " 0   authorized_flag       object        \n",
      " 1   card_id               object        \n",
      " 2   city_id               int16         \n",
      " 3   category_1            object        \n",
      " 4   installments          int16         \n",
      " 5   category_3            object        \n",
      " 6   merchant_category_id  int16         \n",
      " 7   merchant_id           object        \n",
      " 8   month_lag             int8          \n",
      " 9   purchase_amount       float32       \n",
      " 10  purchase_date         datetime64[ns]\n",
      " 11  category_2            float16       \n",
      " 12  state_id              int8          \n",
      " 13  subsector_id          int8          \n",
      "dtypes: datetime64[ns](1), float16(1), float32(1), int16(3), int8(3), object(5)\n",
      "memory usage: 1.7+ GB\n"
     ]
    }
   ],
   "source": [
    "df_histTrans.info()"
   ]
  },
  {
   "cell_type": "code",
   "execution_count": null,
   "metadata": {
    "colab": {
     "base_uri": "https://localhost:8080/"
    },
    "id": "0oLKomHi_f-Y",
    "outputId": "aec0b0ca-9bf3-408d-ac61-e8d99c8e675e"
   },
   "outputs": [
    {
     "name": "stdout",
     "output_type": "stream",
     "text": [
      "Mem. usage decreased to 114.20 Mb (45.5% reduction)\n",
      "No. of data points in new_merchant_transactions: 1963031\n"
     ]
    }
   ],
   "source": [
    "df_newTrans = reduce_mem_usage(pd.read_csv(\"new_merchant_transactions.csv\", parse_dates=['purchase_date']))\n",
    "print(\"No. of data points in new_merchant_transactions:\", df_newTrans.shape[0])"
   ]
  },
  {
   "cell_type": "code",
   "execution_count": null,
   "metadata": {
    "colab": {
     "base_uri": "https://localhost:8080/",
     "height": 309
    },
    "id": "SKoP9siY_f-Z",
    "outputId": "39e49ffe-22d8-4754-94b0-8b97ae48b2ec"
   },
   "outputs": [
    {
     "data": {
      "text/html": [
       "<div>\n",
       "<style scoped>\n",
       "    .dataframe tbody tr th:only-of-type {\n",
       "        vertical-align: middle;\n",
       "    }\n",
       "\n",
       "    .dataframe tbody tr th {\n",
       "        vertical-align: top;\n",
       "    }\n",
       "\n",
       "    .dataframe thead th {\n",
       "        text-align: right;\n",
       "    }\n",
       "</style>\n",
       "<table border=\"1\" class=\"dataframe\">\n",
       "  <thead>\n",
       "    <tr style=\"text-align: right;\">\n",
       "      <th></th>\n",
       "      <th>authorized_flag</th>\n",
       "      <th>card_id</th>\n",
       "      <th>city_id</th>\n",
       "      <th>category_1</th>\n",
       "      <th>installments</th>\n",
       "      <th>category_3</th>\n",
       "      <th>merchant_category_id</th>\n",
       "      <th>merchant_id</th>\n",
       "      <th>month_lag</th>\n",
       "      <th>purchase_amount</th>\n",
       "      <th>purchase_date</th>\n",
       "      <th>category_2</th>\n",
       "      <th>state_id</th>\n",
       "      <th>subsector_id</th>\n",
       "    </tr>\n",
       "  </thead>\n",
       "  <tbody>\n",
       "    <tr>\n",
       "      <th>0</th>\n",
       "      <td>Y</td>\n",
       "      <td>C_ID_415bb3a509</td>\n",
       "      <td>107</td>\n",
       "      <td>N</td>\n",
       "      <td>1</td>\n",
       "      <td>B</td>\n",
       "      <td>307</td>\n",
       "      <td>M_ID_b0c793002c</td>\n",
       "      <td>1</td>\n",
       "      <td>-0.557617</td>\n",
       "      <td>2018-03-11 14:57:36</td>\n",
       "      <td>1.0</td>\n",
       "      <td>9</td>\n",
       "      <td>19</td>\n",
       "    </tr>\n",
       "    <tr>\n",
       "      <th>1</th>\n",
       "      <td>Y</td>\n",
       "      <td>C_ID_415bb3a509</td>\n",
       "      <td>140</td>\n",
       "      <td>N</td>\n",
       "      <td>1</td>\n",
       "      <td>B</td>\n",
       "      <td>307</td>\n",
       "      <td>M_ID_88920c89e8</td>\n",
       "      <td>1</td>\n",
       "      <td>-0.569336</td>\n",
       "      <td>2018-03-19 18:53:37</td>\n",
       "      <td>1.0</td>\n",
       "      <td>9</td>\n",
       "      <td>19</td>\n",
       "    </tr>\n",
       "    <tr>\n",
       "      <th>2</th>\n",
       "      <td>Y</td>\n",
       "      <td>C_ID_415bb3a509</td>\n",
       "      <td>330</td>\n",
       "      <td>N</td>\n",
       "      <td>1</td>\n",
       "      <td>B</td>\n",
       "      <td>507</td>\n",
       "      <td>M_ID_ad5237ef6b</td>\n",
       "      <td>2</td>\n",
       "      <td>-0.551270</td>\n",
       "      <td>2018-04-26 14:08:44</td>\n",
       "      <td>1.0</td>\n",
       "      <td>9</td>\n",
       "      <td>14</td>\n",
       "    </tr>\n",
       "    <tr>\n",
       "      <th>3</th>\n",
       "      <td>Y</td>\n",
       "      <td>C_ID_415bb3a509</td>\n",
       "      <td>-1</td>\n",
       "      <td>Y</td>\n",
       "      <td>1</td>\n",
       "      <td>B</td>\n",
       "      <td>661</td>\n",
       "      <td>M_ID_9e84cda3b1</td>\n",
       "      <td>1</td>\n",
       "      <td>-0.671875</td>\n",
       "      <td>2018-03-07 09:43:21</td>\n",
       "      <td>NaN</td>\n",
       "      <td>-1</td>\n",
       "      <td>8</td>\n",
       "    </tr>\n",
       "    <tr>\n",
       "      <th>4</th>\n",
       "      <td>Y</td>\n",
       "      <td>C_ID_ef55cf8d4b</td>\n",
       "      <td>-1</td>\n",
       "      <td>Y</td>\n",
       "      <td>1</td>\n",
       "      <td>B</td>\n",
       "      <td>166</td>\n",
       "      <td>M_ID_3c86fa3831</td>\n",
       "      <td>1</td>\n",
       "      <td>-0.659668</td>\n",
       "      <td>2018-03-22 21:07:53</td>\n",
       "      <td>NaN</td>\n",
       "      <td>-1</td>\n",
       "      <td>29</td>\n",
       "    </tr>\n",
       "  </tbody>\n",
       "</table>\n",
       "</div>"
      ],
      "text/plain": [
       "  authorized_flag          card_id  city_id category_1  installments  \\\n",
       "0               Y  C_ID_415bb3a509      107          N             1   \n",
       "1               Y  C_ID_415bb3a509      140          N             1   \n",
       "2               Y  C_ID_415bb3a509      330          N             1   \n",
       "3               Y  C_ID_415bb3a509       -1          Y             1   \n",
       "4               Y  C_ID_ef55cf8d4b       -1          Y             1   \n",
       "\n",
       "  category_3  merchant_category_id      merchant_id  month_lag  \\\n",
       "0          B                   307  M_ID_b0c793002c          1   \n",
       "1          B                   307  M_ID_88920c89e8          1   \n",
       "2          B                   507  M_ID_ad5237ef6b          2   \n",
       "3          B                   661  M_ID_9e84cda3b1          1   \n",
       "4          B                   166  M_ID_3c86fa3831          1   \n",
       "\n",
       "   purchase_amount       purchase_date  category_2  state_id  subsector_id  \n",
       "0        -0.557617 2018-03-11 14:57:36         1.0         9            19  \n",
       "1        -0.569336 2018-03-19 18:53:37         1.0         9            19  \n",
       "2        -0.551270 2018-04-26 14:08:44         1.0         9            14  \n",
       "3        -0.671875 2018-03-07 09:43:21         NaN        -1             8  \n",
       "4        -0.659668 2018-03-22 21:07:53         NaN        -1            29  "
      ]
     },
     "execution_count": 32,
     "metadata": {
      "tags": []
     },
     "output_type": "execute_result"
    }
   ],
   "source": [
    "df_newTrans.head(5)"
   ]
  },
  {
   "cell_type": "code",
   "execution_count": null,
   "metadata": {
    "colab": {
     "base_uri": "https://localhost:8080/"
    },
    "id": "Y-PyHqVO_f-Z",
    "outputId": "bded2755-6d29-49c3-cc25-8091aabef5d6"
   },
   "outputs": [
    {
     "name": "stdout",
     "output_type": "stream",
     "text": [
      "<class 'pandas.core.frame.DataFrame'>\n",
      "RangeIndex: 1963031 entries, 0 to 1963030\n",
      "Data columns (total 14 columns):\n",
      " #   Column                Dtype         \n",
      "---  ------                -----         \n",
      " 0   authorized_flag       object        \n",
      " 1   card_id               object        \n",
      " 2   city_id               int16         \n",
      " 3   category_1            object        \n",
      " 4   installments          int16         \n",
      " 5   category_3            object        \n",
      " 6   merchant_category_id  int16         \n",
      " 7   merchant_id           object        \n",
      " 8   month_lag             int8          \n",
      " 9   purchase_amount       float16       \n",
      " 10  purchase_date         datetime64[ns]\n",
      " 11  category_2            float16       \n",
      " 12  state_id              int8          \n",
      " 13  subsector_id          int8          \n",
      "dtypes: datetime64[ns](1), float16(2), int16(3), int8(3), object(5)\n",
      "memory usage: 114.2+ MB\n"
     ]
    }
   ],
   "source": [
    "df_newTrans.info()"
   ]
  },
  {
   "cell_type": "markdown",
   "metadata": {
    "id": "Kmvl4R1f_f-Z"
   },
   "source": [
    "<h3> 3.2.1 Checking if there are any null values and replacing them </h3>"
   ]
  },
  {
   "cell_type": "code",
   "execution_count": null,
   "metadata": {
    "colab": {
     "base_uri": "https://localhost:8080/"
    },
    "id": "iNLLTA3y_f-Z",
    "outputId": "d778aa69-61c7-4dbf-de8b-26c55b787133"
   },
   "outputs": [
    {
     "name": "stdout",
     "output_type": "stream",
     "text": [
      "Columns having null values in historical_transactions ['category_3', 'merchant_id', 'category_2']\n"
     ]
    }
   ],
   "source": [
    "#https://stackoverflow.com/questions/36226083/how-to-find-which-columns-contain-any-nan-value-in-pandas-dataframe\n",
    "print(\"Columns having null values in historical_transactions\", df_histTrans.columns[df_histTrans.isnull().any()].tolist())"
   ]
  },
  {
   "cell_type": "code",
   "execution_count": null,
   "metadata": {
    "colab": {
     "base_uri": "https://localhost:8080/"
    },
    "id": "RmR2uk0lI8BH",
    "outputId": "aea97db1-c236-47b8-e79b-ebf717b1cf61"
   },
   "outputs": [
    {
     "name": "stdout",
     "output_type": "stream",
     "text": [
      "Percentage of values rows having the null values\n",
      "category_3     0.611970\n",
      "merchant_id    0.475678\n",
      "category_2     9.112500\n",
      "dtype: float64\n"
     ]
    }
   ],
   "source": [
    "print(\"Percentage of values rows having the null values\")\n",
    "print((df_histTrans[df_histTrans.columns[df_histTrans.isnull().any()].tolist()].isnull().sum()/df_histTrans.shape[0])*100)"
   ]
  },
  {
   "cell_type": "markdown",
   "metadata": {
    "id": "0oGclJ2q_f-Z"
   },
   "source": [
    "*   Columns category_3 and and merchant_id have very low % of missing values, whereas category_2 have 9% missing rows.\n",
    "*   Since category_2 have lot of missing values we can introduce a new value for this missing values.\n",
    "*   Rest of the missing rows can be filled with the modes since only a few % have them missing.\n"
   ]
  },
  {
   "cell_type": "code",
   "execution_count": null,
   "metadata": {
    "colab": {
     "base_uri": "https://localhost:8080/"
    },
    "id": "WaExkqZr_f-Z",
    "outputId": "cd2c324a-83d5-4f7f-bcb0-7445f8e03337"
   },
   "outputs": [
    {
     "name": "stdout",
     "output_type": "stream",
     "text": [
      "Mode of Category 3: A\n"
     ]
    }
   ],
   "source": [
    "mode_C3 = df_histTrans['category_3'].mode().values[0]\n",
    "print(\"Mode of Category 3:\", mode_C3)\n",
    "df_histTrans['category_3'] = df_histTrans[\"category_3\"].fillna(mode_C3)"
   ]
  },
  {
   "cell_type": "code",
   "execution_count": null,
   "metadata": {
    "id": "o0Txj8ZhxSlY",
    "outputId": "42b2fbc7-3e35-47e9-ab02-43334a051c53"
   },
   "outputs": [
    {
     "data": {
      "text/plain": [
       "1.0    15177199\n",
       "3.0     3911795\n",
       "5.0     3725915\n",
       "4.0     2618053\n",
       "2.0     1026535\n",
       "Name: category_2, dtype: int64"
      ]
     },
     "execution_count": 37,
     "metadata": {
      "tags": []
     },
     "output_type": "execute_result"
    }
   ],
   "source": [
    "df_histTrans['category_2'].value_counts()"
   ]
  },
  {
   "cell_type": "code",
   "execution_count": null,
   "metadata": {
    "id": "rUOqCexq_f-Z"
   },
   "outputs": [],
   "source": [
    "# New category for the missing values\n",
    "unknown  = 6.0\n",
    "df_histTrans['category_2'] = df_histTrans[\"category_2\"].fillna(unknown)"
   ]
  },
  {
   "cell_type": "code",
   "execution_count": null,
   "metadata": {
    "colab": {
     "base_uri": "https://localhost:8080/"
    },
    "id": "VnhyVPtf_f-a",
    "outputId": "d85de3bf-d0d9-4e33-dcdc-3c76421ec1d2"
   },
   "outputs": [
    {
     "name": "stdout",
     "output_type": "stream",
     "text": [
      "Mode of merchant_id: M_ID_00a6ca8a8a\n"
     ]
    }
   ],
   "source": [
    "mode_merchantid = df_histTrans['merchant_id'].mode().values[0]\n",
    "print(\"Mode of merchant_id:\", mode_merchantid)\n",
    "df_histTrans['merchant_id'] = df_histTrans[\"merchant_id\"].fillna(mode_merchantid)"
   ]
  },
  {
   "cell_type": "code",
   "execution_count": null,
   "metadata": {
    "colab": {
     "base_uri": "https://localhost:8080/"
    },
    "id": "8PQZw_Jx_f-a",
    "outputId": "3abe6584-2412-4c64-ea2e-d1ab749feb68"
   },
   "outputs": [
    {
     "name": "stdout",
     "output_type": "stream",
     "text": [
      "Columns having null values in new_merchant_transactions ['category_3', 'merchant_id', 'category_2']\n"
     ]
    }
   ],
   "source": [
    "print(\"Columns having null values in new_merchant_transactions\", df_newTrans.columns[df_newTrans.isnull().any()].tolist())"
   ]
  },
  {
   "cell_type": "code",
   "execution_count": null,
   "metadata": {
    "colab": {
     "base_uri": "https://localhost:8080/"
    },
    "id": "BSZiRlFKR4Ed",
    "outputId": "232790e4-53d5-46b5-90dc-8579c1b36217"
   },
   "outputs": [
    {
     "name": "stdout",
     "output_type": "stream",
     "text": [
      "Percentage of values rows having the null values\n",
      "category_3     2.848758\n",
      "merchant_id    1.335486\n",
      "category_2     5.692473\n",
      "dtype: float64\n"
     ]
    }
   ],
   "source": [
    "print(\"Percentage of values rows having the null values\")\n",
    "print((df_newTrans[df_newTrans.columns[df_newTrans.isnull().any()].tolist()].isnull().sum()/df_newTrans.shape[0])*100)"
   ]
  },
  {
   "cell_type": "markdown",
   "metadata": {
    "id": "CjEcBsXW_f-b"
   },
   "source": [
    "*  There is a very small % of missing rows for category_3 and merchant_id. We can replace these values with their modes.\n",
    "*  However for category_2 we will use the new category that we used above."
   ]
  },
  {
   "cell_type": "code",
   "execution_count": null,
   "metadata": {
    "colab": {
     "base_uri": "https://localhost:8080/"
    },
    "id": "8lVs5zCh_f-b",
    "outputId": "e97f4b5a-d8a9-4d6a-e3db-235fad455a3d"
   },
   "outputs": [
    {
     "name": "stdout",
     "output_type": "stream",
     "text": [
      "Mode of Category 3: A\n"
     ]
    }
   ],
   "source": [
    "mode_C3 = df_newTrans['category_3'].mode().values[0]\n",
    "print(\"Mode of Category 3:\", mode_C3)\n",
    "df_newTrans['category_3'] = df_newTrans[\"category_3\"].fillna(mode_C3)"
   ]
  },
  {
   "cell_type": "code",
   "execution_count": null,
   "metadata": {
    "id": "oBS30j4q_f-b"
   },
   "outputs": [],
   "source": [
    "df_newTrans['category_2'] = df_newTrans[\"category_2\"].fillna(unknown)"
   ]
  },
  {
   "cell_type": "code",
   "execution_count": null,
   "metadata": {
    "colab": {
     "base_uri": "https://localhost:8080/"
    },
    "id": "Pn4IdTzH_f-b",
    "outputId": "bdd24f26-84d3-4389-e96a-142aa7492fef"
   },
   "outputs": [
    {
     "name": "stdout",
     "output_type": "stream",
     "text": [
      "Mode of merchant_id: M_ID_00a6ca8a8a\n"
     ]
    }
   ],
   "source": [
    "mode_merchantid = df_newTrans['merchant_id'].mode().values[0]\n",
    "print(\"Mode of merchant_id:\", mode_merchantid)\n",
    "df_newTrans['merchant_id'] = df_newTrans[\"merchant_id\"].fillna(mode_merchantid)"
   ]
  },
  {
   "cell_type": "markdown",
   "metadata": {
    "id": "vo2kwfqX_f-c"
   },
   "source": [
    "<h3> 3.2.2 Analysis on authorized flag </h3>"
   ]
  },
  {
   "cell_type": "code",
   "execution_count": null,
   "metadata": {
    "id": "IEnRPX51_f-c"
   },
   "outputs": [],
   "source": [
    "df_histTrans['authorized_flag'] = df_histTrans['authorized_flag'].apply(lambda x : 1 if x == 'Y' else 0)\n",
    "df_newTrans['authorized_flag'] = df_newTrans['authorized_flag'].apply(lambda x : 1 if x == 'Y' else 0)"
   ]
  },
  {
   "cell_type": "code",
   "execution_count": null,
   "metadata": {
    "colab": {
     "base_uri": "https://localhost:8080/"
    },
    "id": "xXHJdcXP_f-c",
    "outputId": "fdf48cdb-b371-4a4f-adf3-2353613775dc"
   },
   "outputs": [
    {
     "data": {
      "text/plain": [
       "1    1963031\n",
       "Name: authorized_flag, dtype: int64"
      ]
     },
     "execution_count": 42,
     "metadata": {
      "tags": []
     },
     "output_type": "execute_result"
    }
   ],
   "source": [
    "df_newTrans['authorized_flag'].value_counts()"
   ]
  },
  {
   "cell_type": "code",
   "execution_count": null,
   "metadata": {
    "colab": {
     "base_uri": "https://localhost:8080/",
     "height": 276
    },
    "id": "wW_HH-vO_f-c",
    "outputId": "9d8518c6-33ee-456e-8181-6138752b3db1"
   },
   "outputs": [
    {
     "data": {
      "image/png": "[encoded data removed]",
      "text/plain": [
       "<Figure size 432x288 with 1 Axes>"
      ]
     },
     "metadata": {
      "tags": []
     },
     "output_type": "display_data"
    }
   ],
   "source": [
    "x = np.array(['authorized', 'unauthorized'])\n",
    "plt.bar(x, [df_histTrans['authorized_flag'].value_counts().values[0], df_histTrans['authorized_flag'].value_counts().values[1]], width=-0.3, align='edge', label='historical_transactions', edgecolor=[0.2]*3)\n",
    "plt.bar(x, [df_newTrans['authorized_flag'].value_counts().values[0], 0], width=0.3, align='edge', label='new_merchant_transactions', edgecolor=[0.2]*3)\n",
    "plt.legend()\n",
    "plt.show()"
   ]
  },
  {
   "cell_type": "markdown",
   "metadata": {
    "id": "7jDXcepN_f-d"
   },
   "source": [
    "\n",
    "\n",
    "*   There are some transactions in historical_transactions which are not authorized. We can combine these transactions with their respective card_id and see what are their loyalty scores.\n",
    "*   We don't have any unauthorized transactions in new_merchant_transactions,we can drop this column from new_merchant_transactions as all the values are same.\n",
    "\n"
   ]
  },
  {
   "cell_type": "markdown",
   "metadata": {
    "id": "cgY5TuGM_f-d"
   },
   "source": [
    "<h4> 3.2.2.1 Analysis on loyalty scores of card ids who have done unauthorized, authorized transactions transactions </h4>"
   ]
  },
  {
   "cell_type": "code",
   "execution_count": null,
   "metadata": {
    "id": "9zzcFr4M_f-d"
   },
   "outputs": [],
   "source": [
    "cardids_UnAuth = list(set(df_histTrans.loc[df_histTrans['authorized_flag'] == 0]['card_id']))"
   ]
  },
  {
   "cell_type": "code",
   "execution_count": null,
   "metadata": {
    "id": "23gZ8iJH_f-d"
   },
   "outputs": [],
   "source": [
    "#https://stackoverflow.com/questions/12096252/use-a-list-of-values-to-select-rows-from-a-pandas-dataframe\n",
    "loyalty_Scores_UnAuth = df_train[df_train['card_id'].isin(cardids_UnAuth)]['target']"
   ]
  },
  {
   "cell_type": "code",
   "execution_count": null,
   "metadata": {
    "id": "Y4FuJqrXSERv"
   },
   "outputs": [],
   "source": [
    "cardids_Auth = list(set(df_histTrans.loc[df_histTrans['authorized_flag'] == 1]['card_id']))"
   ]
  },
  {
   "cell_type": "code",
   "execution_count": null,
   "metadata": {
    "id": "Mtbp4BjJSHRJ"
   },
   "outputs": [],
   "source": [
    "loyalty_Scores_Auth = df_train[df_train['card_id'].isin(cardids_UnAuth)]['target']"
   ]
  },
  {
   "cell_type": "code",
   "execution_count": null,
   "metadata": {
    "id": "CBFth7PYSUqr"
   },
   "outputs": [],
   "source": [
    "data = {'Auth_Data' : loyalty_Scores_Auth,\n",
    "        'UnAuth_Data' : loyalty_Scores_UnAuth\n",
    "}\n",
    "data = pd.DataFrame(data)"
   ]
  },
  {
   "cell_type": "code",
   "execution_count": null,
   "metadata": {
    "colab": {
     "base_uri": "https://localhost:8080/",
     "height": 281
    },
    "id": "1dQPRu2GW5Ce",
    "outputId": "dfe5f310-098e-41b6-94b2-f1beeb121d14"
   },
   "outputs": [
    {
     "data": {
      "image/png": "[encoded data removed]",
      "text/plain": [
       "<Figure size 432x288 with 1 Axes>"
      ]
     },
     "metadata": {
      "tags": []
     },
     "output_type": "display_data"
    }
   ],
   "source": [
    "plt.hist(loyalty_Scores_UnAuth, color='g', label='Unauthorized_Trans')\n",
    "plt.hist(loyalty_Scores_Auth, color='r', label='Authorized_Trans')\n",
    "plt.gca().set(title='Authorized and Unauthorized transactions', ylabel='Count')\n",
    "plt.legend();"
   ]
  },
  {
   "cell_type": "markdown",
   "metadata": {
    "id": "4MN7XbnM_f-e"
   },
   "source": [
    "\n",
    "\n",
    "*   This seems to be evenly distributed not much can be deduced from these loyalty scores.\n",
    "* The distributions are both similar so the latter overshadows the former.\n",
    "*   Unauthorized transactions aren't really affecting the loyalty score.\n",
    "*   They can be due to some error in network or other reasons.\n",
    "\n"
   ]
  },
  {
   "cell_type": "markdown",
   "metadata": {
    "id": "ZZk5sWp6_f-e"
   },
   "source": [
    "<h3> 3.2.3 Analysis on categorical features </h3>"
   ]
  },
  {
   "cell_type": "markdown",
   "metadata": {
    "id": "EQZYLxNo_f-e"
   },
   "source": [
    "<h4> 3.2.3.1 City Id </h4>"
   ]
  },
  {
   "cell_type": "code",
   "execution_count": null,
   "metadata": {
    "colab": {
     "base_uri": "https://localhost:8080/"
    },
    "id": "llDqJ69K_f-e",
    "outputId": "3adcf1e1-5b72-4ff4-8783-a7227b1a3904"
   },
   "outputs": [
    {
     "name": "stdout",
     "output_type": "stream",
     "text": [
      "No. of unique city ids 308\n"
     ]
    }
   ],
   "source": [
    "cityids = list(set(df_histTrans['city_id']))\n",
    "cityids.extend(list(set(df_newTrans['city_id'])))\n",
    "print(\"No. of unique city ids\", len(list(set(cityids))))"
   ]
  },
  {
   "cell_type": "markdown",
   "metadata": {
    "id": "l1P3jzQB_f-e"
   },
   "source": [
    "- Seeing whether these feature will be useful or not. We will group all the card ids by the installments and take average of the loyalty score by the installments. ."
   ]
  },
  {
   "cell_type": "code",
   "execution_count": null,
   "metadata": {
    "id": "ngaliZkI_f-e"
   },
   "outputs": [],
   "source": [
    "groupedCardIds = df_histTrans.groupby('city_id')['card_id'].apply(list)"
   ]
  },
  {
   "cell_type": "code",
   "execution_count": null,
   "metadata": {
    "id": "X6NaWBT7_f-f"
   },
   "outputs": [],
   "source": [
    "listOfLoyaltyScores = []\n",
    "for i in range(308):\n",
    "    listOfAllUniqueIds = list(set(groupedCardIds.values[i]))\n",
    "    sumOfLoyaltyScores = np.sum(df_train[df_train['card_id'].isin(listOfAllUniqueIds)]['target'])\n",
    "    listOfLoyaltyScores.append(sumOfLoyaltyScores)"
   ]
  },
  {
   "cell_type": "code",
   "execution_count": null,
   "metadata": {
    "id": "eNRGhqw4_f-f"
   },
   "outputs": [],
   "source": [
    "data = {'City_Ids': list(groupedCardIds.keys()), \n",
    "        'Mean_Loyalty_Scores': listOfLoyaltyScores}\n",
    "data = pd.DataFrame(data)"
   ]
  },
  {
   "cell_type": "code",
   "execution_count": null,
   "metadata": {
    "colab": {
     "base_uri": "https://localhost:8080/",
     "height": 369
    },
    "id": "Ng6Bgyoh_f-f",
    "outputId": "96331cf2-6975-4843-a289-e562d130eb5c"
   },
   "outputs": [
    {
     "data": {
      "image/png": "[encoded data removed]",
      "text/plain": [
       "<Figure size 368x360 with 1 Axes>"
      ]
     },
     "metadata": {
      "tags": []
     },
     "output_type": "display_data"
    }
   ],
   "source": [
    "sns.FacetGrid(data, size = 5)\\\n",
    "    .map(plt.scatter, 'City_Ids', 'Mean_Loyalty_Scores')\\\n",
    "    .add_legend()\n",
    "plt.show()"
   ]
  },
  {
   "cell_type": "markdown",
   "metadata": {
    "id": "qheUIeEV_f-f"
   },
   "source": [
    "- There is no such trend that can be seen. We can ignore these features."
   ]
  },
  {
   "cell_type": "markdown",
   "metadata": {
    "id": "4bQGCEMo_f-g"
   },
   "source": [
    "<h4> 3.2.3.2  State Id </h4>"
   ]
  },
  {
   "cell_type": "code",
   "execution_count": null,
   "metadata": {
    "colab": {
     "base_uri": "https://localhost:8080/"
    },
    "id": "WYxiB080_f-g",
    "outputId": "187d6796-d304-486d-8715-545b47e6c3e8"
   },
   "outputs": [
    {
     "name": "stdout",
     "output_type": "stream",
     "text": [
      "No. of unique state ids 25\n"
     ]
    }
   ],
   "source": [
    "stateids = list(set(df_histTrans['state_id']))\n",
    "stateids.extend(list(set(df_newTrans['state_id'])))\n",
    "print(\"No. of unique state ids\", len(list(set(stateids))))"
   ]
  },
  {
   "cell_type": "code",
   "execution_count": null,
   "metadata": {
    "colab": {
     "base_uri": "https://localhost:8080/",
     "height": 441
    },
    "id": "xd9xXg_Z_f-g",
    "outputId": "52d3fede-172f-46f8-91e3-4cca4da387bc"
   },
   "outputs": [
    {
     "data": {
      "image/png": "[encoded data removed]",
      "text/plain": [
       "<Figure size 504x504 with 1 Axes>"
      ]
     },
     "metadata": {
      "tags": []
     },
     "output_type": "display_data"
    }
   ],
   "source": [
    "fig, ax = plt.subplots(1, 1, figsize = (7,7))\n",
    "df_histTrans['state_id'].value_counts().plot(kind = 'barh')\n",
    "plt.show()"
   ]
  },
  {
   "cell_type": "code",
   "execution_count": null,
   "metadata": {
    "colab": {
     "base_uri": "https://localhost:8080/",
     "height": 428
    },
    "id": "n5MQTRmy_f-g",
    "outputId": "6e9dcf50-f1f0-4573-dc5d-ab8f6fefc3da"
   },
   "outputs": [
    {
     "data": {
      "image/png": "[encoded data removed]",
      "text/plain": [
       "<Figure size 504x504 with 1 Axes>"
      ]
     },
     "metadata": {
      "tags": []
     },
     "output_type": "display_data"
    }
   ],
   "source": [
    "fig, ax = plt.subplots(1, 1, figsize = (7,7))\n",
    "df_newTrans['state_id'].value_counts().plot(kind = 'barh')\n",
    "plt.show()"
   ]
  },
  {
   "cell_type": "markdown",
   "metadata": {
    "id": "tzJ_A6wS_f-g"
   },
   "source": [
    "- State 9 is most occuring "
   ]
  },
  {
   "cell_type": "markdown",
   "metadata": {
    "id": "85iNs1D51w-B"
   },
   "source": [
    "<h4> 3.2.3.3 Analysis on both city_id and state_id </h4>"
   ]
  },
  {
   "cell_type": "code",
   "execution_count": null,
   "metadata": {
    "id": "gZMohBgx1_s4"
   },
   "outputs": [],
   "source": [
    "groupedCardIds = df_histTrans.groupby(['city_id', 'state_id'])['card_id'].apply(list)"
   ]
  },
  {
   "cell_type": "code",
   "execution_count": null,
   "metadata": {
    "id": "6Sv5Nzim2L6e"
   },
   "outputs": [],
   "source": [
    "listOfLoyaltyScores = []\n",
    "for i in range(len(groupedCardIds)):\n",
    "    listOfAllUniqueIds = list(set(groupedCardIds.values[i]))\n",
    "    sumOfLoyaltyScores = np.sum(df_train[df_train['card_id'].isin(listOfAllUniqueIds)]['target'])\n",
    "    listOfLoyaltyScores.append(sumOfLoyaltyScores)"
   ]
  },
  {
   "cell_type": "code",
   "execution_count": null,
   "metadata": {
    "id": "qDA5h34f3YjI"
   },
   "outputs": [],
   "source": [
    "listOfAllUniqueCombn = [str(groupedCardIds.keys()[i]) for i in range(len(groupedCardIds))]"
   ]
  },
  {
   "cell_type": "code",
   "execution_count": null,
   "metadata": {
    "id": "LHugn-y-2das"
   },
   "outputs": [],
   "source": [
    "data = {'City_Id + State_Id': listOfAllUniqueCombn, \n",
    "        'Mean_Loyalty_Scores': listOfLoyaltyScores}\n",
    "data = pd.DataFrame(data)"
   ]
  },
  {
   "cell_type": "code",
   "execution_count": null,
   "metadata": {
    "colab": {
     "base_uri": "https://localhost:8080/",
     "height": 729
    },
    "id": "d_lD9C472mjr",
    "outputId": "f5e387a2-a663-4fe3-c248-029c60563009"
   },
   "outputs": [
    {
     "data": {
      "image/png": "[encoded data removed]",
      "text/plain": [
       "<Figure size 728x720 with 1 Axes>"
      ]
     },
     "metadata": {
      "tags": []
     },
     "output_type": "display_data"
    }
   ],
   "source": [
    "sns.FacetGrid(data, size = 10)\\\n",
    "    .map(plt.scatter, 'City_Id + State_Id', 'Mean_Loyalty_Scores')\\\n",
    "    .add_legend()\n",
    "plt.show()"
   ]
  },
  {
   "cell_type": "markdown",
   "metadata": {
    "id": "h7JuNfwG5l21"
   },
   "source": [
    "- No such trend can be seen."
   ]
  },
  {
   "cell_type": "markdown",
   "metadata": {
    "id": "U5oR4y4y_f-f"
   },
   "source": [
    "<h4> 3.2.3.4 Merchant Category Id </h4>"
   ]
  },
  {
   "cell_type": "code",
   "execution_count": null,
   "metadata": {
    "colab": {
     "base_uri": "https://localhost:8080/"
    },
    "id": "Z94HLGEG_f-f",
    "outputId": "8a1a5041-1d0e-4dfc-c083-15b84f0e05f3"
   },
   "outputs": [
    {
     "name": "stdout",
     "output_type": "stream",
     "text": [
      "No. of unique merchant category ids 331\n"
     ]
    }
   ],
   "source": [
    "mercCategoryIds = list(set(df_histTrans['merchant_category_id']))\n",
    "mercCategoryIds.extend(list(set(df_newTrans['merchant_category_id'])))\n",
    "print(\"No. of unique merchant category ids\", len(list(set(mercCategoryIds))))"
   ]
  },
  {
   "cell_type": "markdown",
   "metadata": {
    "id": "Ht5Ygk6y_f-f"
   },
   "source": [
    "<h4> 3.2.3.5  Merchant Id </h4>"
   ]
  },
  {
   "cell_type": "code",
   "execution_count": null,
   "metadata": {
    "colab": {
     "base_uri": "https://localhost:8080/"
    },
    "id": "DFvGyYr__f-f",
    "outputId": "27f41866-01f5-4051-fe87-7f0c1e0b365a"
   },
   "outputs": [
    {
     "name": "stdout",
     "output_type": "stream",
     "text": [
      "No. of unique merchant ids 334633\n"
     ]
    }
   ],
   "source": [
    "mercids = list(set(df_histTrans['merchant_id']))\n",
    "mercids.extend(list(set(df_newTrans['merchant_id'])))\n",
    "print(\"No. of unique merchant ids\", len(list(set(mercids))))"
   ]
  },
  {
   "cell_type": "markdown",
   "metadata": {
    "id": "HwxoeTup_f-h"
   },
   "source": [
    "<h4> 3.2.3.6 Subsector Id </h4>"
   ]
  },
  {
   "cell_type": "code",
   "execution_count": null,
   "metadata": {
    "colab": {
     "base_uri": "https://localhost:8080/"
    },
    "id": "bR6GywU0_f-h",
    "outputId": "67e79fa0-0086-4ec6-d1d7-3dc01be77cfe"
   },
   "outputs": [
    {
     "name": "stdout",
     "output_type": "stream",
     "text": [
      "No. of subsector ids 41\n"
     ]
    }
   ],
   "source": [
    "subsectorids = list(set(df_histTrans['subsector_id']))\n",
    "subsectorids.extend(list(set(df_newTrans['subsector_id'])))\n",
    "print(\"No. of subsector ids\", len(list(set(subsectorids))))"
   ]
  },
  {
   "cell_type": "markdown",
   "metadata": {
    "id": "UODRX0bn_f-h"
   },
   "source": [
    "<h4> 3.2.3.7 category_1</h4>"
   ]
  },
  {
   "cell_type": "code",
   "execution_count": null,
   "metadata": {
    "colab": {
     "base_uri": "https://localhost:8080/"
    },
    "id": "_gDnExFN_f-h",
    "outputId": "9cde7d9a-f0c2-45c3-aedc-aa00fd1ec6d5"
   },
   "outputs": [
    {
     "name": "stdout",
     "output_type": "stream",
     "text": [
      "No. of unique category_1 values: 2\n"
     ]
    }
   ],
   "source": [
    "category1 = list(set(df_histTrans['category_1']))\n",
    "category1.extend(list(set(df_newTrans['category_1'])))\n",
    "print(\"No. of unique category_1 values:\", len(list(set(category1))))"
   ]
  },
  {
   "cell_type": "code",
   "execution_count": null,
   "metadata": {
    "colab": {
     "base_uri": "https://localhost:8080/",
     "height": 276
    },
    "id": "zOXToVPl_f-h",
    "outputId": "e6977dc2-cb64-4c4c-8799-30a76e72b6b3"
   },
   "outputs": [
    {
     "data": {
      "image/png": "[encoded data removed]",
      "text/plain": [
       "<Figure size 432x288 with 1 Axes>"
      ]
     },
     "metadata": {
      "tags": []
     },
     "output_type": "display_data"
    }
   ],
   "source": [
    "x = np.array(['N', 'Y'])\n",
    "plt.bar(x, [df_histTrans['category_1'].value_counts().values[0], df_histTrans['category_1'].value_counts().values[1]], width=-0.3, align='edge', label='historical_transactions', edgecolor=[0.2]*3)\n",
    "plt.bar(x, [df_newTrans['category_1'].value_counts().values[0], df_newTrans['category_1'].value_counts().values[1]], width=0.3, align='edge', label='new_merchant_transactions', edgecolor=[0.2]*3)\n",
    "plt.legend()\n",
    "plt.show()"
   ]
  },
  {
   "cell_type": "markdown",
   "metadata": {
    "id": "8zjmMUTU_f-h"
   },
   "source": [
    "- Most of the values of category_1 is N.\n",
    "- Both the categories are in same proportion in both the datasets."
   ]
  },
  {
   "cell_type": "code",
   "execution_count": null,
   "metadata": {
    "id": "C4ZrkeyPAi6O"
   },
   "outputs": [],
   "source": [
    "df_histTrans['category_1'] = df_histTrans['category_1'].apply(lambda x : 1 if x == 'Y' else 0)\n",
    "df_newTrans['category_1'] = df_newTrans['category_1'].apply(lambda x : 1 if x == 'Y' else 0)"
   ]
  },
  {
   "cell_type": "markdown",
   "metadata": {
    "id": "niPb70Xr_f-h"
   },
   "source": [
    "<h4> 3.2.3.8 category_2</h4>"
   ]
  },
  {
   "cell_type": "code",
   "execution_count": null,
   "metadata": {
    "colab": {
     "base_uri": "https://localhost:8080/"
    },
    "id": "oTgx3u_c_f-i",
    "outputId": "ef38a72c-b751-488a-c95f-eeebd5712c2f"
   },
   "outputs": [
    {
     "name": "stdout",
     "output_type": "stream",
     "text": [
      "No. of unique category_2 values: 5\n"
     ]
    }
   ],
   "source": [
    "category2 = list(set(df_histTrans['category_2']))\n",
    "category2.extend(list(set(df_newTrans['category_2'])))\n",
    "print(\"No. of unique category_2 values:\", len(list(set(category2))))"
   ]
  },
  {
   "cell_type": "code",
   "execution_count": null,
   "metadata": {
    "colab": {
     "base_uri": "https://localhost:8080/"
    },
    "id": "E4qHnUlS_f-i",
    "outputId": "79dc57c9-17c4-4223-b170-126b57a55d50"
   },
   "outputs": [
    {
     "data": {
      "text/plain": [
       "1.0    1169987\n",
       "3.0     289525\n",
       "5.0     259266\n",
       "4.0     178590\n",
       "2.0      65663\n",
       "Name: category_2, dtype: int64"
      ]
     },
     "execution_count": 72,
     "metadata": {
      "tags": []
     },
     "output_type": "execute_result"
    }
   ],
   "source": [
    "df_newTrans['category_2'].value_counts()"
   ]
  },
  {
   "cell_type": "code",
   "execution_count": null,
   "metadata": {
    "id": "ZqIxPDR0_f-i"
   },
   "outputs": [],
   "source": [
    "list1 = [df_histTrans['category_2'].value_counts().values[0], df_histTrans['category_2'].value_counts().values[1], df_histTrans['category_2'].value_counts().values[2]\\\n",
    "         ,df_histTrans['category_2'].value_counts().values[3],df_histTrans['category_2'].value_counts().values[4]] "
   ]
  },
  {
   "cell_type": "code",
   "execution_count": null,
   "metadata": {
    "id": "EpYbzmqa_f-j"
   },
   "outputs": [],
   "source": [
    "list2 = [df_newTrans['category_2'].value_counts().values[0], df_newTrans['category_2'].value_counts().values[1], df_newTrans['category_2'].value_counts().values[2]\\\n",
    "         ,df_newTrans['category_2'].value_counts().values[3],df_newTrans['category_2'].value_counts().values[4]] "
   ]
  },
  {
   "cell_type": "code",
   "execution_count": null,
   "metadata": {
    "colab": {
     "base_uri": "https://localhost:8080/",
     "height": 276
    },
    "id": "Ldo46C2g_f-j",
    "outputId": "45506eed-fae6-41f3-d732-230495e735f7"
   },
   "outputs": [
    {
     "data": {
      "image/png": "[encoded data removed]",
      "text/plain": [
       "<Figure size 432x288 with 1 Axes>"
      ]
     },
     "metadata": {
      "tags": []
     },
     "output_type": "display_data"
    }
   ],
   "source": [
    "x = np.array(['1', '3', '5', '4', '2'])\n",
    "plt.bar(x, list1, width=-0.3, align='edge', label='historical_transactions', edgecolor=[0.2]*3)\n",
    "plt.bar(x, list2, width=0.3, align='edge', label='new_merchant_transactions', edgecolor=[0.2]*3)\n",
    "plt.legend()\n",
    "plt.show()"
   ]
  },
  {
   "cell_type": "markdown",
   "metadata": {
    "id": "QB2OGvqP_f-k"
   },
   "source": [
    "- Most the values of category_2 is 1.0\n",
    "- These categories seem to have been divided in the same proportion in both the transaction dataset."
   ]
  },
  {
   "cell_type": "markdown",
   "metadata": {
    "id": "D4-slFzF_f-k"
   },
   "source": [
    "<h4> 3.2.3.9 category_3</h4>"
   ]
  },
  {
   "cell_type": "code",
   "execution_count": null,
   "metadata": {
    "colab": {
     "base_uri": "https://localhost:8080/"
    },
    "id": "a-N2yJaU_f-k",
    "outputId": "115e5cf3-7060-4c90-e9a5-508c0b6d3835"
   },
   "outputs": [
    {
     "name": "stdout",
     "output_type": "stream",
     "text": [
      "No. of unique category_3 values: 3\n"
     ]
    }
   ],
   "source": [
    "category3 = list(set(df_histTrans['category_3']))\n",
    "category3.extend(list(set(df_newTrans['category_3'])))\n",
    "print(\"No. of unique category_3 values:\", len(list(set(category3))))"
   ]
  },
  {
   "cell_type": "code",
   "execution_count": null,
   "metadata": {
    "colab": {
     "base_uri": "https://localhost:8080/"
    },
    "id": "wzyqmS8B_f-k",
    "outputId": "9278c565-67f4-4cea-ece2-bb2cf458ab1e"
   },
   "outputs": [
    {
     "data": {
      "text/plain": [
       "A    978166\n",
       "B    836178\n",
       "C    148687\n",
       "Name: category_3, dtype: int64"
      ]
     },
     "execution_count": 77,
     "metadata": {
      "tags": []
     },
     "output_type": "execute_result"
    }
   ],
   "source": [
    "df_newTrans['category_3'].value_counts()"
   ]
  },
  {
   "cell_type": "code",
   "execution_count": null,
   "metadata": {
    "id": "vvRVmdoS_f-k"
   },
   "outputs": [],
   "source": [
    "list1 = [df_histTrans['category_3'].value_counts().values[0], df_histTrans['category_3'].value_counts().values[1], df_histTrans['category_3'].value_counts().values[2]]\n",
    "list2 = [df_newTrans['category_3'].value_counts().values[0], df_newTrans['category_3'].value_counts().values[1], df_newTrans['category_3'].value_counts().values[2]]"
   ]
  },
  {
   "cell_type": "code",
   "execution_count": null,
   "metadata": {
    "colab": {
     "base_uri": "https://localhost:8080/",
     "height": 276
    },
    "id": "llFAO62U_f-k",
    "outputId": "9bbb02b2-105b-473d-a15a-6d6d57caade2"
   },
   "outputs": [
    {
     "data": {
      "image/png": "[encoded data removed]",
      "text/plain": [
       "<Figure size 432x288 with 1 Axes>"
      ]
     },
     "metadata": {
      "tags": []
     },
     "output_type": "display_data"
    }
   ],
   "source": [
    "x = np.array(['A', 'B', 'C'])\n",
    "plt.bar(x, list1, width=-0.3, align='edge', label='historical_transactions', edgecolor=[0.2]*3)\n",
    "plt.bar(x, list2, width=0.3, align='edge', label='new_merchant_transactions', edgecolor=[0.2]*3)\n",
    "plt.legend()\n",
    "plt.show()"
   ]
  },
  {
   "cell_type": "markdown",
   "metadata": {
    "id": "S589yTDK_f-k"
   },
   "source": [
    "- Most of the values of category_3 is A."
   ]
  },
  {
   "cell_type": "code",
   "execution_count": null,
   "metadata": {
    "id": "IkajN_IbArXe"
   },
   "outputs": [],
   "source": [
    "dictOfCat = {'A' : 1, 'B': 2, 'C' : 3}\n",
    "df_histTrans['category_3'] = df_histTrans['category_3'].apply(lambda x : dictOfCat[x])\n",
    "df_newTrans['category_3'] = df_newTrans['category_3'].apply(lambda x : dictOfCat[x])"
   ]
  },
  {
   "cell_type": "markdown",
   "metadata": {
    "id": "0T_bn7Hx-_MH"
   },
   "source": [
    "<h4> 3.2.3.10 Analysis on categorical variables category_1, category_2, category_3</h4>"
   ]
  },
  {
   "cell_type": "code",
   "execution_count": null,
   "metadata": {
    "id": "r1t7VIni_MEZ"
   },
   "outputs": [],
   "source": [
    "groupedCardIds = df_histTrans.groupby(['category_1', 'category_2', 'category_3'])['card_id'].apply(list)"
   ]
  },
  {
   "cell_type": "code",
   "execution_count": null,
   "metadata": {
    "id": "2yhXJol0_aj-"
   },
   "outputs": [],
   "source": [
    "listOfLoyaltyScores = []\n",
    "for i in range(len(groupedCardIds)):\n",
    "    listOfAllUniqueIds = list(set(groupedCardIds.values[i]))\n",
    "    sumOfLoyaltyScores = np.sum(df_train[df_train['card_id'].isin(listOfAllUniqueIds)]['target'])\n",
    "    listOfLoyaltyScores.append(sumOfLoyaltyScores)"
   ]
  },
  {
   "cell_type": "code",
   "execution_count": null,
   "metadata": {
    "id": "X2jhOe3K_nT-"
   },
   "outputs": [],
   "source": [
    "listOfAllUniqueCombn = [str(groupedCardIds.keys()[i]) for i in range(len(groupedCardIds))]"
   ]
  },
  {
   "cell_type": "code",
   "execution_count": null,
   "metadata": {
    "id": "Pr9fqNnB_tHN"
   },
   "outputs": [],
   "source": [
    "data = {'category_1 + category_2 + category_3': listOfAllUniqueCombn, \n",
    "        'Mean_Loyalty_Scores': listOfLoyaltyScores}\n",
    "data = pd.DataFrame(data)"
   ]
  },
  {
   "cell_type": "code",
   "execution_count": null,
   "metadata": {
    "colab": {
     "base_uri": "https://localhost:8080/"
    },
    "id": "Zdq7a1MP_6fw",
    "outputId": "8341dc68-5193-4daa-c8bd-a708a195bd4b"
   },
   "outputs": [
    {
     "data": {
      "text/plain": [
       "category_1 + category_2 + category_3  Mean_Loyalty_Scores\n",
       "(1, 1.0, 3)                           -30576.0               1\n",
       "(1, 1.0, 2)                           -45344.0               1\n",
       "(0, 1.0, 2)                           -51008.0               1\n",
       "(0, 1.0, 3)                           -33888.0               1\n",
       "(0, 2.0, 1)                           -3986.0                1\n",
       "(0, 2.0, 2)                           -5348.0                1\n",
       "(0, 2.0, 3)                           -2732.0                1\n",
       "(0, 3.0, 1)                           -9864.0                1\n",
       "(0, 3.0, 2)                           -13056.0               1\n",
       "(0, 3.0, 3)                           -7480.0                1\n",
       "(0, 4.0, 1)                           -6368.0                1\n",
       "(0, 4.0, 2)                           -8488.0                1\n",
       "(0, 4.0, 3)                           -5036.0                1\n",
       "(0, 5.0, 1)                           -9872.0                1\n",
       "(0, 5.0, 2)                           -14672.0               1\n",
       "(0, 5.0, 3)                           -9616.0                1\n",
       "(1, 1.0, 1)                           -503.0                 1\n",
       "(0, 1.0, 1)                           -35008.0               1\n",
       "dtype: int64"
      ]
     },
     "execution_count": 85,
     "metadata": {
      "tags": []
     },
     "output_type": "execute_result"
    }
   ],
   "source": [
    "data.value_counts()"
   ]
  },
  {
   "cell_type": "markdown",
   "metadata": {
    "id": "SHjlGdjSApye"
   },
   "source": [
    "- No such trend can be seen among the relation of these variables."
   ]
  },
  {
   "cell_type": "markdown",
   "metadata": {
    "id": "kHXy4Iu__f-k"
   },
   "source": [
    "<h3> 3.2.4 Analysis on installment </h3>"
   ]
  },
  {
   "cell_type": "code",
   "execution_count": null,
   "metadata": {
    "colab": {
     "base_uri": "https://localhost:8080/"
    },
    "id": "95Xk5HGpABC_",
    "outputId": "21026799-23fe-48d0-cff1-55e35a6ef87c"
   },
   "outputs": [
    {
     "data": {
      "text/plain": [
       " 0      15411747\n",
       " 1      11677522\n",
       " 2        666416\n",
       " 3        538207\n",
       " 4        179525\n",
       "-1        178159\n",
       " 6        132634\n",
       " 10       118827\n",
       " 5        116090\n",
       " 12        55064\n",
       " 8         20474\n",
       " 7         10906\n",
       " 9          5772\n",
       " 11          830\n",
       " 999         188\n",
       "Name: installments, dtype: int64"
      ]
     },
     "execution_count": 86,
     "metadata": {
      "tags": []
     },
     "output_type": "execute_result"
    }
   ],
   "source": [
    "df_histTrans['installments'].value_counts()"
   ]
  },
  {
   "cell_type": "code",
   "execution_count": null,
   "metadata": {
    "colab": {
     "base_uri": "https://localhost:8080/",
     "height": 441
    },
    "id": "dImucb3V_f-l",
    "outputId": "19675b55-7038-4373-d559-d0f01642ba2f"
   },
   "outputs": [
    {
     "data": {
      "image/png": "[encoded data removed]",
      "text/plain": [
       "<Figure size 504x504 with 1 Axes>"
      ]
     },
     "metadata": {
      "tags": []
     },
     "output_type": "display_data"
    }
   ],
   "source": [
    "fig, ax = plt.subplots(1, 1, figsize = (7,7))\n",
    "df_histTrans['installments'].value_counts().plot(kind = 'barh')\n",
    "plt.show()"
   ]
  },
  {
   "cell_type": "code",
   "execution_count": null,
   "metadata": {
    "colab": {
     "base_uri": "https://localhost:8080/",
     "height": 428
    },
    "id": "YIxnQ8QT_f-l",
    "outputId": "85675777-4ae1-46a3-f505-76645ffff112"
   },
   "outputs": [
    {
     "data": {
      "image/png": "[encoded data removed]",
      "text/plain": [
       "<Figure size 504x504 with 1 Axes>"
      ]
     },
     "metadata": {
      "tags": []
     },
     "output_type": "display_data"
    }
   ],
   "source": [
    "fig, ax = plt.subplots(1, 1, figsize = (7,7))\n",
    "df_newTrans['installments'].value_counts().plot(kind = 'barh')\n",
    "plt.show()"
   ]
  },
  {
   "cell_type": "markdown",
   "metadata": {
    "id": "UlhOMTYc_f-l"
   },
   "source": [
    "- Most of the installments are 0 and 1.\n",
    "- There are also installments having values -1 and 999."
   ]
  },
  {
   "cell_type": "markdown",
   "metadata": {
    "id": "7pP3_7qW-Xoi"
   },
   "source": [
    "<h4> 3.2.4.1 Analysing installments for -1 and 999 against authorized flag."
   ]
  },
  {
   "cell_type": "code",
   "execution_count": null,
   "metadata": {
    "id": "SVK-NxoQ-TJw"
   },
   "outputs": [],
   "source": [
    "temp_data_trans_auth = df_histTrans[['authorized_flag', 'installments']]"
   ]
  },
  {
   "cell_type": "code",
   "execution_count": null,
   "metadata": {
    "id": "0xR0tIjGAm8y"
   },
   "outputs": [],
   "source": [
    "allUnauthorizedTran = temp_data_trans_auth[(temp_data_trans_auth['installments'] == -1) | (temp_data_trans_auth['installments'] == 999) & (temp_data_trans_auth['authorized_flag'] == 0)]"
   ]
  },
  {
   "cell_type": "code",
   "execution_count": null,
   "metadata": {
    "id": "6zJiXNHPCsv4"
   },
   "outputs": [],
   "source": [
    "allTran = temp_data_trans_auth[(temp_data_trans_auth['installments'] == -1) | (temp_data_trans_auth['installments'] == 999)]"
   ]
  },
  {
   "cell_type": "code",
   "execution_count": null,
   "metadata": {
    "colab": {
     "base_uri": "https://localhost:8080/"
    },
    "id": "E-S7OZ5LD_UD",
    "outputId": "60c32bb2-14d8-4a85-beb0-0e91ebc92355"
   },
   "outputs": [
    {
     "name": "stdout",
     "output_type": "stream",
     "text": [
      "Out of all transactions having installments -1 and 999 in historical_transactions 99.99663577183804 % is unauthorized.\n"
     ]
    }
   ],
   "source": [
    "print(\"Out of all transactions having installments -1 and 999 in historical_transactions\", (allUnauthorizedTran.shape[0]/allTran.shape[0])*100 , \"% is unauthorized.\")"
   ]
  },
  {
   "cell_type": "code",
   "execution_count": null,
   "metadata": {
    "id": "Xz7Ul8ZoF0Jr"
   },
   "outputs": [],
   "source": [
    "temp_data_trans_install = df_newTrans.loc[(df_newTrans['installments'] == -1) | (df_newTrans['installments'] == 999),['installments']]"
   ]
  },
  {
   "cell_type": "code",
   "execution_count": null,
   "metadata": {
    "colab": {
     "base_uri": "https://localhost:8080/"
    },
    "id": "tE1ZU-eBFmcR",
    "outputId": "451f6e39-51e9-4a40-a858-9e8879d419ff"
   },
   "outputs": [
    {
     "name": "stdout",
     "output_type": "stream",
     "text": [
      "Out of all transactions 2.84885974801213 % have installments -1 and 999.\n"
     ]
    }
   ],
   "source": [
    "print(\"Out of all transactions\", (temp_data_trans_install.shape[0]/df_newTrans.shape[0])*100 , \"% have installments -1 and 999.\")"
   ]
  },
  {
   "cell_type": "markdown",
   "metadata": {
    "id": "bpW7yvN-FFEc"
   },
   "source": [
    "- As we can see in historical_transactions dataset, transactions having installment -1 and 999 have almost 99% of them are unauthorized.\n",
    "- We know that in new_merchant_transactions dataset there are no unauthorized transactions. So out of them almost 3% of them were having installments -1 and 999, but they were all authorized.\n",
    "- So these installments can mean anything."
   ]
  },
  {
   "cell_type": "markdown",
   "metadata": {
    "id": "82uB0FsZ-m33"
   },
   "source": [
    "<h4> 3.2.4.2 Analysing whether installments are useful against loyalty score </h4>"
   ]
  },
  {
   "cell_type": "code",
   "execution_count": null,
   "metadata": {
    "colab": {
     "base_uri": "https://localhost:8080/"
    },
    "id": "0Cdog6Gq_f-l",
    "outputId": "eab131cd-4146-4863-a399-ac706f6606a3"
   },
   "outputs": [
    {
     "name": "stdout",
     "output_type": "stream",
     "text": [
      "No. of unique installments 15\n"
     ]
    }
   ],
   "source": [
    "installments = list(set(df_histTrans['installments']))\n",
    "installments.extend(list(set(df_newTrans['installments'])))\n",
    "print(\"No. of unique installments\", len(list(set(installments))))"
   ]
  },
  {
   "cell_type": "code",
   "execution_count": null,
   "metadata": {
    "colab": {
     "base_uri": "https://localhost:8080/"
    },
    "id": "axsNvjVI_f-l",
    "outputId": "05114f0d-96ec-4274-f316-1756de48abff"
   },
   "outputs": [
    {
     "name": "stdout",
     "output_type": "stream",
     "text": [
      "Mem. usage decreased to 277.64 Mb (0.0% reduction)\n",
      "Mem. usage decreased to 13.47 Mb (0.0% reduction)\n"
     ]
    }
   ],
   "source": [
    "temp_data_trans = reduce_mem_usage(df_histTrans[['card_id', 'installments']])\n",
    "temp_data_train = reduce_mem_usage(df_train[['card_id', 'target']])"
   ]
  },
  {
   "cell_type": "code",
   "execution_count": null,
   "metadata": {
    "colab": {
     "base_uri": "https://localhost:8080/"
    },
    "id": "LKLaRRt6_f-l",
    "outputId": "9a4f27b4-200a-4efb-b392-acf67df9eb1f"
   },
   "outputs": [
    {
     "name": "stdout",
     "output_type": "stream",
     "text": [
      "Mem. usage decreased to 555.27 Mb (0.0% reduction)\n"
     ]
    }
   ],
   "source": [
    "df = reduce_mem_usage(pd.merge(temp_data_trans, temp_data_train, how='left', on='card_id'))"
   ]
  },
  {
   "cell_type": "code",
   "execution_count": null,
   "metadata": {
    "colab": {
     "base_uri": "https://localhost:8080/"
    },
    "id": "dCHzVOWIDsky",
    "outputId": "e1eaca5f-1915-40ec-9fa8-54099cec0347"
   },
   "outputs": [
    {
     "name": "stdout",
     "output_type": "stream",
     "text": [
      "<class 'pandas.core.frame.DataFrame'>\n",
      "Int64Index: 29112361 entries, 0 to 29112360\n",
      "Data columns (total 3 columns):\n",
      " #   Column        Dtype  \n",
      "---  ------        -----  \n",
      " 0   card_id       object \n",
      " 1   installments  int16  \n",
      " 2   target        float16\n",
      "dtypes: float16(1), int16(1), object(1)\n",
      "memory usage: 555.3+ MB\n"
     ]
    }
   ],
   "source": [
    "df.info()"
   ]
  },
  {
   "cell_type": "code",
   "execution_count": null,
   "metadata": {
    "id": "Jm4-iQi9ES5V"
   },
   "outputs": [],
   "source": [
    "#Randomly sampling some points, as there are huge no. of points.\n",
    "df1 = df.sample(200000)"
   ]
  },
  {
   "cell_type": "code",
   "execution_count": null,
   "metadata": {
    "colab": {
     "base_uri": "https://localhost:8080/",
     "height": 729
    },
    "id": "BCTEsRC4_f-l",
    "outputId": "e51fbde7-ff43-4c6a-b8aa-253c2e36b17b"
   },
   "outputs": [
    {
     "data": {
      "image/png": "[encoded data removed]",
      "text/plain": [
       "<Figure size 728x720 with 1 Axes>"
      ]
     },
     "metadata": {
      "tags": []
     },
     "output_type": "display_data"
    }
   ],
   "source": [
    "sns.FacetGrid(df1, size = 10)\\\n",
    "    .map(plt.scatter, 'installments', 'target')\\\n",
    "    .add_legend()\n",
    "plt.show()"
   ]
  },
  {
   "cell_type": "markdown",
   "metadata": {
    "id": "yUkZyfBWJT8c"
   },
   "source": [
    "- We can clearly see that loyalty scores are high for card ids having lower installements.\n",
    "- This feature can be very useful while designing features as there is a clear trend."
   ]
  },
  {
   "cell_type": "markdown",
   "metadata": {
    "id": "ApOVStru_f-m"
   },
   "source": [
    "<h3> 3.2.5 Analysis on purchase_amount </h3>"
   ]
  },
  {
   "cell_type": "markdown",
   "metadata": {
    "id": "yWjuv7e8_f-m"
   },
   "source": [
    "- Purchase amount is normalized as mentioned in DataDictionary of this problem."
   ]
  },
  {
   "cell_type": "code",
   "execution_count": null,
   "metadata": {
    "colab": {
     "base_uri": "https://localhost:8080/",
     "height": 294
    },
    "id": "RP85yomX_f-m",
    "outputId": "8f5568e4-7590-4b2b-c93d-262ae05230ed"
   },
   "outputs": [
    {
     "data": {
      "image/png": "[encoded data removed]",
      "text/plain": [
       "<Figure size 432x288 with 1 Axes>"
      ]
     },
     "metadata": {
      "tags": []
     },
     "output_type": "display_data"
    }
   ],
   "source": [
    "plt.hist(df_histTrans['purchase_amount'], range = (df_histTrans['purchase_amount'].min(), df_histTrans['purchase_amount'].max()))\n",
    "plt.title('Purchase Amount')\n",
    "plt.show()"
   ]
  },
  {
   "cell_type": "code",
   "execution_count": null,
   "metadata": {
    "colab": {
     "base_uri": "https://localhost:8080/",
     "height": 281
    },
    "id": "2xut2Z8b_f-m",
    "outputId": "91483770-357c-469e-a382-33197ea75459"
   },
   "outputs": [
    {
     "data": {
      "image/png": "[encoded data removed]",
      "text/plain": [
       "<Figure size 432x288 with 1 Axes>"
      ]
     },
     "metadata": {
      "tags": []
     },
     "output_type": "display_data"
    }
   ],
   "source": [
    "plt.hist(df_newTrans['purchase_amount'], range = (df_newTrans['purchase_amount'].min(), df_newTrans['purchase_amount'].max()))\n",
    "plt.title('Purchase Amount')\n",
    "plt.show()"
   ]
  },
  {
   "cell_type": "markdown",
   "metadata": {
    "id": "s_24dNW9_f-m"
   },
   "source": [
    "- As this feature is normalized. Nothing much can be said about this."
   ]
  },
  {
   "cell_type": "markdown",
   "metadata": {
    "id": "OQgrGs7JcZo6"
   },
   "source": [
    "<h3> 3.2.6 Analysis on loyalty scores based on the frequency of transaction grouped by card ids. </h3>"
   ]
  },
  {
   "cell_type": "code",
   "execution_count": null,
   "metadata": {
    "colab": {
     "base_uri": "https://localhost:8080/"
    },
    "id": "dn4TmqpWjkQ6",
    "outputId": "2043c490-5f4e-41c5-c153-9f79a72c46ef"
   },
   "outputs": [
    {
     "data": {
      "text/plain": [
       "360"
      ]
     },
     "execution_count": 191,
     "metadata": {
      "tags": []
     },
     "output_type": "execute_result"
    }
   ],
   "source": [
    "gc.collect()"
   ]
  },
  {
   "cell_type": "code",
   "execution_count": null,
   "metadata": {
    "id": "WxuWczgvchOx"
   },
   "outputs": [],
   "source": [
    "groupedCardIds = df_histTrans.groupby(['card_id'])['purchase_date'].apply(list)"
   ]
  },
  {
   "cell_type": "code",
   "execution_count": null,
   "metadata": {
    "colab": {
     "base_uri": "https://localhost:8080/"
    },
    "id": "9Rudo5I6f1Cp",
    "outputId": "c48bdc09-30e4-4932-eaa1-6aa7bc1c2b6f"
   },
   "outputs": [
    {
     "name": "stderr",
     "output_type": "stream",
     "text": [
      "100%|██████████| 325540/325540 [1:22:07<00:00, 66.06it/s]\n"
     ]
    }
   ],
   "source": [
    "#https://stackoverflow.com/questions/18215317/extracting-days-from-a-numpy-timedelta64-value\n",
    "listOfLoyaltyScores = []\n",
    "listOfAllDifferencesMean = []\n",
    "for i in tqdm(range(len(groupedCardIds))):\n",
    "    try:\n",
    "        #Some card ids don't exist in train dataset, but they exist in test dataset.\n",
    "        loyaltyScore = (df_train[df_train['card_id'] == str(groupedCardIds.keys()[i])]['target']).values[0]\n",
    "        listOfLoyaltyScores.append(loyaltyScore)\n",
    "        allDays = 0\n",
    "        for j in range(len(groupedCardIds.values[i]) - 1):\n",
    "            #Taking the absolute difference of days between two transactions\n",
    "            days = np.abs((groupedCardIds.values[i][j] - groupedCardIds.values[i][j + 1]).days)\n",
    "            allDays += days  \n",
    "        #Calculating the mean of all transaction time difference for a particular card id\n",
    "        allDays = np.mean(np.array(allDays))\n",
    "        listOfAllDifferencesMean.append(allDays)\n",
    "    except:\n",
    "        pass\n",
    " "
   ]
  },
  {
   "cell_type": "code",
   "execution_count": null,
   "metadata": {
    "id": "lztnCuzDhkoQ"
   },
   "outputs": [],
   "source": [
    "data = {'MeanDifferenceOfTransaction(days)': listOfAllDifferencesMean, \n",
    "        'Loyalty_Score': listOfLoyaltyScores}\n",
    "data = pd.DataFrame(data)"
   ]
  },
  {
   "cell_type": "code",
   "execution_count": null,
   "metadata": {
    "colab": {
     "base_uri": "https://localhost:8080/",
     "height": 729
    },
    "id": "W3VhsQBPiDc0",
    "outputId": "b022f99d-e3fe-4b39-bd6a-599f0ccd27b7"
   },
   "outputs": [
    {
     "data": {
      "image/png": "[encoded data removed]",
      "text/plain": [
       "<Figure size 728x720 with 1 Axes>"
      ]
     },
     "metadata": {
      "tags": []
     },
     "output_type": "display_data"
    }
   ],
   "source": [
    "sns.FacetGrid(data, size = 10)\\\n",
    "    .map(plt.scatter, 'MeanDifferenceOfTransaction(days)', 'Loyalty_Score')\\\n",
    "    .add_legend()\n",
    "plt.show()"
   ]
  },
  {
   "cell_type": "markdown",
   "metadata": {
    "id": "UG1iH8Paz9rE"
   },
   "source": [
    "- Here we calculated the difference of days between transactions for a particular card id and took the mean of it.\n",
    "- We can see that cards ids which are more frequent have higher loyalty scores also many of them have lower loyalty scores. \n",
    "- The outliers i.e. card ids having lowest loyalty scores have their differences mostly lower side.\n",
    "- No such trend can be seen"
   ]
  },
  {
   "cell_type": "code",
   "execution_count": null,
   "metadata": {
    "id": "fUSMtTgwxSl6"
   },
   "outputs": [],
   "source": [
    "df_newTrans.to_csv(\"newTrans_EDA.csv\", index= False)\n",
    "df_histTrans.to_csv(\"histTrans_EDA.csv\", index= False)"
   ]
  },
  {
   "cell_type": "markdown",
   "metadata": {
    "id": "IFtGi0FN_f-m"
   },
   "source": [
    "<h2> 3.3 Reading data from files merchants.csv and basic stats </h2>"
   ]
  },
  {
   "cell_type": "code",
   "execution_count": null,
   "metadata": {
    "colab": {
     "base_uri": "https://localhost:8080/"
    },
    "id": "Sc7Qa7Bw_f-n",
    "outputId": "5ead63af-a2cb-4c92-d1c8-22f05873ce7e"
   },
   "outputs": [
    {
     "name": "stdout",
     "output_type": "stream",
     "text": [
      "Mem. usage decreased to 30.32 Mb (46.0% reduction)\n",
      "No. of data points in merchants: 334696\n"
     ]
    }
   ],
   "source": [
    "df_merchants = reduce_mem_usage(pd.read_csv(\"merchants.csv\"))\n",
    "print(\"No. of data points in merchants:\", df_merchants.shape[0])"
   ]
  },
  {
   "cell_type": "code",
   "execution_count": null,
   "metadata": {
    "colab": {
     "base_uri": "https://localhost:8080/",
     "height": 224
    },
    "id": "8kCK6Vph_f-n",
    "outputId": "3c557a26-8212-4d6b-8db0-d6b85f107936"
   },
   "outputs": [
    {
     "data": {
      "text/html": [
       "<div>\n",
       "<style scoped>\n",
       "    .dataframe tbody tr th:only-of-type {\n",
       "        vertical-align: middle;\n",
       "    }\n",
       "\n",
       "    .dataframe tbody tr th {\n",
       "        vertical-align: top;\n",
       "    }\n",
       "\n",
       "    .dataframe thead th {\n",
       "        text-align: right;\n",
       "    }\n",
       "</style>\n",
       "<table border=\"1\" class=\"dataframe\">\n",
       "  <thead>\n",
       "    <tr style=\"text-align: right;\">\n",
       "      <th></th>\n",
       "      <th>merchant_id</th>\n",
       "      <th>merchant_group_id</th>\n",
       "      <th>merchant_category_id</th>\n",
       "      <th>subsector_id</th>\n",
       "      <th>numerical_1</th>\n",
       "      <th>numerical_2</th>\n",
       "      <th>category_1</th>\n",
       "      <th>most_recent_sales_range</th>\n",
       "      <th>most_recent_purchases_range</th>\n",
       "      <th>avg_sales_lag3</th>\n",
       "      <th>...</th>\n",
       "      <th>avg_sales_lag6</th>\n",
       "      <th>avg_purchases_lag6</th>\n",
       "      <th>active_months_lag6</th>\n",
       "      <th>avg_sales_lag12</th>\n",
       "      <th>avg_purchases_lag12</th>\n",
       "      <th>active_months_lag12</th>\n",
       "      <th>category_4</th>\n",
       "      <th>city_id</th>\n",
       "      <th>state_id</th>\n",
       "      <th>category_2</th>\n",
       "    </tr>\n",
       "  </thead>\n",
       "  <tbody>\n",
       "    <tr>\n",
       "      <th>0</th>\n",
       "      <td>M_ID_838061e48c</td>\n",
       "      <td>8353</td>\n",
       "      <td>792</td>\n",
       "      <td>9</td>\n",
       "      <td>-0.057465</td>\n",
       "      <td>-0.057465</td>\n",
       "      <td>N</td>\n",
       "      <td>E</td>\n",
       "      <td>E</td>\n",
       "      <td>-0.400000</td>\n",
       "      <td>...</td>\n",
       "      <td>-2.250000</td>\n",
       "      <td>18.666667</td>\n",
       "      <td>6</td>\n",
       "      <td>-2.320000</td>\n",
       "      <td>13.916667</td>\n",
       "      <td>12</td>\n",
       "      <td>N</td>\n",
       "      <td>242</td>\n",
       "      <td>9</td>\n",
       "      <td>1.0</td>\n",
       "    </tr>\n",
       "    <tr>\n",
       "      <th>1</th>\n",
       "      <td>M_ID_9339d880ad</td>\n",
       "      <td>3184</td>\n",
       "      <td>840</td>\n",
       "      <td>20</td>\n",
       "      <td>-0.057465</td>\n",
       "      <td>-0.057465</td>\n",
       "      <td>N</td>\n",
       "      <td>E</td>\n",
       "      <td>E</td>\n",
       "      <td>-0.720000</td>\n",
       "      <td>...</td>\n",
       "      <td>-0.740000</td>\n",
       "      <td>1.291667</td>\n",
       "      <td>6</td>\n",
       "      <td>-0.570000</td>\n",
       "      <td>1.687500</td>\n",
       "      <td>12</td>\n",
       "      <td>N</td>\n",
       "      <td>22</td>\n",
       "      <td>16</td>\n",
       "      <td>1.0</td>\n",
       "    </tr>\n",
       "    <tr>\n",
       "      <th>2</th>\n",
       "      <td>M_ID_e726bbae1e</td>\n",
       "      <td>447</td>\n",
       "      <td>690</td>\n",
       "      <td>1</td>\n",
       "      <td>-0.057465</td>\n",
       "      <td>-0.057465</td>\n",
       "      <td>N</td>\n",
       "      <td>E</td>\n",
       "      <td>E</td>\n",
       "      <td>-82.129997</td>\n",
       "      <td>...</td>\n",
       "      <td>-82.129997</td>\n",
       "      <td>260.000000</td>\n",
       "      <td>2</td>\n",
       "      <td>-82.129997</td>\n",
       "      <td>260.000000</td>\n",
       "      <td>2</td>\n",
       "      <td>N</td>\n",
       "      <td>-1</td>\n",
       "      <td>5</td>\n",
       "      <td>5.0</td>\n",
       "    </tr>\n",
       "    <tr>\n",
       "      <th>3</th>\n",
       "      <td>M_ID_a70e9c5f81</td>\n",
       "      <td>5026</td>\n",
       "      <td>792</td>\n",
       "      <td>9</td>\n",
       "      <td>-0.057465</td>\n",
       "      <td>-0.057465</td>\n",
       "      <td>Y</td>\n",
       "      <td>E</td>\n",
       "      <td>E</td>\n",
       "      <td>NaN</td>\n",
       "      <td>...</td>\n",
       "      <td>NaN</td>\n",
       "      <td>4.666667</td>\n",
       "      <td>6</td>\n",
       "      <td>NaN</td>\n",
       "      <td>3.833333</td>\n",
       "      <td>12</td>\n",
       "      <td>Y</td>\n",
       "      <td>-1</td>\n",
       "      <td>-1</td>\n",
       "      <td>NaN</td>\n",
       "    </tr>\n",
       "    <tr>\n",
       "      <th>4</th>\n",
       "      <td>M_ID_64456c37ce</td>\n",
       "      <td>2228</td>\n",
       "      <td>222</td>\n",
       "      <td>21</td>\n",
       "      <td>-0.057465</td>\n",
       "      <td>-0.057465</td>\n",
       "      <td>Y</td>\n",
       "      <td>E</td>\n",
       "      <td>E</td>\n",
       "      <td>NaN</td>\n",
       "      <td>...</td>\n",
       "      <td>NaN</td>\n",
       "      <td>0.361111</td>\n",
       "      <td>6</td>\n",
       "      <td>NaN</td>\n",
       "      <td>0.347222</td>\n",
       "      <td>12</td>\n",
       "      <td>Y</td>\n",
       "      <td>-1</td>\n",
       "      <td>-1</td>\n",
       "      <td>NaN</td>\n",
       "    </tr>\n",
       "  </tbody>\n",
       "</table>\n",
       "<p>5 rows × 22 columns</p>\n",
       "</div>"
      ],
      "text/plain": [
       "       merchant_id  merchant_group_id  merchant_category_id  subsector_id  \\\n",
       "0  M_ID_838061e48c               8353                   792             9   \n",
       "1  M_ID_9339d880ad               3184                   840            20   \n",
       "2  M_ID_e726bbae1e                447                   690             1   \n",
       "3  M_ID_a70e9c5f81               5026                   792             9   \n",
       "4  M_ID_64456c37ce               2228                   222            21   \n",
       "\n",
       "   numerical_1  numerical_2 category_1 most_recent_sales_range  \\\n",
       "0    -0.057465    -0.057465          N                       E   \n",
       "1    -0.057465    -0.057465          N                       E   \n",
       "2    -0.057465    -0.057465          N                       E   \n",
       "3    -0.057465    -0.057465          Y                       E   \n",
       "4    -0.057465    -0.057465          Y                       E   \n",
       "\n",
       "  most_recent_purchases_range  avg_sales_lag3  ...  avg_sales_lag6  \\\n",
       "0                           E       -0.400000  ...       -2.250000   \n",
       "1                           E       -0.720000  ...       -0.740000   \n",
       "2                           E      -82.129997  ...      -82.129997   \n",
       "3                           E             NaN  ...             NaN   \n",
       "4                           E             NaN  ...             NaN   \n",
       "\n",
       "   avg_purchases_lag6  active_months_lag6  avg_sales_lag12  \\\n",
       "0           18.666667                   6        -2.320000   \n",
       "1            1.291667                   6        -0.570000   \n",
       "2          260.000000                   2       -82.129997   \n",
       "3            4.666667                   6              NaN   \n",
       "4            0.361111                   6              NaN   \n",
       "\n",
       "   avg_purchases_lag12  active_months_lag12  category_4  city_id state_id  \\\n",
       "0            13.916667                   12           N      242        9   \n",
       "1             1.687500                   12           N       22       16   \n",
       "2           260.000000                    2           N       -1        5   \n",
       "3             3.833333                   12           Y       -1       -1   \n",
       "4             0.347222                   12           Y       -1       -1   \n",
       "\n",
       "   category_2  \n",
       "0         1.0  \n",
       "1         1.0  \n",
       "2         5.0  \n",
       "3         NaN  \n",
       "4         NaN  \n",
       "\n",
       "[5 rows x 22 columns]"
      ]
     },
     "execution_count": 79,
     "metadata": {
      "tags": []
     },
     "output_type": "execute_result"
    }
   ],
   "source": [
    "df_merchants.head(5)"
   ]
  },
  {
   "cell_type": "code",
   "execution_count": null,
   "metadata": {
    "colab": {
     "base_uri": "https://localhost:8080/"
    },
    "id": "mLoagHQw_f-n",
    "outputId": "a16bba02-f771-494b-a6dc-2ded2fb344ed"
   },
   "outputs": [
    {
     "name": "stdout",
     "output_type": "stream",
     "text": [
      "<class 'pandas.core.frame.DataFrame'>\n",
      "RangeIndex: 334696 entries, 0 to 334695\n",
      "Data columns (total 22 columns):\n",
      " #   Column                       Non-Null Count   Dtype  \n",
      "---  ------                       --------------   -----  \n",
      " 0   merchant_id                  334696 non-null  object \n",
      " 1   merchant_group_id            334696 non-null  int32  \n",
      " 2   merchant_category_id         334696 non-null  int16  \n",
      " 3   subsector_id                 334696 non-null  int8   \n",
      " 4   numerical_1                  334696 non-null  float16\n",
      " 5   numerical_2                  334696 non-null  float16\n",
      " 6   category_1                   334696 non-null  object \n",
      " 7   most_recent_sales_range      334696 non-null  object \n",
      " 8   most_recent_purchases_range  334696 non-null  object \n",
      " 9   avg_sales_lag3               334683 non-null  float32\n",
      " 10  avg_purchases_lag3           334696 non-null  float64\n",
      " 11  active_months_lag3           334696 non-null  int8   \n",
      " 12  avg_sales_lag6               334683 non-null  float32\n",
      " 13  avg_purchases_lag6           334696 non-null  float64\n",
      " 14  active_months_lag6           334696 non-null  int8   \n",
      " 15  avg_sales_lag12              334683 non-null  float32\n",
      " 16  avg_purchases_lag12          334696 non-null  float64\n",
      " 17  active_months_lag12          334696 non-null  int8   \n",
      " 18  category_4                   334696 non-null  object \n",
      " 19  city_id                      334696 non-null  int16  \n",
      " 20  state_id                     334696 non-null  int8   \n",
      " 21  category_2                   322809 non-null  float16\n",
      "dtypes: float16(3), float32(3), float64(3), int16(2), int32(1), int8(5), object(5)\n",
      "memory usage: 30.3+ MB\n"
     ]
    }
   ],
   "source": [
    "df_merchants.info()"
   ]
  },
  {
   "cell_type": "code",
   "execution_count": null,
   "metadata": {
    "id": "K_euAICaxSl7",
    "outputId": "2d2ad179-ac25-4aa1-a8cc-99d6ec084f77"
   },
   "outputs": [
    {
     "data": {
      "text/plain": [
       "48"
      ]
     },
     "execution_count": 81,
     "metadata": {
      "tags": []
     },
     "output_type": "execute_result"
    }
   ],
   "source": [
    "gc.collect()"
   ]
  },
  {
   "cell_type": "markdown",
   "metadata": {
    "id": "gan1iSuj_f-n"
   },
   "source": [
    "<h3> 3.3.1 Checking if there are any null values and replacing them </h3>"
   ]
  },
  {
   "cell_type": "code",
   "execution_count": null,
   "metadata": {
    "colab": {
     "base_uri": "https://localhost:8080/"
    },
    "id": "Qs3vOCiu_f-n",
    "outputId": "a4a6c540-9f6c-4e95-82da-88fd22cc2fbc"
   },
   "outputs": [
    {
     "name": "stdout",
     "output_type": "stream",
     "text": [
      "Columns having null values in merchants ['avg_sales_lag3', 'avg_sales_lag6', 'avg_sales_lag12', 'category_2']\n"
     ]
    }
   ],
   "source": [
    "print(\"Columns having null values in merchants\", df_merchants.columns[df_merchants.isnull().any()].tolist())"
   ]
  },
  {
   "cell_type": "code",
   "execution_count": null,
   "metadata": {
    "id": "3LHxGUIQxSl8",
    "outputId": "3b5e4229-57a4-4212-d7ed-2ed5d5a247ef"
   },
   "outputs": [
    {
     "name": "stdout",
     "output_type": "stream",
     "text": [
      "Percentage of values rows having the null values\n",
      "avg_sales_lag3     0.003884\n",
      "avg_sales_lag6     0.003884\n",
      "avg_sales_lag12    0.003884\n",
      "category_2         3.551581\n",
      "dtype: float64\n"
     ]
    }
   ],
   "source": [
    "print(\"Percentage of values rows having the null values\")\n",
    "print((df_merchants[df_merchants.columns[df_merchants.isnull().any()].tolist()].isnull().sum()/df_merchants.shape[0])*100)"
   ]
  },
  {
   "cell_type": "markdown",
   "metadata": {
    "id": "oYHIJn8q_f-n"
   },
   "source": [
    "- These 4 columns have nan values. We will replace this nan values with some valid alternative.\n",
    "- There are only a very small % of missing values in all these rows except category_2. So we can safely remove the numerical values with the mean and the categorical ones with their modes.\n",
    "- We will replace the missing values in category_2 with the unknown category that we created earlier."
   ]
  },
  {
   "cell_type": "code",
   "execution_count": null,
   "metadata": {
    "colab": {
     "base_uri": "https://localhost:8080/"
    },
    "id": "1jsH-fIy_f-n",
    "outputId": "98592261-f2fb-4248-b068-5fed3ba69d44"
   },
   "outputs": [
    {
     "name": "stdout",
     "output_type": "stream",
     "text": [
      "Mean of avg_sales_lag3 after ignoring nan's: 13.832988\n"
     ]
    }
   ],
   "source": [
    "#avg_sales_lag3 numeric value will replace with mean\n",
    "mean_avg_sales_lag3 = np.nanmean(df_merchants['avg_sales_lag3'])\n",
    "print(\"Mean of avg_sales_lag3 after ignoring nan's:\", mean_avg_sales_lag3)\n",
    "df_merchants['avg_sales_lag3'] = df_merchants[\"avg_sales_lag3\"].fillna(mean_avg_sales_lag3)"
   ]
  },
  {
   "cell_type": "code",
   "execution_count": null,
   "metadata": {
    "colab": {
     "base_uri": "https://localhost:8080/"
    },
    "id": "ilHppZod_f-n",
    "outputId": "e67a431e-2f38-4bf4-a343-c08cd01c48cc"
   },
   "outputs": [
    {
     "name": "stdout",
     "output_type": "stream",
     "text": [
      "Mean of avg_sales_lag6 after ignoring nan's: 21.650787\n"
     ]
    }
   ],
   "source": [
    "#avg_sales_lag6 numeric value will replace with mean\n",
    "mean_avg_sales_lag6 = np.nanmean(df_merchants['avg_sales_lag6'])\n",
    "print(\"Mean of avg_sales_lag6 after ignoring nan's:\", mean_avg_sales_lag6)\n",
    "df_merchants['avg_sales_lag6'] = df_merchants[\"avg_sales_lag6\"].fillna(mean_avg_sales_lag6)"
   ]
  },
  {
   "cell_type": "code",
   "execution_count": null,
   "metadata": {
    "colab": {
     "base_uri": "https://localhost:8080/"
    },
    "id": "y5Zyzve__f-n",
    "outputId": "4c8abec8-0716-4bfe-cdde-90af1551f595"
   },
   "outputs": [
    {
     "name": "stdout",
     "output_type": "stream",
     "text": [
      "Mean of avg_sales_lag12 after ignoring nan's:  25.227715\n"
     ]
    }
   ],
   "source": [
    "#avg_sales_lag12 numeric value will replace with mean\n",
    "mean_avg_sales_lag12 = np.nanmean(df_merchants['avg_sales_lag12'])\n",
    "print(\"Mean of avg_sales_lag12 after ignoring nan's: \", mean_avg_sales_lag12)\n",
    "df_merchants['avg_sales_lag12'] = df_merchants[\"avg_sales_lag12\"].fillna(mean_avg_sales_lag12)"
   ]
  },
  {
   "cell_type": "code",
   "execution_count": null,
   "metadata": {
    "colab": {
     "base_uri": "https://localhost:8080/"
    },
    "id": "X5w_sgEi_f-o",
    "outputId": "648c36bc-f905-498b-e1e7-171a79213185"
   },
   "outputs": [
    {
     "name": "stdout",
     "output_type": "stream",
     "text": [
      "Mean of avg_sales_lag6 after ignoring:  21.65079\n"
     ]
    }
   ],
   "source": [
    "#avg_sales_lag6 numeric value will replace with mean\n",
    "mean_avg_sales_lag6 = np.nanmean(df_merchants['avg_sales_lag6'])\n",
    "print(\"Mean of avg_sales_lag6 after ignoring: \", mean_avg_sales_lag6)\n",
    "df_merchants['avg_sales_lag6'] = df_merchants[\"avg_sales_lag6\"].fillna(mean_avg_sales_lag6)"
   ]
  },
  {
   "cell_type": "code",
   "execution_count": null,
   "metadata": {
    "colab": {
     "base_uri": "https://localhost:8080/"
    },
    "id": "RgfVRQ0w_f-o",
    "outputId": "b492203b-acc2-44a0-cf01-6dfc5ea6b481"
   },
   "outputs": [
    {
     "data": {
      "text/plain": [
       "1.0    160888\n",
       "5.0     52923\n",
       "3.0     51887\n",
       "4.0     36450\n",
       "2.0     20661\n",
       "Name: category_2, dtype: int64"
      ]
     },
     "execution_count": 88,
     "metadata": {
      "tags": []
     },
     "output_type": "execute_result"
    }
   ],
   "source": [
    "df_merchants['category_2'].value_counts()"
   ]
  },
  {
   "cell_type": "code",
   "execution_count": null,
   "metadata": {
    "id": "DQpnECv__f-o"
   },
   "outputs": [],
   "source": [
    "#replacing category_2 with the value that we created values that we created earlier.\n",
    "df_merchants['category_2'] = df_merchants[\"category_2\"].fillna(unknown)"
   ]
  },
  {
   "cell_type": "markdown",
   "metadata": {
    "id": "niL9ZNEnxSmA"
   },
   "source": [
    "<h3> 3.3.2 Checking columns merchant_id, merchant_group_id, merchant_category_id </h3>"
   ]
  },
  {
   "cell_type": "code",
   "execution_count": null,
   "metadata": {
    "id": "52R05BVixSmB",
    "outputId": "1d523058-58eb-45ac-9fe5-ac7be4ddf85d"
   },
   "outputs": [
    {
     "name": "stdout",
     "output_type": "stream",
     "text": [
      "No of unique merchant ids 334633\n"
     ]
    }
   ],
   "source": [
    "print(\"No of unique merchant ids\", df_merchants['merchant_id'].nunique())"
   ]
  },
  {
   "cell_type": "markdown",
   "metadata": {
    "id": "hHZ82uuCxSmB"
   },
   "source": [
    "- There are 334696 rows in this table but only 334633 unique merchant ids.\n",
    "- So we delete all the duplicate rows."
   ]
  },
  {
   "cell_type": "code",
   "execution_count": null,
   "metadata": {
    "id": "jCxg7mB4xSmB"
   },
   "outputs": [],
   "source": [
    "merchant_cols = ['merchant_id']\n",
    "df_merchants = df_merchants.drop_duplicates(subset = merchant_cols)"
   ]
  },
  {
   "cell_type": "code",
   "execution_count": null,
   "metadata": {
    "id": "UfnAIp2DxSmB",
    "outputId": "de0760c1-0b77-4c41-ce29-a967fe1825e6"
   },
   "outputs": [
    {
     "data": {
      "text/plain": [
       "(334633, 22)"
      ]
     },
     "execution_count": 93,
     "metadata": {
      "tags": []
     },
     "output_type": "execute_result"
    }
   ],
   "source": [
    "df_merchants.shape"
   ]
  },
  {
   "cell_type": "markdown",
   "metadata": {
    "id": "awhh8-Qa0PZS"
   },
   "source": [
    "<h3> 3.3.2 Checking columns avg_purchases_lag3, avg_purchases_lag6, avg_purchases_lag12 </h3>"
   ]
  },
  {
   "cell_type": "code",
   "execution_count": null,
   "metadata": {
    "colab": {
     "base_uri": "https://localhost:8080/"
    },
    "id": "MFBvShkf0ZuZ",
    "outputId": "c2e7c48b-9318-4958-9971-024dd90c9c6a"
   },
   "outputs": [
    {
     "name": "stdout",
     "output_type": "stream",
     "text": [
      "avg_purchases_lag3,  max =  inf , min=  0.33349533\n",
      "avg_purchases_lag6,  max =  inf , min=  0.16704466\n",
      "avg_purchases_lag12, max =  inf , min=  0.09832954\n"
     ]
    }
   ],
   "source": [
    "print(\"avg_purchases_lag3,  max = \", df_merchants['avg_purchases_lag3'].max(), \", min= \", df_merchants['avg_purchases_lag3'].min())\n",
    "print(\"avg_purchases_lag6,  max = \", df_merchants['avg_purchases_lag6'].max(), \", min= \", df_merchants['avg_purchases_lag6'].min())\n",
    "print(\"avg_purchases_lag12, max = \", df_merchants['avg_purchases_lag12'].max(), \", min= \", df_merchants['avg_purchases_lag12'].min())"
   ]
  },
  {
   "cell_type": "markdown",
   "metadata": {
    "id": "QDDVlkgs2Hv_"
   },
   "source": [
    "- These are columns containing inf values. We need to treat these.\n",
    "- We will replace these values with the 2nd highest values from these columns."
   ]
  },
  {
   "cell_type": "code",
   "execution_count": null,
   "metadata": {
    "colab": {
     "base_uri": "https://localhost:8080/"
    },
    "id": "sky9VOAfzfLF",
    "outputId": "f6fc5383-964b-4174-f0ac-a257f777a657"
   },
   "outputs": [
    {
     "data": {
      "text/plain": [
       "10                inf\n",
       "11                inf\n",
       "12                inf\n",
       "235      6.185133e+04\n",
       "13168    1.730000e+03\n",
       "Name: avg_purchases_lag3, dtype: float64"
      ]
     },
     "execution_count": 95,
     "metadata": {
      "tags": []
     },
     "output_type": "execute_result"
    }
   ],
   "source": [
    "#https://www.geeksforgeeks.org/python-pandas-dataframe-nlargest/\n",
    "df_merchants['avg_purchases_lag3'].nlargest()"
   ]
  },
  {
   "cell_type": "code",
   "execution_count": null,
   "metadata": {
    "id": "Lc7umYe34zxW"
   },
   "outputs": [],
   "source": [
    "df_merchants['avg_purchases_lag3'] = df_merchants['avg_purchases_lag3'].apply(lambda x : 6000 if x == np.inf else x)"
   ]
  },
  {
   "cell_type": "code",
   "execution_count": null,
   "metadata": {
    "colab": {
     "base_uri": "https://localhost:8080/"
    },
    "id": "PmMA33pz5Qwz",
    "outputId": "8b410c90-a7f6-4c43-da52-326b86a855bc"
   },
   "outputs": [
    {
     "data": {
      "text/plain": [
       "10              inf\n",
       "11              inf\n",
       "12              inf\n",
       "235    5.607750e+04\n",
       "15     3.432667e+03\n",
       "Name: avg_purchases_lag6, dtype: float64"
      ]
     },
     "execution_count": 97,
     "metadata": {
      "tags": []
     },
     "output_type": "execute_result"
    }
   ],
   "source": [
    "df_merchants['avg_purchases_lag6'].nlargest()"
   ]
  },
  {
   "cell_type": "code",
   "execution_count": null,
   "metadata": {
    "id": "NHFBBOXr5Tod"
   },
   "outputs": [],
   "source": [
    "df_merchants['avg_purchases_lag6'] = df_merchants['avg_purchases_lag6'].apply(lambda x : 5000 if x == np.inf else x)"
   ]
  },
  {
   "cell_type": "code",
   "execution_count": null,
   "metadata": {
    "colab": {
     "base_uri": "https://localhost:8080/"
    },
    "id": "32b-aYG15Z8S",
    "outputId": "58eddfd0-9bda-473b-b6a8-ad9a217fbbba"
   },
   "outputs": [
    {
     "data": {
      "text/plain": [
       "10              inf\n",
       "11              inf\n",
       "12              inf\n",
       "235    5.021556e+04\n",
       "15     5.236000e+03\n",
       "Name: avg_purchases_lag12, dtype: float64"
      ]
     },
     "execution_count": 99,
     "metadata": {
      "tags": []
     },
     "output_type": "execute_result"
    }
   ],
   "source": [
    "df_merchants['avg_purchases_lag12'].nlargest()"
   ]
  },
  {
   "cell_type": "code",
   "execution_count": null,
   "metadata": {
    "id": "nSqtSCp15drl"
   },
   "outputs": [],
   "source": [
    "df_merchants['avg_purchases_lag12'] = df_merchants['avg_purchases_lag12'].apply(lambda x : 5000 if x == np.inf else x)"
   ]
  },
  {
   "cell_type": "markdown",
   "metadata": {
    "id": "mXR3QsshxSmG"
   },
   "source": [
    "<h3> 3.3.3 Analysis on columns numerical1 and numerical2 </h3>"
   ]
  },
  {
   "cell_type": "code",
   "execution_count": null,
   "metadata": {
    "id": "fEI9TUsFxSmH",
    "outputId": "b5ba71d5-793c-452f-e6c7-572031f7cd8b"
   },
   "outputs": [
    {
     "data": {
      "image/png": "[encoded data removed]",
      "text/plain": [
       "<Figure size 432x288 with 1 Axes>"
      ]
     },
     "metadata": {
      "tags": []
     },
     "output_type": "display_data"
    }
   ],
   "source": [
    "plt.hist(df_merchants['numerical_1'], color='g')\n",
    "plt.show()"
   ]
  },
  {
   "cell_type": "code",
   "execution_count": null,
   "metadata": {
    "id": "LArHmzXZxSmH",
    "outputId": "31b0d819-bef7-4f67-f01f-12886f29f5f0"
   },
   "outputs": [
    {
     "data": {
      "image/png": "[encoded data removed]",
      "text/plain": [
       "<Figure size 432x288 with 1 Axes>"
      ]
     },
     "metadata": {
      "tags": []
     },
     "output_type": "display_data"
    }
   ],
   "source": [
    "plt.hist(df_merchants['numerical_2'], color='r')\n",
    "plt.show()"
   ]
  },
  {
   "cell_type": "markdown",
   "metadata": {
    "id": "y8GatvJgxSmH"
   },
   "source": [
    "- Both the numerical values seem to have same distribution."
   ]
  },
  {
   "cell_type": "markdown",
   "metadata": {
    "id": "hGMdsZEkxSmH"
   },
   "source": [
    "<h3> 3.3.4 Analysis on columns most_recent_sales_range and most_recent_purchases_range </h3>"
   ]
  },
  {
   "cell_type": "code",
   "execution_count": null,
   "metadata": {
    "id": "ohsw83uPxSmI",
    "outputId": "579994ea-d593-4cb0-8a99-1bf082098151"
   },
   "outputs": [
    {
     "data": {
      "image/png": "[encoded data removed]",
      "text/plain": [
       "<Figure size 504x504 with 1 Axes>"
      ]
     },
     "metadata": {
      "tags": []
     },
     "output_type": "display_data"
    }
   ],
   "source": [
    "fig, ax = plt.subplots(1, 1, figsize = (7,7))\n",
    "df_merchants['most_recent_sales_range'].value_counts().plot(kind = 'bar')\n",
    "plt.show()"
   ]
  },
  {
   "cell_type": "code",
   "execution_count": null,
   "metadata": {
    "id": "Hq0HVDU2xSmI",
    "outputId": "c7b706b8-6346-48a2-e4f1-cf832fd832b4"
   },
   "outputs": [
    {
     "data": {
      "image/png": "[encoded data removed]",
      "text/plain": [
       "<Figure size 504x504 with 1 Axes>"
      ]
     },
     "metadata": {
      "tags": []
     },
     "output_type": "display_data"
    }
   ],
   "source": [
    "fig, ax = plt.subplots(1, 1, figsize = (7,7))\n",
    "df_merchants['most_recent_purchases_range'].value_counts().plot(kind = 'bar')\n",
    "plt.show()"
   ]
  },
  {
   "cell_type": "markdown",
   "metadata": {
    "id": "0TTN5HZ3xSmI"
   },
   "source": [
    "- These two distributions are almost similar."
   ]
  },
  {
   "cell_type": "markdown",
   "metadata": {
    "id": "d4aEMbfEBur5"
   },
   "source": [
    "<h3> 3.3.3 Checking other columns </h3>"
   ]
  },
  {
   "cell_type": "code",
   "execution_count": null,
   "metadata": {
    "colab": {
     "base_uri": "https://localhost:8080/"
    },
    "id": "JqwRxku_2k89",
    "outputId": "5d2cd79e-e455-47d8-e4ba-d5e3ceeb7a56"
   },
   "outputs": [
    {
     "name": "stdout",
     "output_type": "stream",
     "text": [
      "active_months_lag3,   max =  3 , min=  1\n",
      "active_months_lag6,   max =  6 , min=  1\n",
      "active_months_lag12,  max =  12 , min=  1\n"
     ]
    }
   ],
   "source": [
    "print(\"active_months_lag3,   max = \", df_merchants['active_months_lag3'].max(), \", min= \", df_merchants['active_months_lag3'].min())\n",
    "print(\"active_months_lag6,   max = \", df_merchants['active_months_lag6'].max(), \", min= \", df_merchants['active_months_lag6'].min())\n",
    "print(\"active_months_lag12,  max = \", df_merchants['active_months_lag12'].max(), \", min= \", df_merchants['active_months_lag12'].min())"
   ]
  },
  {
   "cell_type": "code",
   "execution_count": null,
   "metadata": {
    "id": "yTON5VDmw1fY"
   },
   "outputs": [],
   "source": [
    "df_merchants['category_1'] = df_merchants['category_1'].apply(lambda x : 1 if x == 'Y' else 0)"
   ]
  },
  {
   "cell_type": "code",
   "execution_count": null,
   "metadata": {
    "id": "gf6SMUWNxEZD"
   },
   "outputs": [],
   "source": [
    "df_merchants['category_4'] = df_merchants['category_4'].apply(lambda x : 1 if x == 'Y' else 0)"
   ]
  },
  {
   "cell_type": "code",
   "execution_count": null,
   "metadata": {
    "id": "L5HTmS9oxMfy"
   },
   "outputs": [],
   "source": [
    "dictOfCat = {'A' : 1, 'B': 2, 'C' : 3, 'D' : 4 , 'E' : 5}\n",
    "df_merchants['most_recent_sales_range'] = df_merchants['most_recent_sales_range'].apply(lambda x : dictOfCat[x])\n",
    "df_merchants['most_recent_purchases_range'] = df_merchants['most_recent_purchases_range'].apply(lambda x : dictOfCat[x])"
   ]
  },
  {
   "cell_type": "markdown",
   "metadata": {
    "id": "AwnMGuxy_f-o"
   },
   "source": [
    "- There are many columns here representing the various sales and purchase data for various merchants. \n",
    "- We will need to see how much how many of them will be useful after plotting with respect to loyalty scores after aggregating data, which we will do in feature engineering part."
   ]
  },
  {
   "cell_type": "code",
   "execution_count": null,
   "metadata": {
    "id": "Tf4dm5g8xSmK"
   },
   "outputs": [],
   "source": [
    "df_merchants.to_csv(\"merchants_EDA.csv\", index = False)"
   ]
  },
  {
   "cell_type": "markdown",
   "metadata": {
    "id": "qLn8IwBfZzNJ"
   },
   "source": [
    "<h1>4. Feature Engineering <h1>"
   ]
  },
  {
   "cell_type": "code",
   "execution_count": 5,
   "metadata": {
    "id": "x9a0CqrQxSmL",
    "outputId": "5144e3e5-89cf-4c33-b413-2a12ae1e4a4b",
    "scrolled": true
   },
   "outputs": [
    {
     "name": "stdout",
     "output_type": "stream",
     "text": [
      "Mem. usage decreased to  4.04 Mb (56.2% reduction)\n",
      "Mem. usage decreased to  2.24 Mb (52.5% reduction)\n",
      "Mem. usage decreased to 1166.08 Mb (62.5% reduction)\n",
      "Mem. usage decreased to 74.88 Mb (64.3% reduction)\n",
      "Mem. usage decreased to 15.64 Mb (72.2% reduction)\n"
     ]
    }
   ],
   "source": [
    "df_train = reduce_mem_usage(pd.read_csv(\"train_EDA.csv\", parse_dates=['first_active_month']))\n",
    "df_test = reduce_mem_usage(pd.read_csv(\"test_EDA.csv\", parse_dates=['first_active_month']))\n",
    "df_hist = reduce_mem_usage(pd.read_csv(\"histTrans_EDA.csv\", parse_dates=['purchase_date']))\n",
    "df_newTrans = reduce_mem_usage(pd.read_csv(\"newTrans_EDA.csv\", parse_dates=['purchase_date']))\n",
    "df_merchants = reduce_mem_usage(pd.read_csv(\"merchants_EDA.csv\"))"
   ]
  },
  {
   "cell_type": "code",
   "execution_count": null,
   "metadata": {
    "id": "8dpEyM0HxSmM",
    "outputId": "6603b8ea-bea2-4298-d158-d08e88a041da",
    "scrolled": true
   },
   "outputs": [
    {
     "data": {
      "text/plain": [
       "20"
      ]
     },
     "execution_count": 4,
     "metadata": {
      "tags": []
     },
     "output_type": "execute_result"
    }
   ],
   "source": [
    "gc.collect()"
   ]
  },
  {
   "cell_type": "code",
   "execution_count": null,
   "metadata": {
    "id": "Bkg9WUltUoSX",
    "outputId": "5e643439-c7b9-47bd-ea7d-65c8de77bed2"
   },
   "outputs": [
    {
     "name": "stdout",
     "output_type": "stream",
     "text": [
      "Empty DataFrame\n",
      "Columns: [merchant_id, merchant_group_id, merchant_category_id, subsector_id, numerical_1, numerical_2, category_1, most_recent_sales_range, most_recent_purchases_range, avg_sales_lag3, avg_purchases_lag3, active_months_lag3, avg_sales_lag6, avg_purchases_lag6, active_months_lag6, avg_sales_lag12, avg_purchases_lag12, active_months_lag12, category_4, city_id, state_id, category_2]\n",
      "Index: []\n",
      "\n",
      "[0 rows x 22 columns]\n"
     ]
    }
   ],
   "source": [
    "nan_indexes = df_merchants[df_merchants.isna().any(1)]\n",
    "print (nan_indexes)"
   ]
  },
  {
   "cell_type": "markdown",
   "metadata": {
    "id": "5CUM361VaNU4"
   },
   "source": [
    "<h2>4.1 Extracting features from train.csv and test.csv </h2>"
   ]
  },
  {
   "cell_type": "code",
   "execution_count": null,
   "metadata": {
    "id": "3XHak2GpZ5Ws"
   },
   "outputs": [],
   "source": [
    "#https://www.geeksforgeeks.org/python-pandas-series-dt-date/\n",
    "def getFeaturesFromTrainAndTest(data):\n",
    "\n",
    "    max_dte = data['first_active_month'].dt.date.max()\n",
    "\n",
    "    #Time elapsed since first purchase\n",
    "    data['time_elapsed'] = (max_dte - data['first_active_month'].dt.date).dt.days\n",
    "\n",
    "    #Breaking first_active_month in year and month\n",
    "    data['month'] = data['first_active_month'].dt.month\n",
    "    data['year'] = data['first_active_month'].dt.year\n",
    "    data['day'] = data['first_active_month'].dt.day\n",
    "\n",
    "    return data"
   ]
  },
  {
   "cell_type": "code",
   "execution_count": null,
   "metadata": {
    "id": "zqIIGliFfYHc"
   },
   "outputs": [],
   "source": [
    "df_train_FE = getFeaturesFromTrainAndTest(df_train)\n",
    "df_test_FE = getFeaturesFromTrainAndTest(df_test)"
   ]
  },
  {
   "cell_type": "code",
   "execution_count": null,
   "metadata": {
    "id": "pEWzwDhnbx3l"
   },
   "outputs": [],
   "source": [
    "df_train_FE['is_rare'] = 0\n",
    "df_train_FE.loc[df_train_FE['target'] < -30, 'is_rare'] = 1"
   ]
  },
  {
   "cell_type": "code",
   "execution_count": null,
   "metadata": {
    "id": "6QbgX_tjbx3l"
   },
   "outputs": [],
   "source": [
    "#mean_encoding based on whether the points are outliers are not\n",
    "for f in ['feature_1','feature_2','feature_3']:\n",
    "    mean_encoding = df_train_FE.groupby([f])['is_rare'].mean()\n",
    "    df_train_FE[f] = df_train_FE[f].map(mean_encoding)\n",
    "    df_test_FE[f] = df_test_FE[f].map(mean_encoding)"
   ]
  },
  {
   "cell_type": "code",
   "execution_count": null,
   "metadata": {
    "id": "JiLu9l-sxSmN"
   },
   "outputs": [],
   "source": [
    "columns_to_drop = ['first_active_month', 'is_rare']\n",
    "df_train_FE = df_train_FE.drop(columns_to_drop, axis = 1)\n",
    "columns_to_drop = ['first_active_month']\n",
    "df_test_FE = df_test_FE.drop(columns_to_drop, axis = 1)"
   ]
  },
  {
   "cell_type": "code",
   "execution_count": null,
   "metadata": {
    "id": "8MYVLGvoxSmN",
    "outputId": "aa667ac5-ca9e-4074-ac74-d28dd47a78f4",
    "scrolled": false
   },
   "outputs": [
    {
     "data": {
      "text/html": [
       "<div>\n",
       "<style scoped>\n",
       "    .dataframe tbody tr th:only-of-type {\n",
       "        vertical-align: middle;\n",
       "    }\n",
       "\n",
       "    .dataframe tbody tr th {\n",
       "        vertical-align: top;\n",
       "    }\n",
       "\n",
       "    .dataframe thead th {\n",
       "        text-align: right;\n",
       "    }\n",
       "</style>\n",
       "<table border=\"1\" class=\"dataframe\">\n",
       "  <thead>\n",
       "    <tr style=\"text-align: right;\">\n",
       "      <th></th>\n",
       "      <th>card_id</th>\n",
       "      <th>feature_1</th>\n",
       "      <th>feature_2</th>\n",
       "      <th>feature_3</th>\n",
       "      <th>target</th>\n",
       "      <th>time_elapsed</th>\n",
       "      <th>month</th>\n",
       "      <th>year</th>\n",
       "      <th>day</th>\n",
       "    </tr>\n",
       "  </thead>\n",
       "  <tbody>\n",
       "    <tr>\n",
       "      <th>0</th>\n",
       "      <td>C_ID_f25b3d3f13</td>\n",
       "      <td>0.010479</td>\n",
       "      <td>0.011385</td>\n",
       "      <td>0.011428</td>\n",
       "      <td>0.645996</td>\n",
       "      <td>2284</td>\n",
       "      <td>11</td>\n",
       "      <td>2011</td>\n",
       "      <td>1</td>\n",
       "    </tr>\n",
       "    <tr>\n",
       "      <th>1</th>\n",
       "      <td>C_ID_2dbbc2b7fd</td>\n",
       "      <td>0.010479</td>\n",
       "      <td>0.014166</td>\n",
       "      <td>0.011428</td>\n",
       "      <td>-0.069580</td>\n",
       "      <td>2284</td>\n",
       "      <td>11</td>\n",
       "      <td>2011</td>\n",
       "      <td>1</td>\n",
       "    </tr>\n",
       "  </tbody>\n",
       "</table>\n",
       "</div>"
      ],
      "text/plain": [
       "           card_id  feature_1  feature_2  feature_3    target  time_elapsed  \\\n",
       "0  C_ID_f25b3d3f13   0.010479   0.011385   0.011428  0.645996          2284   \n",
       "1  C_ID_2dbbc2b7fd   0.010479   0.014166   0.011428 -0.069580          2284   \n",
       "\n",
       "   month  year  day  \n",
       "0     11  2011    1  \n",
       "1     11  2011    1  "
      ]
     },
     "execution_count": 11,
     "metadata": {
      "tags": []
     },
     "output_type": "execute_result"
    }
   ],
   "source": [
    "df_train_FE.head(2)"
   ]
  },
  {
   "cell_type": "code",
   "execution_count": null,
   "metadata": {
    "id": "bd4w9GLOxSmN",
    "outputId": "d20fb5c5-ca7d-4c13-bc4e-e8396efc01c5"
   },
   "outputs": [
    {
     "data": {
      "text/html": [
       "<div>\n",
       "<style scoped>\n",
       "    .dataframe tbody tr th:only-of-type {\n",
       "        vertical-align: middle;\n",
       "    }\n",
       "\n",
       "    .dataframe tbody tr th {\n",
       "        vertical-align: top;\n",
       "    }\n",
       "\n",
       "    .dataframe thead th {\n",
       "        text-align: right;\n",
       "    }\n",
       "</style>\n",
       "<table border=\"1\" class=\"dataframe\">\n",
       "  <thead>\n",
       "    <tr style=\"text-align: right;\">\n",
       "      <th></th>\n",
       "      <th>card_id</th>\n",
       "      <th>feature_1</th>\n",
       "      <th>feature_2</th>\n",
       "      <th>feature_3</th>\n",
       "      <th>time_elapsed</th>\n",
       "      <th>month</th>\n",
       "      <th>year</th>\n",
       "      <th>day</th>\n",
       "    </tr>\n",
       "  </thead>\n",
       "  <tbody>\n",
       "    <tr>\n",
       "      <th>0</th>\n",
       "      <td>C_ID_0ab67a22ab</td>\n",
       "      <td>0.010479</td>\n",
       "      <td>0.014166</td>\n",
       "      <td>0.011428</td>\n",
       "      <td>275</td>\n",
       "      <td>4</td>\n",
       "      <td>2017</td>\n",
       "      <td>1</td>\n",
       "    </tr>\n",
       "    <tr>\n",
       "      <th>1</th>\n",
       "      <td>C_ID_130fd0cbdd</td>\n",
       "      <td>0.010610</td>\n",
       "      <td>0.014166</td>\n",
       "      <td>0.010283</td>\n",
       "      <td>365</td>\n",
       "      <td>1</td>\n",
       "      <td>2017</td>\n",
       "      <td>1</td>\n",
       "    </tr>\n",
       "  </tbody>\n",
       "</table>\n",
       "</div>"
      ],
      "text/plain": [
       "           card_id  feature_1  feature_2  feature_3  time_elapsed  month  \\\n",
       "0  C_ID_0ab67a22ab   0.010479   0.014166   0.011428           275      4   \n",
       "1  C_ID_130fd0cbdd   0.010610   0.014166   0.010283           365      1   \n",
       "\n",
       "   year  day  \n",
       "0  2017    1  \n",
       "1  2017    1  "
      ]
     },
     "execution_count": 12,
     "metadata": {
      "tags": []
     },
     "output_type": "execute_result"
    }
   ],
   "source": [
    "df_test_FE.head(2)"
   ]
  },
  {
   "cell_type": "markdown",
   "metadata": {
    "id": "msLVNLAQf_Fu"
   },
   "source": [
    "<h2>4.2 Extracting features from historical_transactions.csv and new_merchants_transactions.csv </h2>"
   ]
  },
  {
   "cell_type": "markdown",
   "metadata": {
    "id": "VCBjza2VgHQ4"
   },
   "source": [
    " - Here we will aggregate data from these two datasets grouping on card ids."
   ]
  },
  {
   "cell_type": "code",
   "execution_count": null,
   "metadata": {
    "colab": {
     "base_uri": "https://localhost:8080/",
     "height": 165
    },
    "id": "JTYQ9YBLgwVo",
    "outputId": "1889a554-6a64-4790-d5ef-6090fb8e1c49"
   },
   "outputs": [
    {
     "data": {
      "text/plain": [
       "1    15589906\n",
       "2    11677522\n",
       "3     1844933\n",
       "Name: category_3, dtype: int64"
      ]
     },
     "execution_count": 13,
     "metadata": {
      "tags": []
     },
     "output_type": "execute_result"
    }
   ],
   "source": [
    "df_hist['category_3'].value_counts()"
   ]
  },
  {
   "cell_type": "code",
   "execution_count": null,
   "metadata": {
    "id": "cuOglprcUoSb"
   },
   "outputs": [],
   "source": [
    "def std(x): \n",
    "    return np.std(x)"
   ]
  },
  {
   "cell_type": "code",
   "execution_count": null,
   "metadata": {
    "id": "-UHS3IvM0rdJ"
   },
   "outputs": [],
   "source": [
    "import datetime"
   ]
  },
  {
   "cell_type": "code",
   "execution_count": null,
   "metadata": {
    "id": "xtsn2VJbgU-v"
   },
   "outputs": [],
   "source": [
    "#https://www.kaggle.com/artgor/elo-eda-and-models\n",
    "def getFeaturesFromTransactionData(data, prefix):\n",
    "\n",
    "    #Breaking purchase date into year,month, day\n",
    "    data['purchase_year'] = data['purchase_date'].dt.year\n",
    "    data['purchase_month'] = data['purchase_date'].dt.month\n",
    "    data['purchase_day'] = data['purchase_date'].dt.day\n",
    "    \n",
    "    data['month_diff'] = ((datetime.datetime.today() - data['purchase_date']).dt.days)//30\n",
    "    data['month_diff'] += data['month_lag']\n",
    "    \n",
    "    data['weekend'] = (data.purchase_date.dt.weekday >=5).astype(int)\n",
    "    data['hour'] = data['purchase_date'].dt.hour\n",
    "    \n",
    "    #Converting category_2 and category_3 into indicator variables\n",
    "    #https://pandas.pydata.org/pandas-docs/stable/reference/api/pandas.get_dummies.html\n",
    "    data = pd.get_dummies(data, columns=['category_2', 'category_3'])\n",
    "    \n",
    "    agg_func = {\n",
    "        'authorized_flag': ['sum', 'mean'],\n",
    "        'category_1': ['sum', 'mean'],\n",
    "        'category_2_1.0': ['mean', 'sum'],\n",
    "        'category_2_2.0': ['mean', 'sum'],\n",
    "        'category_2_3.0': ['mean', 'sum'],\n",
    "        'category_2_4.0': ['mean', 'sum'],\n",
    "        'category_2_5.0': ['mean', 'sum'],\n",
    "        'category_3_1': ['sum', 'mean'],\n",
    "        'category_3_2': ['sum', 'mean'],\n",
    "        'category_3_3': ['sum', 'mean'],\n",
    "        'merchant_id': ['nunique'],\n",
    "        'purchase_amount': ['sum', 'mean', 'max', 'min', std],\n",
    "        'installments': ['sum', 'mean', 'max', 'min', std],\n",
    "        'purchase_month': ['mean', 'max', 'min', std],\n",
    "        'purchase_year': ['mean', 'max', 'min', std],\n",
    "        'purchase_day': ['mean', 'max', 'min', std],\n",
    "        'month_lag': ['min', 'max'],\n",
    "        'merchant_category_id': ['nunique'],\n",
    "        'state_id': ['nunique'],\n",
    "        'subsector_id': ['nunique'],\n",
    "        'city_id': ['nunique'],\n",
    "        'month_diff': ['min', 'max', 'mean']\n",
    "    }\n",
    "    agg_trans = data.groupby(['card_id']).agg(agg_func)\n",
    "    agg_trans.columns = [prefix + '_'.join(col).strip() for col in agg_trans.columns.values]\n",
    "    agg_trans.reset_index(inplace=True)\n",
    "\n",
    "    df = (data.groupby('card_id')\n",
    "          .size()\n",
    "          .reset_index(name='{}transactions_count'.format(prefix)))\n",
    "\n",
    "    agg_trans = pd.merge(df, agg_trans, on='card_id', how='left')\n",
    "\n",
    "    return agg_trans"
   ]
  },
  {
   "cell_type": "code",
   "execution_count": null,
   "metadata": {
    "id": "KCSSUQ0YxSmP",
    "outputId": "37d0f181-79d4-418b-da7b-990085aafc81"
   },
   "outputs": [
    {
     "name": "stdout",
     "output_type": "stream",
     "text": [
      "CPU times: user 3min 13s, sys: 2.46 s, total: 3min 15s\n",
      "Wall time: 3min 14s\n"
     ]
    }
   ],
   "source": [
    "%%time\n",
    "gc.collect()\n",
    "df_hist_FE = getFeaturesFromTransactionData(df_hist, prefix = 'hist_Trans_')"
   ]
  },
  {
   "cell_type": "code",
   "execution_count": null,
   "metadata": {
    "id": "uIbBWPZNxSmQ",
    "outputId": "3a344644-8974-4293-eccf-91da02c8e3ae",
    "scrolled": true
   },
   "outputs": [
    {
     "name": "stdout",
     "output_type": "stream",
     "text": [
      "CPU times: user 3min 21s, sys: 4.05 s, total: 3min 26s\n",
      "Wall time: 3min 19s\n"
     ]
    }
   ],
   "source": [
    "%%time\n",
    "gc.collect()\n",
    "df_newTrans_FE = getFeaturesFromTransactionData(df_newTrans, prefix = 'new_Trans_')"
   ]
  },
  {
   "cell_type": "code",
   "execution_count": null,
   "metadata": {
    "id": "NGNSgsrZxSmQ",
    "outputId": "e6d28642-e1bb-4964-fb9e-a7745073ed93"
   },
   "outputs": [
    {
     "data": {
      "text/html": [
       "<div>\n",
       "<style scoped>\n",
       "    .dataframe tbody tr th:only-of-type {\n",
       "        vertical-align: middle;\n",
       "    }\n",
       "\n",
       "    .dataframe tbody tr th {\n",
       "        vertical-align: top;\n",
       "    }\n",
       "\n",
       "    .dataframe thead th {\n",
       "        text-align: right;\n",
       "    }\n",
       "</style>\n",
       "<table border=\"1\" class=\"dataframe\">\n",
       "  <thead>\n",
       "    <tr style=\"text-align: right;\">\n",
       "      <th></th>\n",
       "      <th>0</th>\n",
       "      <th>1</th>\n",
       "      <th>2</th>\n",
       "    </tr>\n",
       "  </thead>\n",
       "  <tbody>\n",
       "    <tr>\n",
       "      <th>card_id</th>\n",
       "      <td>C_ID_00007093c1</td>\n",
       "      <td>C_ID_0001238066</td>\n",
       "      <td>C_ID_0001506ef0</td>\n",
       "    </tr>\n",
       "    <tr>\n",
       "      <th>hist_Trans_transactions_count</th>\n",
       "      <td>149</td>\n",
       "      <td>123</td>\n",
       "      <td>66</td>\n",
       "    </tr>\n",
       "    <tr>\n",
       "      <th>hist_Trans_authorized_flag_sum</th>\n",
       "      <td>114</td>\n",
       "      <td>120</td>\n",
       "      <td>62</td>\n",
       "    </tr>\n",
       "    <tr>\n",
       "      <th>hist_Trans_authorized_flag_mean</th>\n",
       "      <td>0.765101</td>\n",
       "      <td>0.97561</td>\n",
       "      <td>0.939394</td>\n",
       "    </tr>\n",
       "    <tr>\n",
       "      <th>hist_Trans_category_1_sum</th>\n",
       "      <td>28</td>\n",
       "      <td>2</td>\n",
       "      <td>0</td>\n",
       "    </tr>\n",
       "    <tr>\n",
       "      <th>hist_Trans_category_1_mean</th>\n",
       "      <td>0.187919</td>\n",
       "      <td>0.0162602</td>\n",
       "      <td>0</td>\n",
       "    </tr>\n",
       "    <tr>\n",
       "      <th>hist_Trans_category_2_1.0_mean</th>\n",
       "      <td>0</td>\n",
       "      <td>0.772358</td>\n",
       "      <td>0.030303</td>\n",
       "    </tr>\n",
       "    <tr>\n",
       "      <th>hist_Trans_category_2_1.0_sum</th>\n",
       "      <td>0</td>\n",
       "      <td>95</td>\n",
       "      <td>2</td>\n",
       "    </tr>\n",
       "    <tr>\n",
       "      <th>hist_Trans_category_2_2.0_mean</th>\n",
       "      <td>0</td>\n",
       "      <td>0</td>\n",
       "      <td>0</td>\n",
       "    </tr>\n",
       "    <tr>\n",
       "      <th>hist_Trans_category_2_2.0_sum</th>\n",
       "      <td>0</td>\n",
       "      <td>0</td>\n",
       "      <td>0</td>\n",
       "    </tr>\n",
       "    <tr>\n",
       "      <th>hist_Trans_category_2_3.0_mean</th>\n",
       "      <td>0.805369</td>\n",
       "      <td>0</td>\n",
       "      <td>0.969697</td>\n",
       "    </tr>\n",
       "    <tr>\n",
       "      <th>hist_Trans_category_2_3.0_sum</th>\n",
       "      <td>120</td>\n",
       "      <td>0</td>\n",
       "      <td>64</td>\n",
       "    </tr>\n",
       "    <tr>\n",
       "      <th>hist_Trans_category_2_4.0_mean</th>\n",
       "      <td>0</td>\n",
       "      <td>0</td>\n",
       "      <td>0</td>\n",
       "    </tr>\n",
       "    <tr>\n",
       "      <th>hist_Trans_category_2_4.0_sum</th>\n",
       "      <td>0</td>\n",
       "      <td>0</td>\n",
       "      <td>0</td>\n",
       "    </tr>\n",
       "    <tr>\n",
       "      <th>hist_Trans_category_2_5.0_mean</th>\n",
       "      <td>0.00671141</td>\n",
       "      <td>0.162602</td>\n",
       "      <td>0</td>\n",
       "    </tr>\n",
       "    <tr>\n",
       "      <th>hist_Trans_category_2_5.0_sum</th>\n",
       "      <td>1</td>\n",
       "      <td>20</td>\n",
       "      <td>0</td>\n",
       "    </tr>\n",
       "    <tr>\n",
       "      <th>hist_Trans_category_3_1_sum</th>\n",
       "      <td>0</td>\n",
       "      <td>3</td>\n",
       "      <td>65</td>\n",
       "    </tr>\n",
       "    <tr>\n",
       "      <th>hist_Trans_category_3_1_mean</th>\n",
       "      <td>0</td>\n",
       "      <td>0.0243902</td>\n",
       "      <td>0.984848</td>\n",
       "    </tr>\n",
       "    <tr>\n",
       "      <th>hist_Trans_category_3_2_sum</th>\n",
       "      <td>125</td>\n",
       "      <td>88</td>\n",
       "      <td>1</td>\n",
       "    </tr>\n",
       "    <tr>\n",
       "      <th>hist_Trans_category_3_2_mean</th>\n",
       "      <td>0.838926</td>\n",
       "      <td>0.715447</td>\n",
       "      <td>0.0151515</td>\n",
       "    </tr>\n",
       "    <tr>\n",
       "      <th>hist_Trans_category_3_3_sum</th>\n",
       "      <td>24</td>\n",
       "      <td>32</td>\n",
       "      <td>0</td>\n",
       "    </tr>\n",
       "    <tr>\n",
       "      <th>hist_Trans_category_3_3_mean</th>\n",
       "      <td>0.161074</td>\n",
       "      <td>0.260163</td>\n",
       "      <td>0</td>\n",
       "    </tr>\n",
       "    <tr>\n",
       "      <th>hist_Trans_merchant_id_nunique</th>\n",
       "      <td>29</td>\n",
       "      <td>65</td>\n",
       "      <td>28</td>\n",
       "    </tr>\n",
       "    <tr>\n",
       "      <th>hist_Trans_purchase_amount_sum</th>\n",
       "      <td>-76.845</td>\n",
       "      <td>-72.4472</td>\n",
       "      <td>-34.6019</td>\n",
       "    </tr>\n",
       "    <tr>\n",
       "      <th>hist_Trans_purchase_amount_mean</th>\n",
       "      <td>-0.515739</td>\n",
       "      <td>-0.589002</td>\n",
       "      <td>-0.524271</td>\n",
       "    </tr>\n",
       "    <tr>\n",
       "      <th>hist_Trans_purchase_amount_max</th>\n",
       "      <td>1.50707</td>\n",
       "      <td>0.768095</td>\n",
       "      <td>1.49355</td>\n",
       "    </tr>\n",
       "    <tr>\n",
       "      <th>hist_Trans_purchase_amount_min</th>\n",
       "      <td>-0.728876</td>\n",
       "      <td>-0.734887</td>\n",
       "      <td>-0.740491</td>\n",
       "    </tr>\n",
       "    <tr>\n",
       "      <th>hist_Trans_purchase_amount_std</th>\n",
       "      <td>0.297139</td>\n",
       "      <td>0.18946</td>\n",
       "      <td>0.468693</td>\n",
       "    </tr>\n",
       "    <tr>\n",
       "      <th>hist_Trans_installments_sum</th>\n",
       "      <td>192</td>\n",
       "      <td>198</td>\n",
       "      <td>1</td>\n",
       "    </tr>\n",
       "    <tr>\n",
       "      <th>hist_Trans_installments_mean</th>\n",
       "      <td>1.28859</td>\n",
       "      <td>1.60976</td>\n",
       "      <td>0.0151515</td>\n",
       "    </tr>\n",
       "    <tr>\n",
       "      <th>hist_Trans_installments_max</th>\n",
       "      <td>6</td>\n",
       "      <td>10</td>\n",
       "      <td>1</td>\n",
       "    </tr>\n",
       "    <tr>\n",
       "      <th>hist_Trans_installments_min</th>\n",
       "      <td>1</td>\n",
       "      <td>-1</td>\n",
       "      <td>0</td>\n",
       "    </tr>\n",
       "    <tr>\n",
       "      <th>hist_Trans_installments_std</th>\n",
       "      <td>0.762329</td>\n",
       "      <td>1.47959</td>\n",
       "      <td>0.122155</td>\n",
       "    </tr>\n",
       "    <tr>\n",
       "      <th>hist_Trans_purchase_month_mean</th>\n",
       "      <td>6.37584</td>\n",
       "      <td>7.30894</td>\n",
       "      <td>6.80303</td>\n",
       "    </tr>\n",
       "    <tr>\n",
       "      <th>hist_Trans_purchase_month_max</th>\n",
       "      <td>12</td>\n",
       "      <td>12</td>\n",
       "      <td>12</td>\n",
       "    </tr>\n",
       "    <tr>\n",
       "      <th>hist_Trans_purchase_month_min</th>\n",
       "      <td>1</td>\n",
       "      <td>1</td>\n",
       "      <td>1</td>\n",
       "    </tr>\n",
       "    <tr>\n",
       "      <th>hist_Trans_purchase_month_std</th>\n",
       "      <td>3.2922</td>\n",
       "      <td>4.87591</td>\n",
       "      <td>4.48979</td>\n",
       "    </tr>\n",
       "    <tr>\n",
       "      <th>hist_Trans_purchase_year_mean</th>\n",
       "      <td>2017.15</td>\n",
       "      <td>2017.41</td>\n",
       "      <td>2017.2</td>\n",
       "    </tr>\n",
       "    <tr>\n",
       "      <th>hist_Trans_purchase_year_max</th>\n",
       "      <td>2018</td>\n",
       "      <td>2018</td>\n",
       "      <td>2018</td>\n",
       "    </tr>\n",
       "    <tr>\n",
       "      <th>hist_Trans_purchase_year_min</th>\n",
       "      <td>2017</td>\n",
       "      <td>2017</td>\n",
       "      <td>2017</td>\n",
       "    </tr>\n",
       "    <tr>\n",
       "      <th>hist_Trans_purchase_year_std</th>\n",
       "      <td>0.354754</td>\n",
       "      <td>0.491181</td>\n",
       "      <td>0.397709</td>\n",
       "    </tr>\n",
       "    <tr>\n",
       "      <th>hist_Trans_purchase_day_mean</th>\n",
       "      <td>13.2483</td>\n",
       "      <td>16.1382</td>\n",
       "      <td>12</td>\n",
       "    </tr>\n",
       "    <tr>\n",
       "      <th>hist_Trans_purchase_day_max</th>\n",
       "      <td>31</td>\n",
       "      <td>30</td>\n",
       "      <td>31</td>\n",
       "    </tr>\n",
       "    <tr>\n",
       "      <th>hist_Trans_purchase_day_min</th>\n",
       "      <td>1</td>\n",
       "      <td>1</td>\n",
       "      <td>1</td>\n",
       "    </tr>\n",
       "    <tr>\n",
       "      <th>hist_Trans_purchase_day_std</th>\n",
       "      <td>9.05161</td>\n",
       "      <td>8.48942</td>\n",
       "      <td>7.56187</td>\n",
       "    </tr>\n",
       "    <tr>\n",
       "      <th>hist_Trans_month_lag_min</th>\n",
       "      <td>-12</td>\n",
       "      <td>-5</td>\n",
       "      <td>-13</td>\n",
       "    </tr>\n",
       "    <tr>\n",
       "      <th>hist_Trans_month_lag_max</th>\n",
       "      <td>0</td>\n",
       "      <td>0</td>\n",
       "      <td>0</td>\n",
       "    </tr>\n",
       "    <tr>\n",
       "      <th>hist_Trans_merchant_category_id_nunique</th>\n",
       "      <td>18</td>\n",
       "      <td>29</td>\n",
       "      <td>19</td>\n",
       "    </tr>\n",
       "    <tr>\n",
       "      <th>hist_Trans_state_id_nunique</th>\n",
       "      <td>3</td>\n",
       "      <td>6</td>\n",
       "      <td>2</td>\n",
       "    </tr>\n",
       "    <tr>\n",
       "      <th>hist_Trans_subsector_id_nunique</th>\n",
       "      <td>13</td>\n",
       "      <td>17</td>\n",
       "      <td>12</td>\n",
       "    </tr>\n",
       "    <tr>\n",
       "      <th>hist_Trans_city_id_nunique</th>\n",
       "      <td>4</td>\n",
       "      <td>18</td>\n",
       "      <td>3</td>\n",
       "    </tr>\n",
       "    <tr>\n",
       "      <th>hist_Trans_month_diff_min</th>\n",
       "      <td>35</td>\n",
       "      <td>35</td>\n",
       "      <td>35</td>\n",
       "    </tr>\n",
       "    <tr>\n",
       "      <th>hist_Trans_month_diff_max</th>\n",
       "      <td>36</td>\n",
       "      <td>36</td>\n",
       "      <td>36</td>\n",
       "    </tr>\n",
       "    <tr>\n",
       "      <th>hist_Trans_month_diff_mean</th>\n",
       "      <td>35.7181</td>\n",
       "      <td>35.3984</td>\n",
       "      <td>35.7121</td>\n",
       "    </tr>\n",
       "  </tbody>\n",
       "</table>\n",
       "</div>"
      ],
      "text/plain": [
       "                                                       0                1  \\\n",
       "card_id                                  C_ID_00007093c1  C_ID_0001238066   \n",
       "hist_Trans_transactions_count                        149              123   \n",
       "hist_Trans_authorized_flag_sum                       114              120   \n",
       "hist_Trans_authorized_flag_mean                 0.765101          0.97561   \n",
       "hist_Trans_category_1_sum                             28                2   \n",
       "hist_Trans_category_1_mean                      0.187919        0.0162602   \n",
       "hist_Trans_category_2_1.0_mean                         0         0.772358   \n",
       "hist_Trans_category_2_1.0_sum                          0               95   \n",
       "hist_Trans_category_2_2.0_mean                         0                0   \n",
       "hist_Trans_category_2_2.0_sum                          0                0   \n",
       "hist_Trans_category_2_3.0_mean                  0.805369                0   \n",
       "hist_Trans_category_2_3.0_sum                        120                0   \n",
       "hist_Trans_category_2_4.0_mean                         0                0   \n",
       "hist_Trans_category_2_4.0_sum                          0                0   \n",
       "hist_Trans_category_2_5.0_mean                0.00671141         0.162602   \n",
       "hist_Trans_category_2_5.0_sum                          1               20   \n",
       "hist_Trans_category_3_1_sum                            0                3   \n",
       "hist_Trans_category_3_1_mean                           0        0.0243902   \n",
       "hist_Trans_category_3_2_sum                          125               88   \n",
       "hist_Trans_category_3_2_mean                    0.838926         0.715447   \n",
       "hist_Trans_category_3_3_sum                           24               32   \n",
       "hist_Trans_category_3_3_mean                    0.161074         0.260163   \n",
       "hist_Trans_merchant_id_nunique                        29               65   \n",
       "hist_Trans_purchase_amount_sum                   -76.845         -72.4472   \n",
       "hist_Trans_purchase_amount_mean                -0.515739        -0.589002   \n",
       "hist_Trans_purchase_amount_max                   1.50707         0.768095   \n",
       "hist_Trans_purchase_amount_min                 -0.728876        -0.734887   \n",
       "hist_Trans_purchase_amount_std                  0.297139          0.18946   \n",
       "hist_Trans_installments_sum                          192              198   \n",
       "hist_Trans_installments_mean                     1.28859          1.60976   \n",
       "hist_Trans_installments_max                            6               10   \n",
       "hist_Trans_installments_min                            1               -1   \n",
       "hist_Trans_installments_std                     0.762329          1.47959   \n",
       "hist_Trans_purchase_month_mean                   6.37584          7.30894   \n",
       "hist_Trans_purchase_month_max                         12               12   \n",
       "hist_Trans_purchase_month_min                          1                1   \n",
       "hist_Trans_purchase_month_std                     3.2922          4.87591   \n",
       "hist_Trans_purchase_year_mean                    2017.15          2017.41   \n",
       "hist_Trans_purchase_year_max                        2018             2018   \n",
       "hist_Trans_purchase_year_min                        2017             2017   \n",
       "hist_Trans_purchase_year_std                    0.354754         0.491181   \n",
       "hist_Trans_purchase_day_mean                     13.2483          16.1382   \n",
       "hist_Trans_purchase_day_max                           31               30   \n",
       "hist_Trans_purchase_day_min                            1                1   \n",
       "hist_Trans_purchase_day_std                      9.05161          8.48942   \n",
       "hist_Trans_month_lag_min                             -12               -5   \n",
       "hist_Trans_month_lag_max                               0                0   \n",
       "hist_Trans_merchant_category_id_nunique               18               29   \n",
       "hist_Trans_state_id_nunique                            3                6   \n",
       "hist_Trans_subsector_id_nunique                       13               17   \n",
       "hist_Trans_city_id_nunique                             4               18   \n",
       "hist_Trans_month_diff_min                             35               35   \n",
       "hist_Trans_month_diff_max                             36               36   \n",
       "hist_Trans_month_diff_mean                       35.7181          35.3984   \n",
       "\n",
       "                                                       2  \n",
       "card_id                                  C_ID_0001506ef0  \n",
       "hist_Trans_transactions_count                         66  \n",
       "hist_Trans_authorized_flag_sum                        62  \n",
       "hist_Trans_authorized_flag_mean                 0.939394  \n",
       "hist_Trans_category_1_sum                              0  \n",
       "hist_Trans_category_1_mean                             0  \n",
       "hist_Trans_category_2_1.0_mean                  0.030303  \n",
       "hist_Trans_category_2_1.0_sum                          2  \n",
       "hist_Trans_category_2_2.0_mean                         0  \n",
       "hist_Trans_category_2_2.0_sum                          0  \n",
       "hist_Trans_category_2_3.0_mean                  0.969697  \n",
       "hist_Trans_category_2_3.0_sum                         64  \n",
       "hist_Trans_category_2_4.0_mean                         0  \n",
       "hist_Trans_category_2_4.0_sum                          0  \n",
       "hist_Trans_category_2_5.0_mean                         0  \n",
       "hist_Trans_category_2_5.0_sum                          0  \n",
       "hist_Trans_category_3_1_sum                           65  \n",
       "hist_Trans_category_3_1_mean                    0.984848  \n",
       "hist_Trans_category_3_2_sum                            1  \n",
       "hist_Trans_category_3_2_mean                   0.0151515  \n",
       "hist_Trans_category_3_3_sum                            0  \n",
       "hist_Trans_category_3_3_mean                           0  \n",
       "hist_Trans_merchant_id_nunique                        28  \n",
       "hist_Trans_purchase_amount_sum                  -34.6019  \n",
       "hist_Trans_purchase_amount_mean                -0.524271  \n",
       "hist_Trans_purchase_amount_max                   1.49355  \n",
       "hist_Trans_purchase_amount_min                 -0.740491  \n",
       "hist_Trans_purchase_amount_std                  0.468693  \n",
       "hist_Trans_installments_sum                            1  \n",
       "hist_Trans_installments_mean                   0.0151515  \n",
       "hist_Trans_installments_max                            1  \n",
       "hist_Trans_installments_min                            0  \n",
       "hist_Trans_installments_std                     0.122155  \n",
       "hist_Trans_purchase_month_mean                   6.80303  \n",
       "hist_Trans_purchase_month_max                         12  \n",
       "hist_Trans_purchase_month_min                          1  \n",
       "hist_Trans_purchase_month_std                    4.48979  \n",
       "hist_Trans_purchase_year_mean                     2017.2  \n",
       "hist_Trans_purchase_year_max                        2018  \n",
       "hist_Trans_purchase_year_min                        2017  \n",
       "hist_Trans_purchase_year_std                    0.397709  \n",
       "hist_Trans_purchase_day_mean                          12  \n",
       "hist_Trans_purchase_day_max                           31  \n",
       "hist_Trans_purchase_day_min                            1  \n",
       "hist_Trans_purchase_day_std                      7.56187  \n",
       "hist_Trans_month_lag_min                             -13  \n",
       "hist_Trans_month_lag_max                               0  \n",
       "hist_Trans_merchant_category_id_nunique               19  \n",
       "hist_Trans_state_id_nunique                            2  \n",
       "hist_Trans_subsector_id_nunique                       12  \n",
       "hist_Trans_city_id_nunique                             3  \n",
       "hist_Trans_month_diff_min                             35  \n",
       "hist_Trans_month_diff_max                             36  \n",
       "hist_Trans_month_diff_mean                       35.7121  "
      ]
     },
     "execution_count": 19,
     "metadata": {
      "tags": []
     },
     "output_type": "execute_result"
    }
   ],
   "source": [
    "df_hist_FE.head(3).T"
   ]
  },
  {
   "cell_type": "code",
   "execution_count": null,
   "metadata": {
    "id": "r8nW0rlpxSmR",
    "outputId": "650e4198-9148-4776-fc7f-ce46853ecee1"
   },
   "outputs": [
    {
     "data": {
      "text/html": [
       "<div>\n",
       "<style scoped>\n",
       "    .dataframe tbody tr th:only-of-type {\n",
       "        vertical-align: middle;\n",
       "    }\n",
       "\n",
       "    .dataframe tbody tr th {\n",
       "        vertical-align: top;\n",
       "    }\n",
       "\n",
       "    .dataframe thead th {\n",
       "        text-align: right;\n",
       "    }\n",
       "</style>\n",
       "<table border=\"1\" class=\"dataframe\">\n",
       "  <thead>\n",
       "    <tr style=\"text-align: right;\">\n",
       "      <th></th>\n",
       "      <th>0</th>\n",
       "      <th>1</th>\n",
       "      <th>2</th>\n",
       "    </tr>\n",
       "  </thead>\n",
       "  <tbody>\n",
       "    <tr>\n",
       "      <th>card_id</th>\n",
       "      <td>C_ID_00007093c1</td>\n",
       "      <td>C_ID_0001238066</td>\n",
       "      <td>C_ID_0001506ef0</td>\n",
       "    </tr>\n",
       "    <tr>\n",
       "      <th>new_Trans_transactions_count</th>\n",
       "      <td>2</td>\n",
       "      <td>26</td>\n",
       "      <td>2</td>\n",
       "    </tr>\n",
       "    <tr>\n",
       "      <th>new_Trans_authorized_flag_sum</th>\n",
       "      <td>2</td>\n",
       "      <td>26</td>\n",
       "      <td>2</td>\n",
       "    </tr>\n",
       "    <tr>\n",
       "      <th>new_Trans_authorized_flag_mean</th>\n",
       "      <td>1</td>\n",
       "      <td>1</td>\n",
       "      <td>1</td>\n",
       "    </tr>\n",
       "    <tr>\n",
       "      <th>new_Trans_category_1_sum</th>\n",
       "      <td>0</td>\n",
       "      <td>2</td>\n",
       "      <td>0</td>\n",
       "    </tr>\n",
       "    <tr>\n",
       "      <th>new_Trans_category_1_mean</th>\n",
       "      <td>0</td>\n",
       "      <td>0.0769231</td>\n",
       "      <td>0</td>\n",
       "    </tr>\n",
       "    <tr>\n",
       "      <th>new_Trans_category_2_1.0_mean</th>\n",
       "      <td>0.5</td>\n",
       "      <td>0.769231</td>\n",
       "      <td>0</td>\n",
       "    </tr>\n",
       "    <tr>\n",
       "      <th>new_Trans_category_2_1.0_sum</th>\n",
       "      <td>1</td>\n",
       "      <td>20</td>\n",
       "      <td>0</td>\n",
       "    </tr>\n",
       "    <tr>\n",
       "      <th>new_Trans_category_2_2.0_mean</th>\n",
       "      <td>0</td>\n",
       "      <td>0</td>\n",
       "      <td>0</td>\n",
       "    </tr>\n",
       "    <tr>\n",
       "      <th>new_Trans_category_2_2.0_sum</th>\n",
       "      <td>0</td>\n",
       "      <td>0</td>\n",
       "      <td>0</td>\n",
       "    </tr>\n",
       "    <tr>\n",
       "      <th>new_Trans_category_2_3.0_mean</th>\n",
       "      <td>0.5</td>\n",
       "      <td>0</td>\n",
       "      <td>1</td>\n",
       "    </tr>\n",
       "    <tr>\n",
       "      <th>new_Trans_category_2_3.0_sum</th>\n",
       "      <td>1</td>\n",
       "      <td>0</td>\n",
       "      <td>2</td>\n",
       "    </tr>\n",
       "    <tr>\n",
       "      <th>new_Trans_category_2_4.0_mean</th>\n",
       "      <td>0</td>\n",
       "      <td>0</td>\n",
       "      <td>0</td>\n",
       "    </tr>\n",
       "    <tr>\n",
       "      <th>new_Trans_category_2_4.0_sum</th>\n",
       "      <td>0</td>\n",
       "      <td>0</td>\n",
       "      <td>0</td>\n",
       "    </tr>\n",
       "    <tr>\n",
       "      <th>new_Trans_category_2_5.0_mean</th>\n",
       "      <td>0</td>\n",
       "      <td>0.115385</td>\n",
       "      <td>0</td>\n",
       "    </tr>\n",
       "    <tr>\n",
       "      <th>new_Trans_category_2_5.0_sum</th>\n",
       "      <td>0</td>\n",
       "      <td>3</td>\n",
       "      <td>0</td>\n",
       "    </tr>\n",
       "    <tr>\n",
       "      <th>new_Trans_category_3_1_sum</th>\n",
       "      <td>0</td>\n",
       "      <td>1</td>\n",
       "      <td>2</td>\n",
       "    </tr>\n",
       "    <tr>\n",
       "      <th>new_Trans_category_3_1_mean</th>\n",
       "      <td>0</td>\n",
       "      <td>0.0384615</td>\n",
       "      <td>1</td>\n",
       "    </tr>\n",
       "    <tr>\n",
       "      <th>new_Trans_category_3_2_sum</th>\n",
       "      <td>2</td>\n",
       "      <td>21</td>\n",
       "      <td>0</td>\n",
       "    </tr>\n",
       "    <tr>\n",
       "      <th>new_Trans_category_3_2_mean</th>\n",
       "      <td>1</td>\n",
       "      <td>0.807692</td>\n",
       "      <td>0</td>\n",
       "    </tr>\n",
       "    <tr>\n",
       "      <th>new_Trans_category_3_3_sum</th>\n",
       "      <td>0</td>\n",
       "      <td>4</td>\n",
       "      <td>0</td>\n",
       "    </tr>\n",
       "    <tr>\n",
       "      <th>new_Trans_category_3_3_mean</th>\n",
       "      <td>0</td>\n",
       "      <td>0.153846</td>\n",
       "      <td>0</td>\n",
       "    </tr>\n",
       "    <tr>\n",
       "      <th>new_Trans_merchant_id_nunique</th>\n",
       "      <td>2</td>\n",
       "      <td>25</td>\n",
       "      <td>2</td>\n",
       "    </tr>\n",
       "    <tr>\n",
       "      <th>new_Trans_purchase_amount_sum</th>\n",
       "      <td>-1.32812</td>\n",
       "      <td>-14.8516</td>\n",
       "      <td>-1.44727</td>\n",
       "    </tr>\n",
       "    <tr>\n",
       "      <th>new_Trans_purchase_amount_mean</th>\n",
       "      <td>-0.664062</td>\n",
       "      <td>-0.571289</td>\n",
       "      <td>-0.723633</td>\n",
       "    </tr>\n",
       "    <tr>\n",
       "      <th>new_Trans_purchase_amount_max</th>\n",
       "      <td>-0.656738</td>\n",
       "      <td>-0.0783081</td>\n",
       "      <td>-0.715332</td>\n",
       "    </tr>\n",
       "    <tr>\n",
       "      <th>new_Trans_purchase_amount_min</th>\n",
       "      <td>-0.671875</td>\n",
       "      <td>-0.740723</td>\n",
       "      <td>-0.731934</td>\n",
       "    </tr>\n",
       "    <tr>\n",
       "      <th>new_Trans_purchase_amount_std</th>\n",
       "      <td>0.00757217</td>\n",
       "      <td>0.170044</td>\n",
       "      <td>0.00830078</td>\n",
       "    </tr>\n",
       "    <tr>\n",
       "      <th>new_Trans_installments_sum</th>\n",
       "      <td>2</td>\n",
       "      <td>42</td>\n",
       "      <td>0</td>\n",
       "    </tr>\n",
       "    <tr>\n",
       "      <th>new_Trans_installments_mean</th>\n",
       "      <td>1</td>\n",
       "      <td>1.61538</td>\n",
       "      <td>0</td>\n",
       "    </tr>\n",
       "    <tr>\n",
       "      <th>new_Trans_installments_max</th>\n",
       "      <td>1</td>\n",
       "      <td>10</td>\n",
       "      <td>0</td>\n",
       "    </tr>\n",
       "    <tr>\n",
       "      <th>new_Trans_installments_min</th>\n",
       "      <td>1</td>\n",
       "      <td>-1</td>\n",
       "      <td>0</td>\n",
       "    </tr>\n",
       "    <tr>\n",
       "      <th>new_Trans_installments_std</th>\n",
       "      <td>0</td>\n",
       "      <td>2.03955</td>\n",
       "      <td>0</td>\n",
       "    </tr>\n",
       "    <tr>\n",
       "      <th>new_Trans_purchase_month_mean</th>\n",
       "      <td>4</td>\n",
       "      <td>3.34615</td>\n",
       "      <td>3</td>\n",
       "    </tr>\n",
       "    <tr>\n",
       "      <th>new_Trans_purchase_month_max</th>\n",
       "      <td>4</td>\n",
       "      <td>4</td>\n",
       "      <td>3</td>\n",
       "    </tr>\n",
       "    <tr>\n",
       "      <th>new_Trans_purchase_month_min</th>\n",
       "      <td>4</td>\n",
       "      <td>3</td>\n",
       "      <td>3</td>\n",
       "    </tr>\n",
       "    <tr>\n",
       "      <th>new_Trans_purchase_month_std</th>\n",
       "      <td>0</td>\n",
       "      <td>0.475743</td>\n",
       "      <td>0</td>\n",
       "    </tr>\n",
       "    <tr>\n",
       "      <th>new_Trans_purchase_year_mean</th>\n",
       "      <td>2018</td>\n",
       "      <td>2018</td>\n",
       "      <td>2018</td>\n",
       "    </tr>\n",
       "    <tr>\n",
       "      <th>new_Trans_purchase_year_max</th>\n",
       "      <td>2018</td>\n",
       "      <td>2018</td>\n",
       "      <td>2018</td>\n",
       "    </tr>\n",
       "    <tr>\n",
       "      <th>new_Trans_purchase_year_min</th>\n",
       "      <td>2018</td>\n",
       "      <td>2018</td>\n",
       "      <td>2018</td>\n",
       "    </tr>\n",
       "    <tr>\n",
       "      <th>new_Trans_purchase_year_std</th>\n",
       "      <td>0</td>\n",
       "      <td>0</td>\n",
       "      <td>0</td>\n",
       "    </tr>\n",
       "    <tr>\n",
       "      <th>new_Trans_purchase_day_mean</th>\n",
       "      <td>6</td>\n",
       "      <td>18.2308</td>\n",
       "      <td>19</td>\n",
       "    </tr>\n",
       "    <tr>\n",
       "      <th>new_Trans_purchase_day_max</th>\n",
       "      <td>9</td>\n",
       "      <td>30</td>\n",
       "      <td>22</td>\n",
       "    </tr>\n",
       "    <tr>\n",
       "      <th>new_Trans_purchase_day_min</th>\n",
       "      <td>3</td>\n",
       "      <td>1</td>\n",
       "      <td>16</td>\n",
       "    </tr>\n",
       "    <tr>\n",
       "      <th>new_Trans_purchase_day_std</th>\n",
       "      <td>3</td>\n",
       "      <td>8.86353</td>\n",
       "      <td>3</td>\n",
       "    </tr>\n",
       "    <tr>\n",
       "      <th>new_Trans_month_lag_min</th>\n",
       "      <td>2</td>\n",
       "      <td>1</td>\n",
       "      <td>1</td>\n",
       "    </tr>\n",
       "    <tr>\n",
       "      <th>new_Trans_month_lag_max</th>\n",
       "      <td>2</td>\n",
       "      <td>2</td>\n",
       "      <td>1</td>\n",
       "    </tr>\n",
       "    <tr>\n",
       "      <th>new_Trans_merchant_category_id_nunique</th>\n",
       "      <td>2</td>\n",
       "      <td>15</td>\n",
       "      <td>2</td>\n",
       "    </tr>\n",
       "    <tr>\n",
       "      <th>new_Trans_state_id_nunique</th>\n",
       "      <td>2</td>\n",
       "      <td>4</td>\n",
       "      <td>1</td>\n",
       "    </tr>\n",
       "    <tr>\n",
       "      <th>new_Trans_subsector_id_nunique</th>\n",
       "      <td>2</td>\n",
       "      <td>9</td>\n",
       "      <td>2</td>\n",
       "    </tr>\n",
       "    <tr>\n",
       "      <th>new_Trans_city_id_nunique</th>\n",
       "      <td>2</td>\n",
       "      <td>8</td>\n",
       "      <td>1</td>\n",
       "    </tr>\n",
       "    <tr>\n",
       "      <th>new_Trans_month_diff_min</th>\n",
       "      <td>36</td>\n",
       "      <td>35</td>\n",
       "      <td>35</td>\n",
       "    </tr>\n",
       "    <tr>\n",
       "      <th>new_Trans_month_diff_max</th>\n",
       "      <td>36</td>\n",
       "      <td>36</td>\n",
       "      <td>35</td>\n",
       "    </tr>\n",
       "    <tr>\n",
       "      <th>new_Trans_month_diff_mean</th>\n",
       "      <td>36</td>\n",
       "      <td>35.2308</td>\n",
       "      <td>35</td>\n",
       "    </tr>\n",
       "  </tbody>\n",
       "</table>\n",
       "</div>"
      ],
      "text/plain": [
       "                                                      0                1  \\\n",
       "card_id                                 C_ID_00007093c1  C_ID_0001238066   \n",
       "new_Trans_transactions_count                          2               26   \n",
       "new_Trans_authorized_flag_sum                         2               26   \n",
       "new_Trans_authorized_flag_mean                        1                1   \n",
       "new_Trans_category_1_sum                              0                2   \n",
       "new_Trans_category_1_mean                             0        0.0769231   \n",
       "new_Trans_category_2_1.0_mean                       0.5         0.769231   \n",
       "new_Trans_category_2_1.0_sum                          1               20   \n",
       "new_Trans_category_2_2.0_mean                         0                0   \n",
       "new_Trans_category_2_2.0_sum                          0                0   \n",
       "new_Trans_category_2_3.0_mean                       0.5                0   \n",
       "new_Trans_category_2_3.0_sum                          1                0   \n",
       "new_Trans_category_2_4.0_mean                         0                0   \n",
       "new_Trans_category_2_4.0_sum                          0                0   \n",
       "new_Trans_category_2_5.0_mean                         0         0.115385   \n",
       "new_Trans_category_2_5.0_sum                          0                3   \n",
       "new_Trans_category_3_1_sum                            0                1   \n",
       "new_Trans_category_3_1_mean                           0        0.0384615   \n",
       "new_Trans_category_3_2_sum                            2               21   \n",
       "new_Trans_category_3_2_mean                           1         0.807692   \n",
       "new_Trans_category_3_3_sum                            0                4   \n",
       "new_Trans_category_3_3_mean                           0         0.153846   \n",
       "new_Trans_merchant_id_nunique                         2               25   \n",
       "new_Trans_purchase_amount_sum                  -1.32812         -14.8516   \n",
       "new_Trans_purchase_amount_mean                -0.664062        -0.571289   \n",
       "new_Trans_purchase_amount_max                 -0.656738       -0.0783081   \n",
       "new_Trans_purchase_amount_min                 -0.671875        -0.740723   \n",
       "new_Trans_purchase_amount_std                0.00757217         0.170044   \n",
       "new_Trans_installments_sum                            2               42   \n",
       "new_Trans_installments_mean                           1          1.61538   \n",
       "new_Trans_installments_max                            1               10   \n",
       "new_Trans_installments_min                            1               -1   \n",
       "new_Trans_installments_std                            0          2.03955   \n",
       "new_Trans_purchase_month_mean                         4          3.34615   \n",
       "new_Trans_purchase_month_max                          4                4   \n",
       "new_Trans_purchase_month_min                          4                3   \n",
       "new_Trans_purchase_month_std                          0         0.475743   \n",
       "new_Trans_purchase_year_mean                       2018             2018   \n",
       "new_Trans_purchase_year_max                        2018             2018   \n",
       "new_Trans_purchase_year_min                        2018             2018   \n",
       "new_Trans_purchase_year_std                           0                0   \n",
       "new_Trans_purchase_day_mean                           6          18.2308   \n",
       "new_Trans_purchase_day_max                            9               30   \n",
       "new_Trans_purchase_day_min                            3                1   \n",
       "new_Trans_purchase_day_std                            3          8.86353   \n",
       "new_Trans_month_lag_min                               2                1   \n",
       "new_Trans_month_lag_max                               2                2   \n",
       "new_Trans_merchant_category_id_nunique                2               15   \n",
       "new_Trans_state_id_nunique                            2                4   \n",
       "new_Trans_subsector_id_nunique                        2                9   \n",
       "new_Trans_city_id_nunique                             2                8   \n",
       "new_Trans_month_diff_min                             36               35   \n",
       "new_Trans_month_diff_max                             36               36   \n",
       "new_Trans_month_diff_mean                            36          35.2308   \n",
       "\n",
       "                                                      2  \n",
       "card_id                                 C_ID_0001506ef0  \n",
       "new_Trans_transactions_count                          2  \n",
       "new_Trans_authorized_flag_sum                         2  \n",
       "new_Trans_authorized_flag_mean                        1  \n",
       "new_Trans_category_1_sum                              0  \n",
       "new_Trans_category_1_mean                             0  \n",
       "new_Trans_category_2_1.0_mean                         0  \n",
       "new_Trans_category_2_1.0_sum                          0  \n",
       "new_Trans_category_2_2.0_mean                         0  \n",
       "new_Trans_category_2_2.0_sum                          0  \n",
       "new_Trans_category_2_3.0_mean                         1  \n",
       "new_Trans_category_2_3.0_sum                          2  \n",
       "new_Trans_category_2_4.0_mean                         0  \n",
       "new_Trans_category_2_4.0_sum                          0  \n",
       "new_Trans_category_2_5.0_mean                         0  \n",
       "new_Trans_category_2_5.0_sum                          0  \n",
       "new_Trans_category_3_1_sum                            2  \n",
       "new_Trans_category_3_1_mean                           1  \n",
       "new_Trans_category_3_2_sum                            0  \n",
       "new_Trans_category_3_2_mean                           0  \n",
       "new_Trans_category_3_3_sum                            0  \n",
       "new_Trans_category_3_3_mean                           0  \n",
       "new_Trans_merchant_id_nunique                         2  \n",
       "new_Trans_purchase_amount_sum                  -1.44727  \n",
       "new_Trans_purchase_amount_mean                -0.723633  \n",
       "new_Trans_purchase_amount_max                 -0.715332  \n",
       "new_Trans_purchase_amount_min                 -0.731934  \n",
       "new_Trans_purchase_amount_std                0.00830078  \n",
       "new_Trans_installments_sum                            0  \n",
       "new_Trans_installments_mean                           0  \n",
       "new_Trans_installments_max                            0  \n",
       "new_Trans_installments_min                            0  \n",
       "new_Trans_installments_std                            0  \n",
       "new_Trans_purchase_month_mean                         3  \n",
       "new_Trans_purchase_month_max                          3  \n",
       "new_Trans_purchase_month_min                          3  \n",
       "new_Trans_purchase_month_std                          0  \n",
       "new_Trans_purchase_year_mean                       2018  \n",
       "new_Trans_purchase_year_max                        2018  \n",
       "new_Trans_purchase_year_min                        2018  \n",
       "new_Trans_purchase_year_std                           0  \n",
       "new_Trans_purchase_day_mean                          19  \n",
       "new_Trans_purchase_day_max                           22  \n",
       "new_Trans_purchase_day_min                           16  \n",
       "new_Trans_purchase_day_std                            3  \n",
       "new_Trans_month_lag_min                               1  \n",
       "new_Trans_month_lag_max                               1  \n",
       "new_Trans_merchant_category_id_nunique                2  \n",
       "new_Trans_state_id_nunique                            1  \n",
       "new_Trans_subsector_id_nunique                        2  \n",
       "new_Trans_city_id_nunique                             1  \n",
       "new_Trans_month_diff_min                             35  \n",
       "new_Trans_month_diff_max                             35  \n",
       "new_Trans_month_diff_mean                            35  "
      ]
     },
     "execution_count": 20,
     "metadata": {
      "tags": []
     },
     "output_type": "execute_result"
    }
   ],
   "source": [
    "df_newTrans_FE.head(3).T"
   ]
  },
  {
   "cell_type": "code",
   "execution_count": null,
   "metadata": {
    "id": "v0mzDaw5bx3n"
   },
   "outputs": [],
   "source": [
    "def aggregate_per_month(history):\n",
    "    grouped = history.groupby(['card_id', 'month_lag'])\n",
    "    history['installments'] = history['installments'].astype(int)\n",
    "    agg_func = {\n",
    "            'purchase_amount': ['count', 'sum', 'mean', 'min', 'max', std],\n",
    "            'installments': ['count', 'sum', 'mean', 'min', 'max', std],\n",
    "            }\n",
    "\n",
    "    intermediate_group = grouped.agg(agg_func)\n",
    "    intermediate_group.columns = ['_'.join(col).strip() for col in intermediate_group.columns.values]\n",
    "    intermediate_group.reset_index(inplace=True)\n",
    "\n",
    "    final_group = intermediate_group.groupby('card_id').agg(['mean', std])\n",
    "    final_group.columns = ['_'.join(col).strip() for col in final_group.columns.values]\n",
    "    final_group.reset_index(inplace=True)\n",
    "    \n",
    "    return final_group"
   ]
  },
  {
   "cell_type": "code",
   "execution_count": null,
   "metadata": {
    "id": "aa8PMypybx3n",
    "outputId": "b01d81ed-c55e-4b39-b52f-449d48013c25"
   },
   "outputs": [
    {
     "name": "stdout",
     "output_type": "stream",
     "text": [
      "CPU times: user 9min 12s, sys: 7.6 s, total: 9min 19s\n",
      "Wall time: 9min 9s\n"
     ]
    }
   ],
   "source": [
    "%%time\n",
    "gc.collect()\n",
    "df_hist_month_FE = aggregate_per_month(df_hist)"
   ]
  },
  {
   "cell_type": "code",
   "execution_count": null,
   "metadata": {
    "id": "dCis-Kwsbx3n",
    "outputId": "55351d34-6823-4b8c-842b-c743ec3a1a6b"
   },
   "outputs": [
    {
     "name": "stdout",
     "output_type": "stream",
     "text": [
      "CPU times: user 8min 26s, sys: 4.12 s, total: 8min 30s\n",
      "Wall time: 8min 23s\n"
     ]
    }
   ],
   "source": [
    "%%time\n",
    "gc.collect()\n",
    "df_newTrans_month_FE = aggregate_per_month(df_newTrans)"
   ]
  },
  {
   "cell_type": "code",
   "execution_count": null,
   "metadata": {
    "id": "o4mkJreNbx3o",
    "outputId": "7be345e3-55b7-47c1-b0a0-710d4a74cdd2"
   },
   "outputs": [
    {
     "data": {
      "text/html": [
       "<div>\n",
       "<style scoped>\n",
       "    .dataframe tbody tr th:only-of-type {\n",
       "        vertical-align: middle;\n",
       "    }\n",
       "\n",
       "    .dataframe tbody tr th {\n",
       "        vertical-align: top;\n",
       "    }\n",
       "\n",
       "    .dataframe thead th {\n",
       "        text-align: right;\n",
       "    }\n",
       "</style>\n",
       "<table border=\"1\" class=\"dataframe\">\n",
       "  <thead>\n",
       "    <tr style=\"text-align: right;\">\n",
       "      <th></th>\n",
       "      <th>0</th>\n",
       "      <th>1</th>\n",
       "    </tr>\n",
       "  </thead>\n",
       "  <tbody>\n",
       "    <tr>\n",
       "      <th>card_id</th>\n",
       "      <td>C_ID_00007093c1</td>\n",
       "      <td>C_ID_0001238066</td>\n",
       "    </tr>\n",
       "    <tr>\n",
       "      <th>month_lag_mean</th>\n",
       "      <td>-6</td>\n",
       "      <td>-2.5</td>\n",
       "    </tr>\n",
       "    <tr>\n",
       "      <th>month_lag_std</th>\n",
       "      <td>3.74166</td>\n",
       "      <td>1.70783</td>\n",
       "    </tr>\n",
       "    <tr>\n",
       "      <th>purchase_amount_count_mean</th>\n",
       "      <td>11.4615</td>\n",
       "      <td>20.5</td>\n",
       "    </tr>\n",
       "    <tr>\n",
       "      <th>purchase_amount_count_std</th>\n",
       "      <td>4.5169</td>\n",
       "      <td>11.2064</td>\n",
       "    </tr>\n",
       "    <tr>\n",
       "      <th>purchase_amount_sum_mean</th>\n",
       "      <td>-5.91116</td>\n",
       "      <td>-12.0745</td>\n",
       "    </tr>\n",
       "    <tr>\n",
       "      <th>purchase_amount_sum_std</th>\n",
       "      <td>2.65874</td>\n",
       "      <td>6.42109</td>\n",
       "    </tr>\n",
       "    <tr>\n",
       "      <th>purchase_amount_mean_mean</th>\n",
       "      <td>-0.507947</td>\n",
       "      <td>-0.603204</td>\n",
       "    </tr>\n",
       "    <tr>\n",
       "      <th>purchase_amount_mean_std</th>\n",
       "      <td>0.0934823</td>\n",
       "      <td>0.0418653</td>\n",
       "    </tr>\n",
       "    <tr>\n",
       "      <th>purchase_amount_min_mean</th>\n",
       "      <td>-0.704152</td>\n",
       "      <td>-0.730351</td>\n",
       "    </tr>\n",
       "    <tr>\n",
       "      <th>purchase_amount_min_std</th>\n",
       "      <td>0.0402637</td>\n",
       "      <td>0.00246349</td>\n",
       "    </tr>\n",
       "    <tr>\n",
       "      <th>purchase_amount_max_mean</th>\n",
       "      <td>-0.027161</td>\n",
       "      <td>-0.160977</td>\n",
       "    </tr>\n",
       "    <tr>\n",
       "      <th>purchase_amount_max_std</th>\n",
       "      <td>0.503</td>\n",
       "      <td>0.443536</td>\n",
       "    </tr>\n",
       "    <tr>\n",
       "      <th>purchase_amount_std_mean</th>\n",
       "      <td>0.215975</td>\n",
       "      <td>0.142006</td>\n",
       "    </tr>\n",
       "    <tr>\n",
       "      <th>purchase_amount_std_std</th>\n",
       "      <td>0.150454</td>\n",
       "      <td>0.0874959</td>\n",
       "    </tr>\n",
       "    <tr>\n",
       "      <th>installments_count_mean</th>\n",
       "      <td>11.4615</td>\n",
       "      <td>20.5</td>\n",
       "    </tr>\n",
       "    <tr>\n",
       "      <th>installments_count_std</th>\n",
       "      <td>4.5169</td>\n",
       "      <td>11.2064</td>\n",
       "    </tr>\n",
       "    <tr>\n",
       "      <th>installments_sum_mean</th>\n",
       "      <td>14.7692</td>\n",
       "      <td>33</td>\n",
       "    </tr>\n",
       "    <tr>\n",
       "      <th>installments_sum_std</th>\n",
       "      <td>6.1788</td>\n",
       "      <td>23.029</td>\n",
       "    </tr>\n",
       "    <tr>\n",
       "      <th>installments_mean_mean</th>\n",
       "      <td>1.34848</td>\n",
       "      <td>1.63935</td>\n",
       "    </tr>\n",
       "    <tr>\n",
       "      <th>installments_mean_std</th>\n",
       "      <td>0.343025</td>\n",
       "      <td>0.361395</td>\n",
       "    </tr>\n",
       "    <tr>\n",
       "      <th>installments_min_mean</th>\n",
       "      <td>1</td>\n",
       "      <td>0.666667</td>\n",
       "    </tr>\n",
       "    <tr>\n",
       "      <th>installments_min_std</th>\n",
       "      <td>0</td>\n",
       "      <td>0.745356</td>\n",
       "    </tr>\n",
       "    <tr>\n",
       "      <th>installments_max_mean</th>\n",
       "      <td>2.61538</td>\n",
       "      <td>4.66667</td>\n",
       "    </tr>\n",
       "    <tr>\n",
       "      <th>installments_max_std</th>\n",
       "      <td>1.49556</td>\n",
       "      <td>2.62467</td>\n",
       "    </tr>\n",
       "    <tr>\n",
       "      <th>installments_std_mean</th>\n",
       "      <td>0.582302</td>\n",
       "      <td>1.15527</td>\n",
       "    </tr>\n",
       "    <tr>\n",
       "      <th>installments_std_std</th>\n",
       "      <td>0.537412</td>\n",
       "      <td>0.460874</td>\n",
       "    </tr>\n",
       "  </tbody>\n",
       "</table>\n",
       "</div>"
      ],
      "text/plain": [
       "                                          0                1\n",
       "card_id                     C_ID_00007093c1  C_ID_0001238066\n",
       "month_lag_mean                           -6             -2.5\n",
       "month_lag_std                       3.74166          1.70783\n",
       "purchase_amount_count_mean          11.4615             20.5\n",
       "purchase_amount_count_std            4.5169          11.2064\n",
       "purchase_amount_sum_mean           -5.91116         -12.0745\n",
       "purchase_amount_sum_std             2.65874          6.42109\n",
       "purchase_amount_mean_mean         -0.507947        -0.603204\n",
       "purchase_amount_mean_std          0.0934823        0.0418653\n",
       "purchase_amount_min_mean          -0.704152        -0.730351\n",
       "purchase_amount_min_std           0.0402637       0.00246349\n",
       "purchase_amount_max_mean          -0.027161        -0.160977\n",
       "purchase_amount_max_std               0.503         0.443536\n",
       "purchase_amount_std_mean           0.215975         0.142006\n",
       "purchase_amount_std_std            0.150454        0.0874959\n",
       "installments_count_mean             11.4615             20.5\n",
       "installments_count_std               4.5169          11.2064\n",
       "installments_sum_mean               14.7692               33\n",
       "installments_sum_std                 6.1788           23.029\n",
       "installments_mean_mean              1.34848          1.63935\n",
       "installments_mean_std              0.343025         0.361395\n",
       "installments_min_mean                     1         0.666667\n",
       "installments_min_std                      0         0.745356\n",
       "installments_max_mean               2.61538          4.66667\n",
       "installments_max_std                1.49556          2.62467\n",
       "installments_std_mean              0.582302          1.15527\n",
       "installments_std_std               0.537412         0.460874"
      ]
     },
     "execution_count": 24,
     "metadata": {
      "tags": []
     },
     "output_type": "execute_result"
    }
   ],
   "source": [
    "df_hist_month_FE.head(2).T"
   ]
  },
  {
   "cell_type": "code",
   "execution_count": null,
   "metadata": {
    "id": "PcMAkdK0bx3o",
    "outputId": "a32097d4-d7e2-4778-daef-04452e4567e5",
    "scrolled": false
   },
   "outputs": [
    {
     "data": {
      "text/html": [
       "<div>\n",
       "<style scoped>\n",
       "    .dataframe tbody tr th:only-of-type {\n",
       "        vertical-align: middle;\n",
       "    }\n",
       "\n",
       "    .dataframe tbody tr th {\n",
       "        vertical-align: top;\n",
       "    }\n",
       "\n",
       "    .dataframe thead th {\n",
       "        text-align: right;\n",
       "    }\n",
       "</style>\n",
       "<table border=\"1\" class=\"dataframe\">\n",
       "  <thead>\n",
       "    <tr style=\"text-align: right;\">\n",
       "      <th></th>\n",
       "      <th>0</th>\n",
       "      <th>1</th>\n",
       "    </tr>\n",
       "  </thead>\n",
       "  <tbody>\n",
       "    <tr>\n",
       "      <th>card_id</th>\n",
       "      <td>C_ID_00007093c1</td>\n",
       "      <td>C_ID_0001238066</td>\n",
       "    </tr>\n",
       "    <tr>\n",
       "      <th>month_lag_mean</th>\n",
       "      <td>2</td>\n",
       "      <td>1.5</td>\n",
       "    </tr>\n",
       "    <tr>\n",
       "      <th>month_lag_std</th>\n",
       "      <td>0</td>\n",
       "      <td>0.5</td>\n",
       "    </tr>\n",
       "    <tr>\n",
       "      <th>purchase_amount_count_mean</th>\n",
       "      <td>2</td>\n",
       "      <td>13</td>\n",
       "    </tr>\n",
       "    <tr>\n",
       "      <th>purchase_amount_count_std</th>\n",
       "      <td>0</td>\n",
       "      <td>4</td>\n",
       "    </tr>\n",
       "    <tr>\n",
       "      <th>purchase_amount_sum_mean</th>\n",
       "      <td>-1.32812</td>\n",
       "      <td>-7.42578</td>\n",
       "    </tr>\n",
       "    <tr>\n",
       "      <th>purchase_amount_sum_std</th>\n",
       "      <td>0</td>\n",
       "      <td>2.33203</td>\n",
       "    </tr>\n",
       "    <tr>\n",
       "      <th>purchase_amount_mean_mean</th>\n",
       "      <td>-0.664062</td>\n",
       "      <td>-0.569824</td>\n",
       "    </tr>\n",
       "    <tr>\n",
       "      <th>purchase_amount_mean_std</th>\n",
       "      <td>0</td>\n",
       "      <td>0.00390625</td>\n",
       "    </tr>\n",
       "    <tr>\n",
       "      <th>purchase_amount_min_mean</th>\n",
       "      <td>-0.671875</td>\n",
       "      <td>-0.729492</td>\n",
       "    </tr>\n",
       "    <tr>\n",
       "      <th>purchase_amount_min_std</th>\n",
       "      <td>0</td>\n",
       "      <td>0.0112305</td>\n",
       "    </tr>\n",
       "    <tr>\n",
       "      <th>purchase_amount_max_mean</th>\n",
       "      <td>-0.656738</td>\n",
       "      <td>-0.224854</td>\n",
       "    </tr>\n",
       "    <tr>\n",
       "      <th>purchase_amount_max_std</th>\n",
       "      <td>0</td>\n",
       "      <td>0.146484</td>\n",
       "    </tr>\n",
       "    <tr>\n",
       "      <th>purchase_amount_std_mean</th>\n",
       "      <td>0.00757217</td>\n",
       "      <td>0.150146</td>\n",
       "    </tr>\n",
       "    <tr>\n",
       "      <th>purchase_amount_std_std</th>\n",
       "      <td>0</td>\n",
       "      <td>0.0460815</td>\n",
       "    </tr>\n",
       "    <tr>\n",
       "      <th>installments_count_mean</th>\n",
       "      <td>2</td>\n",
       "      <td>13</td>\n",
       "    </tr>\n",
       "    <tr>\n",
       "      <th>installments_count_std</th>\n",
       "      <td>0</td>\n",
       "      <td>4</td>\n",
       "    </tr>\n",
       "    <tr>\n",
       "      <th>installments_sum_mean</th>\n",
       "      <td>2</td>\n",
       "      <td>21</td>\n",
       "    </tr>\n",
       "    <tr>\n",
       "      <th>installments_sum_std</th>\n",
       "      <td>0</td>\n",
       "      <td>2</td>\n",
       "    </tr>\n",
       "    <tr>\n",
       "      <th>installments_mean_mean</th>\n",
       "      <td>1</td>\n",
       "      <td>1.8366</td>\n",
       "    </tr>\n",
       "    <tr>\n",
       "      <th>installments_mean_std</th>\n",
       "      <td>0</td>\n",
       "      <td>0.718954</td>\n",
       "    </tr>\n",
       "    <tr>\n",
       "      <th>installments_min_mean</th>\n",
       "      <td>1</td>\n",
       "      <td>0</td>\n",
       "    </tr>\n",
       "    <tr>\n",
       "      <th>installments_min_std</th>\n",
       "      <td>0</td>\n",
       "      <td>1</td>\n",
       "    </tr>\n",
       "    <tr>\n",
       "      <th>installments_max_mean</th>\n",
       "      <td>1</td>\n",
       "      <td>6.5</td>\n",
       "    </tr>\n",
       "    <tr>\n",
       "      <th>installments_max_std</th>\n",
       "      <td>0</td>\n",
       "      <td>3.5</td>\n",
       "    </tr>\n",
       "    <tr>\n",
       "      <th>installments_std_mean</th>\n",
       "      <td>0</td>\n",
       "      <td>1.94549</td>\n",
       "    </tr>\n",
       "    <tr>\n",
       "      <th>installments_std_std</th>\n",
       "      <td>0</td>\n",
       "      <td>1.1136</td>\n",
       "    </tr>\n",
       "  </tbody>\n",
       "</table>\n",
       "</div>"
      ],
      "text/plain": [
       "                                          0                1\n",
       "card_id                     C_ID_00007093c1  C_ID_0001238066\n",
       "month_lag_mean                            2              1.5\n",
       "month_lag_std                             0              0.5\n",
       "purchase_amount_count_mean                2               13\n",
       "purchase_amount_count_std                 0                4\n",
       "purchase_amount_sum_mean           -1.32812         -7.42578\n",
       "purchase_amount_sum_std                   0          2.33203\n",
       "purchase_amount_mean_mean         -0.664062        -0.569824\n",
       "purchase_amount_mean_std                  0       0.00390625\n",
       "purchase_amount_min_mean          -0.671875        -0.729492\n",
       "purchase_amount_min_std                   0        0.0112305\n",
       "purchase_amount_max_mean          -0.656738        -0.224854\n",
       "purchase_amount_max_std                   0         0.146484\n",
       "purchase_amount_std_mean         0.00757217         0.150146\n",
       "purchase_amount_std_std                   0        0.0460815\n",
       "installments_count_mean                   2               13\n",
       "installments_count_std                    0                4\n",
       "installments_sum_mean                     2               21\n",
       "installments_sum_std                      0                2\n",
       "installments_mean_mean                    1           1.8366\n",
       "installments_mean_std                     0         0.718954\n",
       "installments_min_mean                     1                0\n",
       "installments_min_std                      0                1\n",
       "installments_max_mean                     1              6.5\n",
       "installments_max_std                      0              3.5\n",
       "installments_std_mean                     0          1.94549\n",
       "installments_std_std                      0           1.1136"
      ]
     },
     "execution_count": 25,
     "metadata": {
      "tags": []
     },
     "output_type": "execute_result"
    }
   ],
   "source": [
    "df_newTrans_month_FE.head(2).T"
   ]
  },
  {
   "cell_type": "markdown",
   "metadata": {
    "id": "gDKBGAC1xSmR"
   },
   "source": [
    "<h2>4.3 Extracting features from merchants.csv </h2>"
   ]
  },
  {
   "cell_type": "markdown",
   "metadata": {
    "id": "H77BcGBoxSmR"
   },
   "source": [
    "- We will first concat all the transactions i.e. historical_transactions & new_merchant_transactions after that we will merge it the merchants dataset.\n",
    "- We will then extract the merchants features from this dataset grouping on card id."
   ]
  },
  {
   "cell_type": "code",
   "execution_count": null,
   "metadata": {
    "id": "qfMfxKgDxSmS",
    "outputId": "8adac273-e1e8-49b7-8263-b8a98493db07",
    "scrolled": false
   },
   "outputs": [
    {
     "data": {
      "text/html": [
       "<div>\n",
       "<style scoped>\n",
       "    .dataframe tbody tr th:only-of-type {\n",
       "        vertical-align: middle;\n",
       "    }\n",
       "\n",
       "    .dataframe tbody tr th {\n",
       "        vertical-align: top;\n",
       "    }\n",
       "\n",
       "    .dataframe thead th {\n",
       "        text-align: right;\n",
       "    }\n",
       "</style>\n",
       "<table border=\"1\" class=\"dataframe\">\n",
       "  <thead>\n",
       "    <tr style=\"text-align: right;\">\n",
       "      <th></th>\n",
       "      <th>0</th>\n",
       "      <th>1</th>\n",
       "    </tr>\n",
       "  </thead>\n",
       "  <tbody>\n",
       "    <tr>\n",
       "      <th>merchant_id</th>\n",
       "      <td>M_ID_838061e48c</td>\n",
       "      <td>M_ID_9339d880ad</td>\n",
       "    </tr>\n",
       "    <tr>\n",
       "      <th>merchant_group_id</th>\n",
       "      <td>8353</td>\n",
       "      <td>3184</td>\n",
       "    </tr>\n",
       "    <tr>\n",
       "      <th>merchant_category_id</th>\n",
       "      <td>792</td>\n",
       "      <td>840</td>\n",
       "    </tr>\n",
       "    <tr>\n",
       "      <th>subsector_id</th>\n",
       "      <td>9</td>\n",
       "      <td>20</td>\n",
       "    </tr>\n",
       "    <tr>\n",
       "      <th>numerical_1</th>\n",
       "      <td>-0.0574646</td>\n",
       "      <td>-0.0574646</td>\n",
       "    </tr>\n",
       "    <tr>\n",
       "      <th>numerical_2</th>\n",
       "      <td>-0.0574646</td>\n",
       "      <td>-0.0574646</td>\n",
       "    </tr>\n",
       "    <tr>\n",
       "      <th>category_1</th>\n",
       "      <td>0</td>\n",
       "      <td>0</td>\n",
       "    </tr>\n",
       "    <tr>\n",
       "      <th>most_recent_sales_range</th>\n",
       "      <td>5</td>\n",
       "      <td>5</td>\n",
       "    </tr>\n",
       "    <tr>\n",
       "      <th>most_recent_purchases_range</th>\n",
       "      <td>5</td>\n",
       "      <td>5</td>\n",
       "    </tr>\n",
       "    <tr>\n",
       "      <th>avg_sales_lag3</th>\n",
       "      <td>-0.4</td>\n",
       "      <td>-0.72</td>\n",
       "    </tr>\n",
       "    <tr>\n",
       "      <th>avg_purchases_lag3</th>\n",
       "      <td>9.66406</td>\n",
       "      <td>1.75</td>\n",
       "    </tr>\n",
       "    <tr>\n",
       "      <th>active_months_lag3</th>\n",
       "      <td>3</td>\n",
       "      <td>3</td>\n",
       "    </tr>\n",
       "    <tr>\n",
       "      <th>avg_sales_lag6</th>\n",
       "      <td>-2.25</td>\n",
       "      <td>-0.74</td>\n",
       "    </tr>\n",
       "    <tr>\n",
       "      <th>avg_purchases_lag6</th>\n",
       "      <td>18.6719</td>\n",
       "      <td>1.29199</td>\n",
       "    </tr>\n",
       "    <tr>\n",
       "      <th>active_months_lag6</th>\n",
       "      <td>6</td>\n",
       "      <td>6</td>\n",
       "    </tr>\n",
       "    <tr>\n",
       "      <th>avg_sales_lag12</th>\n",
       "      <td>-2.32</td>\n",
       "      <td>-0.57</td>\n",
       "    </tr>\n",
       "    <tr>\n",
       "      <th>avg_purchases_lag12</th>\n",
       "      <td>13.9141</td>\n",
       "      <td>1.6875</td>\n",
       "    </tr>\n",
       "    <tr>\n",
       "      <th>active_months_lag12</th>\n",
       "      <td>12</td>\n",
       "      <td>12</td>\n",
       "    </tr>\n",
       "    <tr>\n",
       "      <th>category_4</th>\n",
       "      <td>0</td>\n",
       "      <td>0</td>\n",
       "    </tr>\n",
       "    <tr>\n",
       "      <th>city_id</th>\n",
       "      <td>242</td>\n",
       "      <td>22</td>\n",
       "    </tr>\n",
       "    <tr>\n",
       "      <th>state_id</th>\n",
       "      <td>9</td>\n",
       "      <td>16</td>\n",
       "    </tr>\n",
       "    <tr>\n",
       "      <th>category_2</th>\n",
       "      <td>1</td>\n",
       "      <td>1</td>\n",
       "    </tr>\n",
       "  </tbody>\n",
       "</table>\n",
       "</div>"
      ],
      "text/plain": [
       "                                           0                1\n",
       "merchant_id                  M_ID_838061e48c  M_ID_9339d880ad\n",
       "merchant_group_id                       8353             3184\n",
       "merchant_category_id                     792              840\n",
       "subsector_id                               9               20\n",
       "numerical_1                       -0.0574646       -0.0574646\n",
       "numerical_2                       -0.0574646       -0.0574646\n",
       "category_1                                 0                0\n",
       "most_recent_sales_range                    5                5\n",
       "most_recent_purchases_range                5                5\n",
       "avg_sales_lag3                          -0.4            -0.72\n",
       "avg_purchases_lag3                   9.66406             1.75\n",
       "active_months_lag3                         3                3\n",
       "avg_sales_lag6                         -2.25            -0.74\n",
       "avg_purchases_lag6                   18.6719          1.29199\n",
       "active_months_lag6                         6                6\n",
       "avg_sales_lag12                        -2.32            -0.57\n",
       "avg_purchases_lag12                  13.9141           1.6875\n",
       "active_months_lag12                       12               12\n",
       "category_4                                 0                0\n",
       "city_id                                  242               22\n",
       "state_id                                   9               16\n",
       "category_2                                 1                1"
      ]
     },
     "execution_count": 26,
     "metadata": {
      "tags": []
     },
     "output_type": "execute_result"
    }
   ],
   "source": [
    "df_merchants.head(2).T"
   ]
  },
  {
   "cell_type": "code",
   "execution_count": null,
   "metadata": {
    "id": "_910yM9HxSmS",
    "scrolled": true
   },
   "outputs": [],
   "source": [
    "allTransactions = pd.concat([df_hist, df_newTrans], axis = 0)"
   ]
  },
  {
   "cell_type": "code",
   "execution_count": null,
   "metadata": {
    "id": "og9c9ErsxSmS",
    "outputId": "e75b1853-822b-4df7-e2ef-47d457d77b0b"
   },
   "outputs": [
    {
     "data": {
      "text/plain": [
       "(31075392, 18)"
      ]
     },
     "execution_count": 28,
     "metadata": {
      "tags": []
     },
     "output_type": "execute_result"
    }
   ],
   "source": [
    "allTransactions.shape"
   ]
  },
  {
   "cell_type": "code",
   "execution_count": null,
   "metadata": {
    "id": "-0bL33ZLxSmT"
   },
   "outputs": [],
   "source": [
    "columns_to_drop = ['merchant_category_id', 'subsector_id', 'city_id', 'state_id', 'category_2', 'category_1']\n",
    "allTransactions = allTransactions.drop(columns_to_drop, axis = 1)\n",
    "df_merchants = df_merchants.drop(columns_to_drop, axis = 1)"
   ]
  },
  {
   "cell_type": "code",
   "execution_count": null,
   "metadata": {
    "id": "2PmNfqeKxSmT"
   },
   "outputs": [],
   "source": [
    "del df_hist, df_newTrans"
   ]
  },
  {
   "cell_type": "code",
   "execution_count": null,
   "metadata": {
    "id": "DwbnvBiIxSmT",
    "outputId": "b7c8e896-d5bb-45e2-a21d-526fa7bb30bb"
   },
   "outputs": [
    {
     "name": "stdout",
     "output_type": "stream",
     "text": [
      "CPU times: user 15.1 s, sys: 1.17 s, total: 16.2 s\n",
      "Wall time: 16.2 s\n"
     ]
    }
   ],
   "source": [
    "%%time\n",
    "gc.collect()\n",
    "df_merchants_trans = pd.merge(allTransactions, df_merchants, on='merchant_id', how='left')\n",
    "del allTransactions"
   ]
  },
  {
   "cell_type": "code",
   "execution_count": null,
   "metadata": {
    "id": "hy4FMPTvxSmU"
   },
   "outputs": [],
   "source": [
    "def getFeaturesFromMerchantsData(data, prefix):\n",
    "    \n",
    "    data = pd.get_dummies(data, columns=['most_recent_sales_range', 'most_recent_purchases_range'])\n",
    "    agg_func = {\n",
    "        'merchant_group_id' : ['nunique'],\n",
    "        'numerical_1' :['sum', 'mean', std],\n",
    "        'numerical_2' :['sum', 'mean', std],\n",
    "        'category_4' :['sum', 'mean', std],\n",
    "        'most_recent_sales_range_1' :['sum', 'mean', std],\n",
    "        'most_recent_sales_range_2' :['sum', 'mean', std],\n",
    "        'most_recent_sales_range_3' :['sum', 'mean', std],\n",
    "        'most_recent_sales_range_4' :['sum', 'mean', std],\n",
    "        'most_recent_sales_range_5' :['sum', 'mean', std],\n",
    "        'most_recent_purchases_range_1' :['sum', 'mean', std],\n",
    "        'most_recent_purchases_range_2' :['sum', 'mean', std],\n",
    "        'most_recent_purchases_range_3' :['sum', 'mean', std],\n",
    "        'most_recent_purchases_range_4' :['sum', 'mean', std],\n",
    "        'most_recent_purchases_range_5' :['sum', 'mean', std],\n",
    "        'avg_sales_lag3' :['sum', 'mean', std],\n",
    "        'avg_purchases_lag3' :['sum', 'mean', std],\n",
    "        'active_months_lag3' :['sum', 'mean', std],\n",
    "        'avg_sales_lag6' :['sum', 'mean', std],\n",
    "        'avg_purchases_lag6' :['sum', 'mean', std],\n",
    "        'active_months_lag6' :['sum', 'mean', std],\n",
    "        'avg_sales_lag12' :['sum', 'mean', std],\n",
    "        'avg_purchases_lag12' :['sum', 'mean', std],\n",
    "        'active_months_lag12' :['sum', 'mean', std],\n",
    "    }\n",
    "    \n",
    "    agg_trans = data.groupby(['card_id']).agg(agg_func)\n",
    "    agg_trans.columns = [prefix + '_'.join(col).strip() for col in agg_trans.columns.values]\n",
    "    agg_trans.reset_index(inplace=True)\n",
    "\n",
    "    df = (data.groupby('card_id')\n",
    "          .size()\n",
    "          .reset_index(name='{}transactions_count'.format(prefix)))\n",
    "\n",
    "    agg_trans = pd.merge(df, agg_trans, on='card_id', how='left')\n",
    "\n",
    "    return agg_trans"
   ]
  },
  {
   "cell_type": "code",
   "execution_count": null,
   "metadata": {
    "id": "Lq7TOZ8ixSmU",
    "outputId": "7c829ab3-d323-4b08-e72e-2d64908db4d3"
   },
   "outputs": [
    {
     "name": "stdout",
     "output_type": "stream",
     "text": [
      "CPU times: user 16min 54s, sys: 7.1 s, total: 17min 1s\n",
      "Wall time: 16min 55s\n"
     ]
    }
   ],
   "source": [
    "%%time\n",
    "gc.collect()\n",
    "df_merchants_FE = getFeaturesFromMerchantsData(df_merchants_trans, prefix = 'merchant_')\n",
    "del df_merchants_trans"
   ]
  },
  {
   "cell_type": "code",
   "execution_count": null,
   "metadata": {
    "id": "OkfCgfZoxSmV",
    "outputId": "20e70a05-3603-454b-ebd1-6f1bb783ab03",
    "scrolled": true
   },
   "outputs": [
    {
     "data": {
      "text/html": [
       "<div>\n",
       "<style scoped>\n",
       "    .dataframe tbody tr th:only-of-type {\n",
       "        vertical-align: middle;\n",
       "    }\n",
       "\n",
       "    .dataframe tbody tr th {\n",
       "        vertical-align: top;\n",
       "    }\n",
       "\n",
       "    .dataframe thead th {\n",
       "        text-align: right;\n",
       "    }\n",
       "</style>\n",
       "<table border=\"1\" class=\"dataframe\">\n",
       "  <thead>\n",
       "    <tr style=\"text-align: right;\">\n",
       "      <th></th>\n",
       "      <th>0</th>\n",
       "      <th>1</th>\n",
       "    </tr>\n",
       "  </thead>\n",
       "  <tbody>\n",
       "    <tr>\n",
       "      <th>card_id</th>\n",
       "      <td>C_ID_00007093c1</td>\n",
       "      <td>C_ID_0001238066</td>\n",
       "    </tr>\n",
       "    <tr>\n",
       "      <th>merchant_transactions_count</th>\n",
       "      <td>151</td>\n",
       "      <td>149</td>\n",
       "    </tr>\n",
       "    <tr>\n",
       "      <th>merchant_merchant_group_id_nunique</th>\n",
       "      <td>15</td>\n",
       "      <td>66</td>\n",
       "    </tr>\n",
       "    <tr>\n",
       "      <th>merchant_numerical_1_sum</th>\n",
       "      <td>270</td>\n",
       "      <td>1324</td>\n",
       "    </tr>\n",
       "    <tr>\n",
       "      <th>merchant_numerical_1_mean</th>\n",
       "      <td>1.78809</td>\n",
       "      <td>8.88281</td>\n",
       "    </tr>\n",
       "    <tr>\n",
       "      <th>...</th>\n",
       "      <td>...</td>\n",
       "      <td>...</td>\n",
       "    </tr>\n",
       "    <tr>\n",
       "      <th>merchant_avg_purchases_lag12_mean</th>\n",
       "      <td>1.21387</td>\n",
       "      <td>5.18359</td>\n",
       "    </tr>\n",
       "    <tr>\n",
       "      <th>merchant_avg_purchases_lag12_std</th>\n",
       "      <td>1.33398</td>\n",
       "      <td>inf</td>\n",
       "    </tr>\n",
       "    <tr>\n",
       "      <th>merchant_active_months_lag12_sum</th>\n",
       "      <td>1795</td>\n",
       "      <td>1775</td>\n",
       "    </tr>\n",
       "    <tr>\n",
       "      <th>merchant_active_months_lag12_mean</th>\n",
       "      <td>11.8874</td>\n",
       "      <td>11.9128</td>\n",
       "    </tr>\n",
       "    <tr>\n",
       "      <th>merchant_active_months_lag12_std</th>\n",
       "      <td>0.625539</td>\n",
       "      <td>0.601261</td>\n",
       "    </tr>\n",
       "  </tbody>\n",
       "</table>\n",
       "<p>69 rows × 2 columns</p>\n",
       "</div>"
      ],
      "text/plain": [
       "                                                  0                1\n",
       "card_id                             C_ID_00007093c1  C_ID_0001238066\n",
       "merchant_transactions_count                     151              149\n",
       "merchant_merchant_group_id_nunique               15               66\n",
       "merchant_numerical_1_sum                        270             1324\n",
       "merchant_numerical_1_mean                   1.78809          8.88281\n",
       "...                                             ...              ...\n",
       "merchant_avg_purchases_lag12_mean           1.21387          5.18359\n",
       "merchant_avg_purchases_lag12_std            1.33398              inf\n",
       "merchant_active_months_lag12_sum               1795             1775\n",
       "merchant_active_months_lag12_mean           11.8874          11.9128\n",
       "merchant_active_months_lag12_std           0.625539         0.601261\n",
       "\n",
       "[69 rows x 2 columns]"
      ]
     },
     "execution_count": 34,
     "metadata": {
      "tags": []
     },
     "output_type": "execute_result"
    }
   ],
   "source": [
    "df_merchants_FE.head(2).T"
   ]
  },
  {
   "cell_type": "markdown",
   "metadata": {
    "id": "pCyqHi0KxSmV"
   },
   "source": [
    "<h2>4.4 Merging all the data </h2>"
   ]
  },
  {
   "cell_type": "code",
   "execution_count": null,
   "metadata": {
    "id": "eNLhdwN-xSmV",
    "outputId": "59ba5577-0c71-4ddb-f8e8-f3e9d8b92d4c"
   },
   "outputs": [],
   "source": [
    "%%time\n",
    "gc.collect()\n",
    "train = pd.merge(df_train_FE, df_hist_FE, on='card_id',how='left')\n",
    "train = pd.merge(train, df_newTrans_FE, on='card_id', how = 'left')\n",
    "train = pd.merge(train, df_hist_month_FE, on = 'card_id', how = 'left')\n",
    "train = pd.merge(train, df_newTrans_month_FE, on = 'card_id', how = 'left')\n",
    "train = pd.merge(train, df_merchants_FE, on = 'card_id', how='left')"
   ]
  },
  {
   "cell_type": "code",
   "execution_count": null,
   "metadata": {
    "id": "hhv0mGK3xSmW",
    "outputId": "ab475ed7-9114-45b8-e39d-3fcbc8ac99f3"
   },
   "outputs": [
    {
     "name": "stdout",
     "output_type": "stream",
     "text": [
      "CPU times: user 2.52 s, sys: 0 ns, total: 2.52 s\n",
      "Wall time: 2.51 s\n"
     ]
    }
   ],
   "source": [
    "%%time\n",
    "gc.collect()\n",
    "test = pd.merge(df_test_FE, df_hist_FE, on='card_id',how='left')\n",
    "test = pd.merge(test, df_newTrans_FE, on='card_id', how = 'left')\n",
    "test = pd.merge(test, df_hist_month_FE, on = 'card_id', how = 'left')\n",
    "test = pd.merge(test, df_newTrans_month_FE, on = 'card_id', how = 'left')\n",
    "#test = pd.merge(test, df_merchants_FE, on = 'card_id', how='left')"
   ]
  },
  {
   "cell_type": "code",
   "execution_count": null,
   "metadata": {
    "id": "VOvkRL-DxSmW",
    "outputId": "51537372-2a8f-4bd8-e59c-86dd3471f11b"
   },
   "outputs": [
    {
     "data": {
      "text/html": [
       "<div>\n",
       "<style scoped>\n",
       "    .dataframe tbody tr th:only-of-type {\n",
       "        vertical-align: middle;\n",
       "    }\n",
       "\n",
       "    .dataframe tbody tr th {\n",
       "        vertical-align: top;\n",
       "    }\n",
       "\n",
       "    .dataframe thead th {\n",
       "        text-align: right;\n",
       "    }\n",
       "</style>\n",
       "<table border=\"1\" class=\"dataframe\">\n",
       "  <thead>\n",
       "    <tr style=\"text-align: right;\">\n",
       "      <th></th>\n",
       "      <th>card_id</th>\n",
       "      <th>feature_1</th>\n",
       "      <th>feature_2</th>\n",
       "      <th>feature_3</th>\n",
       "      <th>target</th>\n",
       "      <th>time_elapsed</th>\n",
       "      <th>month</th>\n",
       "      <th>year</th>\n",
       "      <th>day</th>\n",
       "      <th>hist_Trans_transactions_count</th>\n",
       "      <th>...</th>\n",
       "      <th>merchant_active_months_lag6_std</th>\n",
       "      <th>merchant_avg_sales_lag12_sum</th>\n",
       "      <th>merchant_avg_sales_lag12_mean</th>\n",
       "      <th>merchant_avg_sales_lag12_std</th>\n",
       "      <th>merchant_avg_purchases_lag12_sum</th>\n",
       "      <th>merchant_avg_purchases_lag12_mean</th>\n",
       "      <th>merchant_avg_purchases_lag12_std</th>\n",
       "      <th>merchant_active_months_lag12_sum</th>\n",
       "      <th>merchant_active_months_lag12_mean</th>\n",
       "      <th>merchant_active_months_lag12_std</th>\n",
       "    </tr>\n",
       "  </thead>\n",
       "  <tbody>\n",
       "    <tr>\n",
       "      <th>0</th>\n",
       "      <td>C_ID_f25b3d3f13</td>\n",
       "      <td>0.010479</td>\n",
       "      <td>0.011385</td>\n",
       "      <td>0.011428</td>\n",
       "      <td>0.645996</td>\n",
       "      <td>2284</td>\n",
       "      <td>11</td>\n",
       "      <td>2011</td>\n",
       "      <td>1</td>\n",
       "      <td>84</td>\n",
       "      <td>...</td>\n",
       "      <td>0.0</td>\n",
       "      <td>384.910004</td>\n",
       "      <td>4.324831</td>\n",
       "      <td>7.429107</td>\n",
       "      <td>497.5000</td>\n",
       "      <td>5.589844</td>\n",
       "      <td>8.632812</td>\n",
       "      <td>993.0</td>\n",
       "      <td>11.157303</td>\n",
       "      <td>1.871723</td>\n",
       "    </tr>\n",
       "    <tr>\n",
       "      <th>1</th>\n",
       "      <td>C_ID_2dbbc2b7fd</td>\n",
       "      <td>0.010479</td>\n",
       "      <td>0.014166</td>\n",
       "      <td>0.011428</td>\n",
       "      <td>-0.069580</td>\n",
       "      <td>2284</td>\n",
       "      <td>11</td>\n",
       "      <td>2011</td>\n",
       "      <td>1</td>\n",
       "      <td>30</td>\n",
       "      <td>...</td>\n",
       "      <td>0.0</td>\n",
       "      <td>39.410000</td>\n",
       "      <td>1.271290</td>\n",
       "      <td>0.246508</td>\n",
       "      <td>39.1875</td>\n",
       "      <td>1.263672</td>\n",
       "      <td>0.229370</td>\n",
       "      <td>372.0</td>\n",
       "      <td>12.000000</td>\n",
       "      <td>0.000000</td>\n",
       "    </tr>\n",
       "    <tr>\n",
       "      <th>2</th>\n",
       "      <td>C_ID_0a70866829</td>\n",
       "      <td>0.010479</td>\n",
       "      <td>0.011385</td>\n",
       "      <td>0.011428</td>\n",
       "      <td>-2.544922</td>\n",
       "      <td>2284</td>\n",
       "      <td>11</td>\n",
       "      <td>2011</td>\n",
       "      <td>1</td>\n",
       "      <td>72</td>\n",
       "      <td>...</td>\n",
       "      <td>0.0</td>\n",
       "      <td>302.459991</td>\n",
       "      <td>3.928052</td>\n",
       "      <td>18.792917</td>\n",
       "      <td>743.0000</td>\n",
       "      <td>9.648438</td>\n",
       "      <td>inf</td>\n",
       "      <td>889.0</td>\n",
       "      <td>11.545455</td>\n",
       "      <td>1.437399</td>\n",
       "    </tr>\n",
       "    <tr>\n",
       "      <th>3</th>\n",
       "      <td>C_ID_08cb8e0333</td>\n",
       "      <td>0.010479</td>\n",
       "      <td>0.014166</td>\n",
       "      <td>0.011428</td>\n",
       "      <td>-3.574219</td>\n",
       "      <td>2284</td>\n",
       "      <td>11</td>\n",
       "      <td>2011</td>\n",
       "      <td>1</td>\n",
       "      <td>46</td>\n",
       "      <td>...</td>\n",
       "      <td>0.0</td>\n",
       "      <td>213.990005</td>\n",
       "      <td>4.115192</td>\n",
       "      <td>11.583421</td>\n",
       "      <td>198.2500</td>\n",
       "      <td>3.812500</td>\n",
       "      <td>7.585938</td>\n",
       "      <td>589.0</td>\n",
       "      <td>11.326923</td>\n",
       "      <td>1.706561</td>\n",
       "    </tr>\n",
       "    <tr>\n",
       "      <th>4</th>\n",
       "      <td>C_ID_d26de4d1bf</td>\n",
       "      <td>0.010479</td>\n",
       "      <td>0.014166</td>\n",
       "      <td>0.011428</td>\n",
       "      <td>-0.693359</td>\n",
       "      <td>2284</td>\n",
       "      <td>11</td>\n",
       "      <td>2011</td>\n",
       "      <td>1</td>\n",
       "      <td>19</td>\n",
       "      <td>...</td>\n",
       "      <td>0.0</td>\n",
       "      <td>100.019997</td>\n",
       "      <td>5.264211</td>\n",
       "      <td>12.143413</td>\n",
       "      <td>68.3750</td>\n",
       "      <td>3.597656</td>\n",
       "      <td>7.628906</td>\n",
       "      <td>222.0</td>\n",
       "      <td>11.684211</td>\n",
       "      <td>0.920677</td>\n",
       "    </tr>\n",
       "  </tbody>\n",
       "</table>\n",
       "<p>5 rows × 235 columns</p>\n",
       "</div>"
      ],
      "text/plain": [
       "           card_id  feature_1  feature_2  feature_3    target  time_elapsed  \\\n",
       "0  C_ID_f25b3d3f13   0.010479   0.011385   0.011428  0.645996          2284   \n",
       "1  C_ID_2dbbc2b7fd   0.010479   0.014166   0.011428 -0.069580          2284   \n",
       "2  C_ID_0a70866829   0.010479   0.011385   0.011428 -2.544922          2284   \n",
       "3  C_ID_08cb8e0333   0.010479   0.014166   0.011428 -3.574219          2284   \n",
       "4  C_ID_d26de4d1bf   0.010479   0.014166   0.011428 -0.693359          2284   \n",
       "\n",
       "   month  year  day  hist_Trans_transactions_count  ...  \\\n",
       "0     11  2011    1                             84  ...   \n",
       "1     11  2011    1                             30  ...   \n",
       "2     11  2011    1                             72  ...   \n",
       "3     11  2011    1                             46  ...   \n",
       "4     11  2011    1                             19  ...   \n",
       "\n",
       "   merchant_active_months_lag6_std  merchant_avg_sales_lag12_sum  \\\n",
       "0                              0.0                    384.910004   \n",
       "1                              0.0                     39.410000   \n",
       "2                              0.0                    302.459991   \n",
       "3                              0.0                    213.990005   \n",
       "4                              0.0                    100.019997   \n",
       "\n",
       "   merchant_avg_sales_lag12_mean  merchant_avg_sales_lag12_std  \\\n",
       "0                       4.324831                      7.429107   \n",
       "1                       1.271290                      0.246508   \n",
       "2                       3.928052                     18.792917   \n",
       "3                       4.115192                     11.583421   \n",
       "4                       5.264211                     12.143413   \n",
       "\n",
       "   merchant_avg_purchases_lag12_sum  merchant_avg_purchases_lag12_mean  \\\n",
       "0                          497.5000                           5.589844   \n",
       "1                           39.1875                           1.263672   \n",
       "2                          743.0000                           9.648438   \n",
       "3                          198.2500                           3.812500   \n",
       "4                           68.3750                           3.597656   \n",
       "\n",
       "   merchant_avg_purchases_lag12_std  merchant_active_months_lag12_sum  \\\n",
       "0                          8.632812                             993.0   \n",
       "1                          0.229370                             372.0   \n",
       "2                               inf                             889.0   \n",
       "3                          7.585938                             589.0   \n",
       "4                          7.628906                             222.0   \n",
       "\n",
       "   merchant_active_months_lag12_mean  merchant_active_months_lag12_std  \n",
       "0                          11.157303                          1.871723  \n",
       "1                          12.000000                          0.000000  \n",
       "2                          11.545455                          1.437399  \n",
       "3                          11.326923                          1.706561  \n",
       "4                          11.684211                          0.920677  \n",
       "\n",
       "[5 rows x 235 columns]"
      ]
     },
     "execution_count": 37,
     "metadata": {
      "tags": []
     },
     "output_type": "execute_result"
    }
   ],
   "source": [
    "train.head()"
   ]
  },
  {
   "cell_type": "code",
   "execution_count": null,
   "metadata": {
    "id": "cOMDiscgxSmW",
    "outputId": "78db5011-7018-4658-f170-c472347ed071"
   },
   "outputs": [
    {
     "data": {
      "text/html": [
       "<div>\n",
       "<style scoped>\n",
       "    .dataframe tbody tr th:only-of-type {\n",
       "        vertical-align: middle;\n",
       "    }\n",
       "\n",
       "    .dataframe tbody tr th {\n",
       "        vertical-align: top;\n",
       "    }\n",
       "\n",
       "    .dataframe thead th {\n",
       "        text-align: right;\n",
       "    }\n",
       "</style>\n",
       "<table border=\"1\" class=\"dataframe\">\n",
       "  <thead>\n",
       "    <tr style=\"text-align: right;\">\n",
       "      <th></th>\n",
       "      <th>card_id</th>\n",
       "      <th>feature_1</th>\n",
       "      <th>feature_2</th>\n",
       "      <th>feature_3</th>\n",
       "      <th>time_elapsed</th>\n",
       "      <th>month</th>\n",
       "      <th>year</th>\n",
       "      <th>day</th>\n",
       "      <th>hist_Trans_transactions_count</th>\n",
       "      <th>hist_Trans_authorized_flag_sum</th>\n",
       "      <th>...</th>\n",
       "      <th>merchant_active_months_lag6_std</th>\n",
       "      <th>merchant_avg_sales_lag12_sum</th>\n",
       "      <th>merchant_avg_sales_lag12_mean</th>\n",
       "      <th>merchant_avg_sales_lag12_std</th>\n",
       "      <th>merchant_avg_purchases_lag12_sum</th>\n",
       "      <th>merchant_avg_purchases_lag12_mean</th>\n",
       "      <th>merchant_avg_purchases_lag12_std</th>\n",
       "      <th>merchant_active_months_lag12_sum</th>\n",
       "      <th>merchant_active_months_lag12_mean</th>\n",
       "      <th>merchant_active_months_lag12_std</th>\n",
       "    </tr>\n",
       "  </thead>\n",
       "  <tbody>\n",
       "    <tr>\n",
       "      <th>0</th>\n",
       "      <td>C_ID_0ab67a22ab</td>\n",
       "      <td>0.010479</td>\n",
       "      <td>0.014166</td>\n",
       "      <td>0.011428</td>\n",
       "      <td>275</td>\n",
       "      <td>4</td>\n",
       "      <td>2017</td>\n",
       "      <td>1</td>\n",
       "      <td>68</td>\n",
       "      <td>44.0</td>\n",
       "      <td>...</td>\n",
       "      <td>0.0</td>\n",
       "      <td>106.759995</td>\n",
       "      <td>1.503662</td>\n",
       "      <td>2.423732</td>\n",
       "      <td>117.125000</td>\n",
       "      <td>1.649414</td>\n",
       "      <td>3.136719</td>\n",
       "      <td>837.0</td>\n",
       "      <td>11.788732</td>\n",
       "      <td>1.005835</td>\n",
       "    </tr>\n",
       "    <tr>\n",
       "      <th>1</th>\n",
       "      <td>C_ID_130fd0cbdd</td>\n",
       "      <td>0.010610</td>\n",
       "      <td>0.014166</td>\n",
       "      <td>0.010283</td>\n",
       "      <td>365</td>\n",
       "      <td>1</td>\n",
       "      <td>2017</td>\n",
       "      <td>1</td>\n",
       "      <td>78</td>\n",
       "      <td>77.0</td>\n",
       "      <td>...</td>\n",
       "      <td>0.0</td>\n",
       "      <td>96.480003</td>\n",
       "      <td>1.108966</td>\n",
       "      <td>0.812490</td>\n",
       "      <td>108.437500</td>\n",
       "      <td>1.247070</td>\n",
       "      <td>1.654297</td>\n",
       "      <td>1035.0</td>\n",
       "      <td>11.896552</td>\n",
       "      <td>0.678648</td>\n",
       "    </tr>\n",
       "    <tr>\n",
       "      <th>2</th>\n",
       "      <td>C_ID_b709037bc5</td>\n",
       "      <td>0.013145</td>\n",
       "      <td>0.011385</td>\n",
       "      <td>0.011428</td>\n",
       "      <td>153</td>\n",
       "      <td>8</td>\n",
       "      <td>2017</td>\n",
       "      <td>1</td>\n",
       "      <td>13</td>\n",
       "      <td>9.0</td>\n",
       "      <td>...</td>\n",
       "      <td>0.0</td>\n",
       "      <td>14.820000</td>\n",
       "      <td>0.988000</td>\n",
       "      <td>0.248199</td>\n",
       "      <td>16.578125</td>\n",
       "      <td>1.104492</td>\n",
       "      <td>0.257812</td>\n",
       "      <td>180.0</td>\n",
       "      <td>12.000000</td>\n",
       "      <td>0.000000</td>\n",
       "    </tr>\n",
       "    <tr>\n",
       "      <th>3</th>\n",
       "      <td>C_ID_d27d835a9f</td>\n",
       "      <td>0.010610</td>\n",
       "      <td>0.011385</td>\n",
       "      <td>0.010283</td>\n",
       "      <td>31</td>\n",
       "      <td>12</td>\n",
       "      <td>2017</td>\n",
       "      <td>1</td>\n",
       "      <td>26</td>\n",
       "      <td>26.0</td>\n",
       "      <td>...</td>\n",
       "      <td>0.0</td>\n",
       "      <td>36.970001</td>\n",
       "      <td>1.026944</td>\n",
       "      <td>0.136988</td>\n",
       "      <td>38.500000</td>\n",
       "      <td>1.069336</td>\n",
       "      <td>0.134521</td>\n",
       "      <td>432.0</td>\n",
       "      <td>12.000000</td>\n",
       "      <td>0.000000</td>\n",
       "    </tr>\n",
       "    <tr>\n",
       "      <th>4</th>\n",
       "      <td>C_ID_2b5e3df5c2</td>\n",
       "      <td>0.013145</td>\n",
       "      <td>0.011385</td>\n",
       "      <td>0.011428</td>\n",
       "      <td>762</td>\n",
       "      <td>12</td>\n",
       "      <td>2015</td>\n",
       "      <td>1</td>\n",
       "      <td>110</td>\n",
       "      <td>87.0</td>\n",
       "      <td>...</td>\n",
       "      <td>0.0</td>\n",
       "      <td>343.670013</td>\n",
       "      <td>2.962672</td>\n",
       "      <td>10.934388</td>\n",
       "      <td>333.250000</td>\n",
       "      <td>2.873047</td>\n",
       "      <td>9.382812</td>\n",
       "      <td>1350.0</td>\n",
       "      <td>11.637931</td>\n",
       "      <td>1.248424</td>\n",
       "    </tr>\n",
       "  </tbody>\n",
       "</table>\n",
       "<p>5 rows × 234 columns</p>\n",
       "</div>"
      ],
      "text/plain": [
       "           card_id  feature_1  feature_2  feature_3  time_elapsed  month  \\\n",
       "0  C_ID_0ab67a22ab   0.010479   0.014166   0.011428           275      4   \n",
       "1  C_ID_130fd0cbdd   0.010610   0.014166   0.010283           365      1   \n",
       "2  C_ID_b709037bc5   0.013145   0.011385   0.011428           153      8   \n",
       "3  C_ID_d27d835a9f   0.010610   0.011385   0.010283            31     12   \n",
       "4  C_ID_2b5e3df5c2   0.013145   0.011385   0.011428           762     12   \n",
       "\n",
       "   year  day  hist_Trans_transactions_count  hist_Trans_authorized_flag_sum  \\\n",
       "0  2017    1                             68                            44.0   \n",
       "1  2017    1                             78                            77.0   \n",
       "2  2017    1                             13                             9.0   \n",
       "3  2017    1                             26                            26.0   \n",
       "4  2015    1                            110                            87.0   \n",
       "\n",
       "   ...  merchant_active_months_lag6_std  merchant_avg_sales_lag12_sum  \\\n",
       "0  ...                              0.0                    106.759995   \n",
       "1  ...                              0.0                     96.480003   \n",
       "2  ...                              0.0                     14.820000   \n",
       "3  ...                              0.0                     36.970001   \n",
       "4  ...                              0.0                    343.670013   \n",
       "\n",
       "   merchant_avg_sales_lag12_mean  merchant_avg_sales_lag12_std  \\\n",
       "0                       1.503662                      2.423732   \n",
       "1                       1.108966                      0.812490   \n",
       "2                       0.988000                      0.248199   \n",
       "3                       1.026944                      0.136988   \n",
       "4                       2.962672                     10.934388   \n",
       "\n",
       "   merchant_avg_purchases_lag12_sum  merchant_avg_purchases_lag12_mean  \\\n",
       "0                        117.125000                           1.649414   \n",
       "1                        108.437500                           1.247070   \n",
       "2                         16.578125                           1.104492   \n",
       "3                         38.500000                           1.069336   \n",
       "4                        333.250000                           2.873047   \n",
       "\n",
       "   merchant_avg_purchases_lag12_std  merchant_active_months_lag12_sum  \\\n",
       "0                          3.136719                             837.0   \n",
       "1                          1.654297                            1035.0   \n",
       "2                          0.257812                             180.0   \n",
       "3                          0.134521                             432.0   \n",
       "4                          9.382812                            1350.0   \n",
       "\n",
       "   merchant_active_months_lag12_mean  merchant_active_months_lag12_std  \n",
       "0                          11.788732                          1.005835  \n",
       "1                          11.896552                          0.678648  \n",
       "2                          12.000000                          0.000000  \n",
       "3                          12.000000                          0.000000  \n",
       "4                          11.637931                          1.248424  \n",
       "\n",
       "[5 rows x 234 columns]"
      ]
     },
     "execution_count": 38,
     "metadata": {
      "tags": []
     },
     "output_type": "execute_result"
    }
   ],
   "source": [
    "test.head()"
   ]
  },
  {
   "cell_type": "code",
   "execution_count": null,
   "metadata": {
    "id": "BwdmCftjxSmX"
   },
   "outputs": [],
   "source": [
    "del df_test_FE, df_train_FE, df_newTrans_FE, df_merchants_FE, df_hist_FE"
   ]
  },
  {
   "cell_type": "code",
   "execution_count": null,
   "metadata": {
    "id": "MM_eHi7aUoSn"
   },
   "outputs": [],
   "source": [
    "train.replace([-np.inf,np.inf], np.nan, inplace=True)\n",
    "test.replace([-np.inf,np.inf], np.nan, inplace=True)"
   ]
  },
  {
   "cell_type": "code",
   "execution_count": null,
   "metadata": {
    "id": "MOfWPc46UoSn"
   },
   "outputs": [],
   "source": [
    "train['new_Trans_transactions_count'].fillna(train['new_Trans_transactions_count'].mode()[0], inplace=True)\n",
    "train['new_Trans_authorized_flag_sum'].fillna(train['new_Trans_authorized_flag_sum'].mode()[0], inplace=True)\n",
    "train['new_Trans_authorized_flag_mean'].fillna(train['new_Trans_authorized_flag_mean'].mode()[0], inplace=True)\n",
    "train['new_Trans_category_1_sum'].fillna(train['new_Trans_category_1_sum'].mode()[0], inplace=True)\n",
    "train['new_Trans_category_1_mean'].fillna(train['new_Trans_category_1_mean'].mode()[0], inplace=True)\n",
    "train['new_Trans_category_2_1.0_mean'].fillna(train['new_Trans_category_2_1.0_mean'].mode()[0], inplace=True)\n",
    "train['new_Trans_category_2_1.0_sum'].fillna(train['new_Trans_category_2_1.0_sum'].mode()[0], inplace=True)\n",
    "train['new_Trans_category_2_2.0_mean'].fillna(train['new_Trans_category_2_2.0_mean'].mode()[0], inplace=True)\n",
    "train['new_Trans_category_2_2.0_sum'].fillna(train['new_Trans_category_2_2.0_sum'].mode()[0], inplace=True)\n",
    "train['new_Trans_category_2_3.0_mean'].fillna(train['new_Trans_category_2_3.0_mean'].mode()[0], inplace=True)\n",
    "train['new_Trans_category_2_3.0_sum'].fillna(train['new_Trans_category_2_3.0_sum'].mode()[0], inplace=True)\n",
    "train['new_Trans_category_2_4.0_mean'].fillna(train['new_Trans_category_2_4.0_mean'].mode()[0], inplace=True)\n",
    "train['new_Trans_category_2_4.0_sum'].fillna(train['new_Trans_category_2_4.0_sum'].mode()[0], inplace=True)\n",
    "train['new_Trans_category_2_5.0_sum'].fillna(train['new_Trans_category_2_5.0_sum'].mode()[0], inplace=True)\n",
    "train['new_Trans_category_2_5.0_mean'].fillna(train['new_Trans_category_2_5.0_mean'].mode()[0], inplace=True)\n",
    "train['new_Trans_category_3_1_sum'].fillna(train['new_Trans_category_3_1_sum'].mode()[0], inplace=True)\n",
    "train['new_Trans_category_3_1_mean'].fillna(train['new_Trans_category_3_1_mean'].mode()[0], inplace=True)\n",
    "train['new_Trans_category_3_2_sum'].fillna(train['new_Trans_category_3_2_sum'].mode()[0], inplace=True)\n",
    "train['new_Trans_category_3_2_mean'].fillna(train['new_Trans_category_3_2_mean'].mode()[0], inplace=True)\n",
    "train['new_Trans_category_3_3_sum'].fillna(train['new_Trans_category_3_3_sum'].mode()[0], inplace=True)\n",
    "train['new_Trans_category_3_3_mean'].fillna(train['new_Trans_category_3_3_mean'].mode()[0], inplace=True)\n",
    "train['new_Trans_merchant_id_nunique'].fillna(train['new_Trans_merchant_id_nunique'].mode()[0], inplace=True)\n",
    "train['new_Trans_purchase_amount_sum'].fillna(train['new_Trans_purchase_amount_sum'].mode()[0], inplace=True)\n",
    "train['new_Trans_purchase_amount_mean'].fillna(train['new_Trans_purchase_amount_mean'].mode()[0], inplace=True)\n",
    "train['new_Trans_purchase_amount_max'].fillna(train['new_Trans_purchase_amount_max'].mode()[0], inplace=True)\n",
    "train['new_Trans_purchase_amount_min'].fillna(train['new_Trans_purchase_amount_min'].mode()[0], inplace=True)\n",
    "train['new_Trans_purchase_amount_std'].fillna(train['new_Trans_purchase_amount_std'].mode()[0], inplace=True)\n",
    "train['new_Trans_installments_sum'].fillna(train['new_Trans_installments_sum'].mode()[0], inplace=True)\n",
    "train['new_Trans_installments_mean'].fillna(train['new_Trans_installments_mean'].mode()[0], inplace=True)\n",
    "train['new_Trans_installments_max'].fillna(train['new_Trans_installments_max'].mode()[0], inplace=True)\n",
    "train['new_Trans_installments_min'].fillna(train['new_Trans_installments_min'].mode()[0], inplace=True)\n",
    "train['new_Trans_installments_std'].fillna(train['new_Trans_installments_std'].mode()[0], inplace=True)\n",
    "train['new_Trans_purchase_month_mean'].fillna(train['new_Trans_purchase_month_mean'].mode()[0], inplace=True)\n",
    "train['new_Trans_purchase_month_max'].fillna(train['new_Trans_purchase_month_max'].mode()[0], inplace=True)\n",
    "train['new_Trans_purchase_month_min'].fillna(train['new_Trans_purchase_month_min'].mode()[0], inplace=True)\n",
    "train['new_Trans_purchase_month_std'].fillna(train['new_Trans_purchase_month_std'].mode()[0], inplace=True)\n",
    "train['new_Trans_purchase_year_mean'].fillna(train['new_Trans_purchase_year_mean'].mode()[0], inplace=True)\n",
    "train['new_Trans_purchase_year_max'].fillna(train['new_Trans_purchase_year_max'].mode()[0], inplace=True)\n",
    "train['new_Trans_purchase_year_min'].fillna(train['new_Trans_purchase_year_min'].mode()[0], inplace=True)\n",
    "train['new_Trans_purchase_year_std'].fillna(train['new_Trans_purchase_year_std'].mode()[0], inplace=True)\n",
    "train['new_Trans_purchase_day_mean'].fillna(train['new_Trans_purchase_day_mean'].mode()[0], inplace=True)\n",
    "train['new_Trans_purchase_day_max'].fillna(train['new_Trans_purchase_day_max'].mode()[0], inplace=True)\n",
    "train['new_Trans_purchase_day_min'].fillna(train['new_Trans_purchase_day_min'].mode()[0], inplace=True)\n",
    "train['new_Trans_purchase_day_std'].fillna(train['new_Trans_purchase_day_std'].mode()[0], inplace=True)\n",
    "train['new_Trans_month_lag_min'].fillna(train['new_Trans_month_lag_min'].mode()[0], inplace=True)\n",
    "train['new_Trans_month_lag_max'].fillna(train['new_Trans_month_lag_max'].mode()[0], inplace=True)\n",
    "train['new_Trans_merchant_category_id_nunique'].fillna(train['new_Trans_merchant_category_id_nunique'].mode()[0], inplace=True)\n",
    "train['new_Trans_state_id_nunique'].fillna(train['new_Trans_state_id_nunique'].mode()[0], inplace=True)\n",
    "train['new_Trans_subsector_id_nunique'].fillna(train['new_Trans_subsector_id_nunique'].mode()[0], inplace=True)\n",
    "train['new_Trans_city_id_nunique'].fillna(train['new_Trans_city_id_nunique'].mode()[0], inplace=True)\n",
    "train['merchant_avg_purchases_lag3_sum'].fillna(train['merchant_avg_purchases_lag3_sum'].mode()[0], inplace=True)\n",
    "train['merchant_avg_purchases_lag3_std'].fillna(train['merchant_avg_purchases_lag3_std'].mode()[0], inplace=True)\n",
    "train['merchant_avg_purchases_lag6_sum'].fillna(train['merchant_avg_purchases_lag6_sum'].mode()[0], inplace=True)\n",
    "train['merchant_avg_purchases_lag6_std'].fillna(train['merchant_avg_purchases_lag6_std'].mode()[0], inplace=True)\n",
    "train['merchant_avg_purchases_lag12_sum'].fillna(train['merchant_avg_purchases_lag12_sum'].mode()[0], inplace=True)\n",
    "train['merchant_avg_purchases_lag12_std'].fillna(train['merchant_avg_purchases_lag12_std'].mode()[0], inplace=True)\n",
    "train['new_Trans_month_diff_min'].fillna(train['new_Trans_month_diff_min'].mode()[0], inplace=True)\n",
    "train['new_Trans_month_diff_max'].fillna(train['new_Trans_month_diff_max'].mode()[0], inplace=True)\n",
    "train['new_Trans_month_diff_mean'].fillna(train['new_Trans_month_diff_mean'].mode()[0], inplace=True)\n",
    "\n",
    "\n",
    "\n",
    "train['month_lag_mean_y'].fillna(train['month_lag_mean_y'].mode()[0], inplace=True)\n",
    "train['month_lag_std_y'].fillna(train['month_lag_std_y'].mode()[0], inplace=True)\n",
    "train['purchase_amount_count_mean_y'].fillna(train['purchase_amount_count_mean_y'].mode()[0], inplace=True)\n",
    "train['purchase_amount_count_std_y'].fillna(train['purchase_amount_count_std_y'].mode()[0], inplace=True)\n",
    "train['purchase_amount_sum_mean_y'].fillna(train['purchase_amount_sum_mean_y'].mode()[0], inplace=True)\n",
    "train['purchase_amount_sum_std_y'].fillna(train['purchase_amount_sum_std_y'].mode()[0], inplace=True)\n",
    "train['purchase_amount_mean_mean_y'].fillna(train['purchase_amount_mean_mean_y'].mode()[0], inplace=True)\n",
    "train['purchase_amount_mean_std_y'].fillna(train['purchase_amount_mean_std_y'].mode()[0], inplace=True)\n",
    "train['purchase_amount_min_mean_y'].fillna(train['purchase_amount_min_mean_y'].mode()[0], inplace=True)\n",
    "\n",
    "\n",
    "train['purchase_amount_min_std_y'].fillna(train['purchase_amount_min_std_y'].mode()[0], inplace=True)\n",
    "train['purchase_amount_max_mean_y'].fillna(train['purchase_amount_max_mean_y'].mode()[0], inplace=True)\n",
    "train['purchase_amount_max_std_y'].fillna(train['purchase_amount_max_std_y'].mode()[0], inplace=True)\n",
    "train['purchase_amount_std_mean_y'].fillna(train['purchase_amount_std_mean_y'].mode()[0], inplace=True)\n",
    "train['purchase_amount_sum_mean_y'].fillna(train['purchase_amount_sum_mean_y'].mode()[0], inplace=True)\n",
    "train['purchase_amount_std_std_y'].fillna(train['purchase_amount_std_std_y'].mode()[0], inplace=True)\n",
    "train['installments_count_mean_y'].fillna(train['installments_count_mean_y'].mode()[0], inplace=True)\n",
    "train['installments_count_std_y'].fillna(train['installments_count_std_y'].mode()[0], inplace=True)\n",
    "train['installments_sum_mean_y'].fillna(train['installments_sum_mean_y'].mode()[0], inplace=True)\n",
    "\n",
    "\n",
    "train['installments_sum_std_y'].fillna(train['installments_sum_std_y'].mode()[0], inplace=True)\n",
    "train['installments_mean_mean_y'].fillna(train['installments_mean_mean_y'].mode()[0], inplace=True)\n",
    "train['installments_mean_std_y'].fillna(train['installments_mean_std_y'].mode()[0], inplace=True)\n",
    "train['installments_min_mean_y'].fillna(train['installments_min_mean_y'].mode()[0], inplace=True)\n",
    "train['installments_min_std_y'].fillna(train['installments_min_std_y'].mode()[0], inplace=True)\n",
    "train['installments_max_mean_y'].fillna(train['installments_max_mean_y'].mode()[0], inplace=True)\n",
    "train['installments_max_std_y'].fillna(train['installments_max_std_y'].mode()[0], inplace=True)\n",
    "train['installments_std_mean_y'].fillna(train['installments_std_mean_y'].mode()[0], inplace=True)\n",
    "train['installments_std_std_y'].fillna(train['installments_std_std_y'].mode()[0], inplace=True)"
   ]
  },
  {
   "cell_type": "code",
   "execution_count": null,
   "metadata": {
    "id": "C2nZvHWwUoSn",
    "outputId": "972fe796-2c22-4016-b8eb-cd62d39fd4ca",
    "scrolled": true
   },
   "outputs": [
    {
     "data": {
      "text/plain": [
       "Index([], dtype='object')"
      ]
     },
     "execution_count": 44,
     "metadata": {
      "tags": []
     },
     "output_type": "execute_result"
    }
   ],
   "source": [
    "train.columns[train.isna().any()]"
   ]
  },
  {
   "cell_type": "code",
   "execution_count": null,
   "metadata": {
    "id": "d8TgXShSUoSo"
   },
   "outputs": [],
   "source": [
    "test['new_Trans_transactions_count'].fillna(test['new_Trans_transactions_count'].mode()[0], inplace=True)\n",
    "test['new_Trans_authorized_flag_sum'].fillna(test['new_Trans_authorized_flag_sum'].mode()[0], inplace=True)\n",
    "test['new_Trans_authorized_flag_mean'].fillna(test['new_Trans_authorized_flag_mean'].mode()[0], inplace=True)\n",
    "test['new_Trans_category_1_sum'].fillna(test['new_Trans_category_1_sum'].mode()[0], inplace=True)\n",
    "test['new_Trans_category_1_mean'].fillna(test['new_Trans_category_1_mean'].mode()[0], inplace=True)\n",
    "test['new_Trans_category_2_1.0_mean'].fillna(test['new_Trans_category_2_1.0_mean'].mode()[0], inplace=True)\n",
    "test['new_Trans_category_2_1.0_sum'].fillna(test['new_Trans_category_2_1.0_sum'].mode()[0], inplace=True)\n",
    "test['new_Trans_category_2_2.0_mean'].fillna(test['new_Trans_category_2_2.0_mean'].mode()[0], inplace=True)\n",
    "test['new_Trans_category_2_2.0_sum'].fillna(test['new_Trans_category_2_2.0_sum'].mode()[0], inplace=True)\n",
    "test['new_Trans_category_2_3.0_mean'].fillna(test['new_Trans_category_2_3.0_mean'].mode()[0], inplace=True)\n",
    "test['new_Trans_category_2_3.0_sum'].fillna(test['new_Trans_category_2_3.0_sum'].mode()[0], inplace=True)\n",
    "test['new_Trans_category_2_4.0_mean'].fillna(test['new_Trans_category_2_4.0_mean'].mode()[0], inplace=True)\n",
    "test['new_Trans_category_2_4.0_sum'].fillna(test['new_Trans_category_2_4.0_sum'].mode()[0], inplace=True)\n",
    "test['new_Trans_category_2_5.0_sum'].fillna(test['new_Trans_category_2_5.0_sum'].mode()[0], inplace=True)\n",
    "test['new_Trans_category_2_5.0_mean'].fillna(test['new_Trans_category_2_5.0_mean'].mode()[0], inplace=True)\n",
    "test['new_Trans_category_3_1_sum'].fillna(test['new_Trans_category_3_1_sum'].mode()[0], inplace=True)\n",
    "test['new_Trans_category_3_1_mean'].fillna(test['new_Trans_category_3_1_mean'].mode()[0], inplace=True)\n",
    "test['new_Trans_category_3_2_sum'].fillna(test['new_Trans_category_3_2_sum'].mode()[0], inplace=True)\n",
    "test['new_Trans_category_3_2_mean'].fillna(test['new_Trans_category_3_2_mean'].mode()[0], inplace=True)\n",
    "test['new_Trans_category_3_3_sum'].fillna(test['new_Trans_category_3_3_sum'].mode()[0], inplace=True)\n",
    "test['new_Trans_category_3_3_mean'].fillna(test['new_Trans_category_3_3_mean'].mode()[0], inplace=True)\n",
    "test['new_Trans_merchant_id_nunique'].fillna(test['new_Trans_merchant_id_nunique'].mode()[0], inplace=True)\n",
    "test['new_Trans_purchase_amount_sum'].fillna(test['new_Trans_purchase_amount_sum'].mode()[0], inplace=True)\n",
    "test['new_Trans_purchase_amount_mean'].fillna(test['new_Trans_purchase_amount_mean'].mode()[0], inplace=True)\n",
    "test['new_Trans_purchase_amount_max'].fillna(test['new_Trans_purchase_amount_max'].mode()[0], inplace=True)\n",
    "test['new_Trans_purchase_amount_min'].fillna(test['new_Trans_purchase_amount_min'].mode()[0], inplace=True)\n",
    "test['new_Trans_purchase_amount_std'].fillna(test['new_Trans_purchase_amount_std'].mode()[0], inplace=True)\n",
    "test['new_Trans_installments_sum'].fillna(test['new_Trans_installments_sum'].mode()[0], inplace=True)\n",
    "test['new_Trans_installments_mean'].fillna(test['new_Trans_installments_mean'].mode()[0], inplace=True)\n",
    "test['new_Trans_installments_max'].fillna(test['new_Trans_installments_max'].mode()[0], inplace=True)\n",
    "test['new_Trans_installments_min'].fillna(test['new_Trans_installments_min'].mode()[0], inplace=True)\n",
    "test['new_Trans_installments_std'].fillna(test['new_Trans_installments_std'].mode()[0], inplace=True)\n",
    "test['new_Trans_purchase_month_mean'].fillna(test['new_Trans_purchase_month_mean'].mode()[0], inplace=True)\n",
    "test['new_Trans_purchase_month_max'].fillna(test['new_Trans_purchase_month_max'].mode()[0], inplace=True)\n",
    "test['new_Trans_purchase_month_min'].fillna(test['new_Trans_purchase_month_min'].mode()[0], inplace=True)\n",
    "test['new_Trans_purchase_month_std'].fillna(test['new_Trans_purchase_month_std'].mode()[0], inplace=True)\n",
    "test['new_Trans_purchase_year_mean'].fillna(test['new_Trans_purchase_year_mean'].mode()[0], inplace=True)\n",
    "test['new_Trans_purchase_year_max'].fillna(test['new_Trans_purchase_year_max'].mode()[0], inplace=True)\n",
    "test['new_Trans_purchase_year_min'].fillna(test['new_Trans_purchase_year_min'].mode()[0], inplace=True)\n",
    "test['new_Trans_purchase_year_std'].fillna(test['new_Trans_purchase_year_std'].mode()[0], inplace=True)\n",
    "test['new_Trans_purchase_day_mean'].fillna(test['new_Trans_purchase_day_mean'].mode()[0], inplace=True)\n",
    "test['new_Trans_purchase_day_max'].fillna(test['new_Trans_purchase_day_max'].mode()[0], inplace=True)\n",
    "test['new_Trans_purchase_day_min'].fillna(test['new_Trans_purchase_day_min'].mode()[0], inplace=True)\n",
    "test['new_Trans_purchase_day_std'].fillna(test['new_Trans_purchase_day_std'].mode()[0], inplace=True)\n",
    "test['new_Trans_month_lag_min'].fillna(test['new_Trans_month_lag_min'].mode()[0], inplace=True)\n",
    "test['new_Trans_month_lag_max'].fillna(test['new_Trans_month_lag_max'].mode()[0], inplace=True)\n",
    "test['new_Trans_merchant_category_id_nunique'].fillna(test['new_Trans_merchant_category_id_nunique'].mode()[0], inplace=True)\n",
    "test['new_Trans_state_id_nunique'].fillna(test['new_Trans_state_id_nunique'].mode()[0], inplace=True)\n",
    "test['new_Trans_subsector_id_nunique'].fillna(test['new_Trans_subsector_id_nunique'].mode()[0], inplace=True)\n",
    "test['new_Trans_city_id_nunique'].fillna(test['new_Trans_city_id_nunique'].mode()[0], inplace=True)\n",
    "test['merchant_avg_purchases_lag3_sum'].fillna(test['merchant_avg_purchases_lag3_sum'].mode()[0], inplace=True)\n",
    "test['merchant_avg_purchases_lag3_std'].fillna(test['merchant_avg_purchases_lag3_std'].mode()[0], inplace=True)\n",
    "test['merchant_avg_purchases_lag6_sum'].fillna(test['merchant_avg_purchases_lag6_sum'].mode()[0], inplace=True)\n",
    "test['merchant_avg_purchases_lag6_std'].fillna(test['merchant_avg_purchases_lag6_std'].mode()[0], inplace=True)\n",
    "test['merchant_avg_purchases_lag12_sum'].fillna(test['merchant_avg_purchases_lag12_sum'].mode()[0], inplace=True)\n",
    "test['merchant_avg_purchases_lag12_std'].fillna(test['merchant_avg_purchases_lag12_std'].mode()[0], inplace=True)\n",
    "test['new_Trans_month_diff_min'].fillna(test['new_Trans_month_diff_min'].mode()[0], inplace=True)\n",
    "test['new_Trans_month_diff_max'].fillna(test['new_Trans_month_diff_max'].mode()[0], inplace=True)\n",
    "test['new_Trans_month_diff_mean'].fillna(test['new_Trans_month_diff_mean'].mode()[0], inplace=True)\n",
    "\n",
    "test['month_lag_mean_y'].fillna(test['month_lag_mean_y'].mode()[0], inplace=True)\n",
    "test['month_lag_std_y'].fillna(test['month_lag_std_y'].mode()[0], inplace=True)\n",
    "test['purchase_amount_count_mean_y'].fillna(test['purchase_amount_count_mean_y'].mode()[0], inplace=True)\n",
    "test['purchase_amount_count_std_y'].fillna(test['purchase_amount_count_std_y'].mode()[0], inplace=True)\n",
    "test['purchase_amount_sum_mean_y'].fillna(test['purchase_amount_sum_mean_y'].mode()[0], inplace=True)\n",
    "test['purchase_amount_sum_std_y'].fillna(test['purchase_amount_sum_std_y'].mode()[0], inplace=True)\n",
    "test['purchase_amount_mean_mean_y'].fillna(test['purchase_amount_mean_mean_y'].mode()[0], inplace=True)\n",
    "test['purchase_amount_mean_std_y'].fillna(test['purchase_amount_mean_std_y'].mode()[0], inplace=True)\n",
    "test['purchase_amount_min_mean_y'].fillna(test['purchase_amount_min_mean_y'].mode()[0], inplace=True)\n",
    "\n",
    "\n",
    "test['purchase_amount_min_std_y'].fillna(test['purchase_amount_min_std_y'].mode()[0], inplace=True)\n",
    "test['purchase_amount_max_mean_y'].fillna(test['purchase_amount_max_mean_y'].mode()[0], inplace=True)\n",
    "test['purchase_amount_max_std_y'].fillna(test['purchase_amount_max_std_y'].mode()[0], inplace=True)\n",
    "test['purchase_amount_std_mean_y'].fillna(test['purchase_amount_std_mean_y'].mode()[0], inplace=True)\n",
    "test['purchase_amount_sum_mean_y'].fillna(test['purchase_amount_sum_mean_y'].mode()[0], inplace=True)\n",
    "test['purchase_amount_std_std_y'].fillna(test['purchase_amount_std_std_y'].mode()[0], inplace=True)\n",
    "test['installments_count_mean_y'].fillna(test['installments_count_mean_y'].mode()[0], inplace=True)\n",
    "test['installments_count_std_y'].fillna(test['installments_count_std_y'].mode()[0], inplace=True)\n",
    "test['installments_sum_mean_y'].fillna(test['installments_sum_mean_y'].mode()[0], inplace=True)\n",
    "\n",
    "\n",
    "test['installments_sum_std_y'].fillna(test['installments_sum_std_y'].mode()[0], inplace=True)\n",
    "test['installments_mean_mean_y'].fillna(test['installments_mean_mean_y'].mode()[0], inplace=True)\n",
    "test['installments_mean_std_y'].fillna(test['installments_mean_std_y'].mode()[0], inplace=True)\n",
    "test['installments_min_mean_y'].fillna(test['installments_min_mean_y'].mode()[0], inplace=True)\n",
    "test['installments_min_std_y'].fillna(test['installments_min_std_y'].mode()[0], inplace=True)\n",
    "test['installments_max_mean_y'].fillna(test['installments_max_mean_y'].mode()[0], inplace=True)\n",
    "test['installments_max_std_y'].fillna(test['installments_max_std_y'].mode()[0], inplace=True)\n",
    "test['installments_std_mean_y'].fillna(test['installments_std_mean_y'].mode()[0], inplace=True)\n",
    "test['installments_std_std_y'].fillna(test['installments_std_std_y'].mode()[0], inplace=True)"
   ]
  },
  {
   "cell_type": "code",
   "execution_count": null,
   "metadata": {
    "id": "WjB3BViSUoSo",
    "outputId": "f46f8937-2b01-400e-b7bd-6dcc3efd29fd"
   },
   "outputs": [
    {
     "data": {
      "text/plain": [
       "Index([], dtype='object')"
      ]
     },
     "execution_count": 48,
     "metadata": {
      "tags": []
     },
     "output_type": "execute_result"
    }
   ],
   "source": [
    "test.columns[test.isna().any()]"
   ]
  },
  {
   "cell_type": "code",
   "execution_count": null,
   "metadata": {
    "id": "FB3VAaF_xSmX"
   },
   "outputs": [],
   "source": [
    "train.to_csv(\"final_train.csv\",index = False)\n",
    "test.to_csv(\"final_test.csv\",index = False)"
   ]
  },
  {
   "cell_type": "code",
   "execution_count": 19,
   "metadata": {
    "colab": {
     "base_uri": "https://localhost:8080/"
    },
    "id": "2Habfb6OxSmX",
    "outputId": "011375bf-9a27-422e-9831-1df5ba62eabc"
   },
   "outputs": [
    {
     "name": "stdout",
     "output_type": "stream",
     "text": [
      "Mem. usage decreased to 96.86 Mb (73.2% reduction)\n",
      "Mem. usage decreased to 56.94 Mb (74.2% reduction)\n"
     ]
    }
   ],
   "source": [
    "train = reduce_mem_usage(pd.read_csv(\"final_train.csv\"))\n",
    "test = reduce_mem_usage(pd.read_csv(\"final_test.csv\"))"
   ]
  },
  {
   "cell_type": "markdown",
   "metadata": {
    "id": "xxZAykg2CxLu"
   },
   "source": [
    "<h1>5. Models <h1>"
   ]
  },
  {
   "cell_type": "markdown",
   "metadata": {},
   "source": [
    "<h2>5.1 Regression Models </h2>"
   ]
  },
  {
   "cell_type": "code",
   "execution_count": 18,
   "metadata": {
    "id": "g7mehPLgF-ya"
   },
   "outputs": [],
   "source": [
    "from sklearn.model_selection import train_test_split, RandomizedSearchCV, GridSearchCV\n",
    "from sklearn.linear_model import LinearRegression, SGDRegressor\n",
    "from sklearn.ensemble import RandomForestRegressor, AdaBoostRegressor\n",
    "from sklearn.tree import DecisionTreeRegressor\n",
    "import lightgbm as lgbm\n",
    "import warnings\n",
    "warnings.filterwarnings(\"ignore\")\n",
    "from sklearn.model_selection import StratifiedKFold, KFold, RepeatedKFold\n",
    "from sklearn.metrics import mean_squared_error\n",
    "import time\n",
    "import xgboost as xgb\n",
    "from bayes_opt import BayesianOptimization\n",
    "from sklearn.linear_model import BayesianRidge\n",
    "from sklearn.svm import SVC\n",
    "from sklearn.calibration import CalibratedClassifierCV\n",
    "from sklearn.model_selection import cross_val_score\n",
    "from sklearn.linear_model import SGDClassifier\n",
    "from sklearn import model_selection\n",
    "from sklearn.linear_model import LogisticRegression\n",
    "from sklearn.metrics import precision_recall_curve, auc, roc_curve\n",
    "from sklearn.metrics import confusion_matrix\n",
    "from sklearn.metrics.classification import accuracy_score, log_loss"
   ]
  },
  {
   "cell_type": "code",
   "execution_count": 5,
   "metadata": {
    "id": "U3m4fnW_FP_h"
   },
   "outputs": [],
   "source": [
    "y = train['target']\n",
    "X = train.drop(['target', 'card_id'], axis = 1)"
   ]
  },
  {
   "cell_type": "code",
   "execution_count": 6,
   "metadata": {
    "id": "jR25x8OZF9zL"
   },
   "outputs": [],
   "source": [
    "X_train, X_val, y_train, y_val = train_test_split(X, y, test_size = 0.1, random_state = 42)"
   ]
  },
  {
   "cell_type": "code",
   "execution_count": 7,
   "metadata": {
    "colab": {
     "base_uri": "https://localhost:8080/",
     "height": 160
    },
    "id": "NZ8RtPx70rdR",
    "outputId": "4242fc98-77a9-4081-d4fb-0be183341d76"
   },
   "outputs": [
    {
     "data": {
      "text/html": [
       "<div>\n",
       "<style scoped>\n",
       "    .dataframe tbody tr th:only-of-type {\n",
       "        vertical-align: middle;\n",
       "    }\n",
       "\n",
       "    .dataframe tbody tr th {\n",
       "        vertical-align: top;\n",
       "    }\n",
       "\n",
       "    .dataframe thead th {\n",
       "        text-align: right;\n",
       "    }\n",
       "</style>\n",
       "<table border=\"1\" class=\"dataframe\">\n",
       "  <thead>\n",
       "    <tr style=\"text-align: right;\">\n",
       "      <th></th>\n",
       "      <th>feature_1</th>\n",
       "      <th>feature_2</th>\n",
       "      <th>feature_3</th>\n",
       "      <th>time_elapsed</th>\n",
       "      <th>month</th>\n",
       "      <th>year</th>\n",
       "      <th>day</th>\n",
       "      <th>hist_Trans_transactions_count</th>\n",
       "      <th>hist_Trans_authorized_flag_sum</th>\n",
       "      <th>hist_Trans_authorized_flag_mean</th>\n",
       "      <th>...</th>\n",
       "      <th>merchant_active_months_lag6_std</th>\n",
       "      <th>merchant_avg_sales_lag12_sum</th>\n",
       "      <th>merchant_avg_sales_lag12_mean</th>\n",
       "      <th>merchant_avg_sales_lag12_std</th>\n",
       "      <th>merchant_avg_purchases_lag12_sum</th>\n",
       "      <th>merchant_avg_purchases_lag12_mean</th>\n",
       "      <th>merchant_avg_purchases_lag12_std</th>\n",
       "      <th>merchant_active_months_lag12_sum</th>\n",
       "      <th>merchant_active_months_lag12_mean</th>\n",
       "      <th>merchant_active_months_lag12_std</th>\n",
       "    </tr>\n",
       "  </thead>\n",
       "  <tbody>\n",
       "    <tr>\n",
       "      <th>0</th>\n",
       "      <td>0.010483</td>\n",
       "      <td>0.011383</td>\n",
       "      <td>0.011429</td>\n",
       "      <td>2284</td>\n",
       "      <td>11</td>\n",
       "      <td>2011</td>\n",
       "      <td>1</td>\n",
       "      <td>84</td>\n",
       "      <td>59.0</td>\n",
       "      <td>0.702148</td>\n",
       "      <td>...</td>\n",
       "      <td>0.0</td>\n",
       "      <td>384.910004</td>\n",
       "      <td>4.324831</td>\n",
       "      <td>7.429107</td>\n",
       "      <td>497.5000</td>\n",
       "      <td>5.589844</td>\n",
       "      <td>8.632812</td>\n",
       "      <td>993.0</td>\n",
       "      <td>11.15625</td>\n",
       "      <td>1.87207</td>\n",
       "    </tr>\n",
       "    <tr>\n",
       "      <th>1</th>\n",
       "      <td>0.010483</td>\n",
       "      <td>0.014168</td>\n",
       "      <td>0.011429</td>\n",
       "      <td>2284</td>\n",
       "      <td>11</td>\n",
       "      <td>2011</td>\n",
       "      <td>1</td>\n",
       "      <td>30</td>\n",
       "      <td>27.0</td>\n",
       "      <td>0.899902</td>\n",
       "      <td>...</td>\n",
       "      <td>0.0</td>\n",
       "      <td>39.410000</td>\n",
       "      <td>1.271290</td>\n",
       "      <td>0.246508</td>\n",
       "      <td>39.1875</td>\n",
       "      <td>1.263672</td>\n",
       "      <td>0.229370</td>\n",
       "      <td>372.0</td>\n",
       "      <td>12.00000</td>\n",
       "      <td>0.00000</td>\n",
       "    </tr>\n",
       "  </tbody>\n",
       "</table>\n",
       "<p>2 rows × 233 columns</p>\n",
       "</div>"
      ],
      "text/plain": [
       "   feature_1  feature_2  feature_3  time_elapsed  month  year  day  \\\n",
       "0   0.010483   0.011383   0.011429          2284     11  2011    1   \n",
       "1   0.010483   0.014168   0.011429          2284     11  2011    1   \n",
       "\n",
       "   hist_Trans_transactions_count  hist_Trans_authorized_flag_sum  \\\n",
       "0                             84                            59.0   \n",
       "1                             30                            27.0   \n",
       "\n",
       "   hist_Trans_authorized_flag_mean  ...  merchant_active_months_lag6_std  \\\n",
       "0                         0.702148  ...                              0.0   \n",
       "1                         0.899902  ...                              0.0   \n",
       "\n",
       "   merchant_avg_sales_lag12_sum  merchant_avg_sales_lag12_mean  \\\n",
       "0                    384.910004                       4.324831   \n",
       "1                     39.410000                       1.271290   \n",
       "\n",
       "   merchant_avg_sales_lag12_std  merchant_avg_purchases_lag12_sum  \\\n",
       "0                      7.429107                          497.5000   \n",
       "1                      0.246508                           39.1875   \n",
       "\n",
       "   merchant_avg_purchases_lag12_mean  merchant_avg_purchases_lag12_std  \\\n",
       "0                           5.589844                          8.632812   \n",
       "1                           1.263672                          0.229370   \n",
       "\n",
       "   merchant_active_months_lag12_sum  merchant_active_months_lag12_mean  \\\n",
       "0                             993.0                           11.15625   \n",
       "1                             372.0                           12.00000   \n",
       "\n",
       "   merchant_active_months_lag12_std  \n",
       "0                           1.87207  \n",
       "1                           0.00000  \n",
       "\n",
       "[2 rows x 233 columns]"
      ]
     },
     "execution_count": 7,
     "metadata": {},
     "output_type": "execute_result"
    }
   ],
   "source": [
    "X.head(2)"
   ]
  },
  {
   "cell_type": "markdown",
   "metadata": {
    "id": "51QXwQvoFA1x"
   },
   "source": [
    "<h3>5.1.1 Linear Regression </h3>"
   ]
  },
  {
   "cell_type": "code",
   "execution_count": null,
   "metadata": {
    "colab": {
     "base_uri": "https://localhost:8080/"
    },
    "id": "pTiFIYR6C8kY",
    "outputId": "00686f67-3a34-40be-8bb1-827af4176a97"
   },
   "outputs": [
    {
     "data": {
      "text/plain": [
       "LinearRegression()"
      ]
     },
     "execution_count": 93,
     "metadata": {
      "tags": []
     },
     "output_type": "execute_result"
    }
   ],
   "source": [
    "model = LinearRegression()\n",
    "model.fit(X_train, y_train)"
   ]
  },
  {
   "cell_type": "code",
   "execution_count": null,
   "metadata": {
    "colab": {
     "base_uri": "https://localhost:8080/"
    },
    "id": "DY23ILjvHF_F",
    "outputId": "65e57540-3f6d-4d7f-8346-edefa0d7e158"
   },
   "outputs": [
    {
     "name": "stdout",
     "output_type": "stream",
     "text": [
      "Train RMSE:  3.8179185\n",
      "Test RMSE:  3.7208004\n"
     ]
    }
   ],
   "source": [
    "y_pred_train = model.predict(X_train)\n",
    "y_pred_test = model.predict(X_val)\n",
    "X_train_rmse = np.sqrt(mean_squared_error(y_train, y_pred_train))\n",
    "X_test_rmse = np.sqrt(mean_squared_error(y_val, y_pred_test))\n",
    "print(\"Train RMSE: \", X_train_rmse)\n",
    "print(\"Test RMSE: \",X_test_rmse)"
   ]
  },
  {
   "cell_type": "markdown",
   "metadata": {
    "id": "5WZjyhNThCR3"
   },
   "source": [
    "<h3>5.1.2 SGD Regression </h3>"
   ]
  },
  {
   "cell_type": "code",
   "execution_count": null,
   "metadata": {
    "colab": {
     "base_uri": "https://localhost:8080/"
    },
    "id": "EcOoudxmhQ9q",
    "outputId": "29c8ff66-8e87-4350-cca9-56ab36475a64"
   },
   "outputs": [
    {
     "data": {
      "text/plain": [
       "{'alpha': 1000, 'max_iter': 100}"
      ]
     },
     "execution_count": 14,
     "metadata": {
      "tags": []
     },
     "output_type": "execute_result"
    }
   ],
   "source": [
    "alpha = [0.0000001, 0.000001,  0.00001, 0.0001, 0.001, 0.01, 0.1, 1, 10, 100, 1000, 10000, 100000, 100000]\n",
    "max_iter = [10, 100, 1000]\n",
    "params = {'alpha' : alpha,\n",
    "          'max_iter' : max_iter}\n",
    "\n",
    "model = SGDRegressor()\n",
    "gridsearch = GridSearchCV(model, params, scoring = 'neg_root_mean_squared_error', cv = 5)\n",
    "gridsearch.fit(X_train, y_train)\n",
    "gridsearch.best_params_"
   ]
  },
  {
   "cell_type": "code",
   "execution_count": null,
   "metadata": {
    "colab": {
     "base_uri": "https://localhost:8080/"
    },
    "id": "uk8cJWX7x7Ki",
    "outputId": "47e36b43-e656-450a-dca9-c2354ac472db"
   },
   "outputs": [
    {
     "name": "stdout",
     "output_type": "stream",
     "text": [
      "Train RMSE: 1.3328120569632663e+20\n",
      "Test RMSE: 1.0005355719208283e+20\n"
     ]
    }
   ],
   "source": [
    "model = SGDRegressor(alpha= 1000, max_iter=100)\n",
    "model.fit(X_train, y_train)\n",
    "\n",
    "y_pred_train = model.predict(X_train)\n",
    "y_pred_test = model.predict(X_val)\n",
    "\n",
    "train_rmse = np.sqrt(mean_squared_error(y_train, y_pred_train))\n",
    "test_rmse = np.sqrt(mean_squared_error(y_val, y_pred_test))\n",
    "\n",
    "print(\"Train RMSE:\", train_rmse)\n",
    "print(\"Test RMSE:\", test_rmse)"
   ]
  },
  {
   "cell_type": "markdown",
   "metadata": {
    "id": "Gl3bUTbq3uRP"
   },
   "source": [
    "- This model is performing horribly."
   ]
  },
  {
   "cell_type": "markdown",
   "metadata": {
    "id": "zY9P3b_jYIMp"
   },
   "source": [
    "<h3>5.1.3 LGBM </h3>"
   ]
  },
  {
   "cell_type": "code",
   "execution_count": 15,
   "metadata": {
    "colab": {
     "base_uri": "https://localhost:8080/"
    },
    "id": "qtNccmA4UoSr",
    "outputId": "b27986f9-998b-4119-82ff-c2541d40cf48"
   },
   "outputs": [
    {
     "data": {
      "text/plain": [
       "{'colsample_bytree': 0.6,\n",
       " 'learning_rate': 0.01,\n",
       " 'max_depth': 10,\n",
       " 'n_estimators': 500,\n",
       " 'num_leaves': 250}"
      ]
     },
     "execution_count": 15,
     "metadata": {
      "tags": []
     },
     "output_type": "execute_result"
    }
   ],
   "source": [
    "clf = lgbm.LGBMRegressor(n_jobs = -1, verbose = 1)\n",
    "\n",
    "params = {\n",
    "            'num_leaves': [30, 50, 100, 150, 200, 250],\n",
    "            'n_estimators': [100, 500, 1000, 1500, 2000, 2500, 3000, 3500],\n",
    "            'colsample_bytree' : [0.1, 0.4, 0.6, 0.8, 1.0, 1.2],\n",
    "            'learning_rate': [0.0001 ,0.001, 0.01, 0.1],\n",
    "            'max_depth': [4, 6, 8, 10, 12],\n",
    "}\n",
    "\n",
    "grid_search = RandomizedSearchCV(clf, params, scoring = 'neg_root_mean_squared_error', cv = 5)\n",
    "grid_search.fit(X_train, y_train)\n",
    "grid_search.best_params_"
   ]
  },
  {
   "cell_type": "code",
   "execution_count": 16,
   "metadata": {
    "colab": {
     "base_uri": "https://localhost:8080/"
    },
    "id": "NAHhSFUw65RT",
    "outputId": "f2349c42-9790-4892-b9f1-088d331a0041"
   },
   "outputs": [
    {
     "name": "stdout",
     "output_type": "stream",
     "text": [
      "Train RMSE: 3.0823249903264083\n",
      "Test RMSE: 3.599007090538773\n"
     ]
    }
   ],
   "source": [
    "model = lgbm.LGBMRegressor(n_jobs=-1, \n",
    "                      num_leaves = 250,\n",
    "                      n_estimators = 500,\n",
    "                      max_depth = 10,\n",
    "                      learning_rate = 0.01,\n",
    "                      colsample_bytree = 0.6)\n",
    "model.fit(X_train, y_train)\n",
    "\n",
    "y_pred_train = model.predict(X_train)\n",
    "y_pred_test = model.predict(X_val)\n",
    "\n",
    "train_rmse = np.sqrt(mean_squared_error(y_train, y_pred_train))\n",
    "test_rmse = np.sqrt(mean_squared_error(y_val, y_pred_test))\n",
    "\n",
    "print(\"Train RMSE:\", train_rmse)\n",
    "print(\"Test RMSE:\", test_rmse)"
   ]
  },
  {
   "cell_type": "code",
   "execution_count": 17,
   "metadata": {
    "id": "XdojTn6JYu6W"
   },
   "outputs": [],
   "source": [
    "test_CardId = test['card_id']\n",
    "test_Data = test.drop(['card_id'], axis = 1)"
   ]
  },
  {
   "cell_type": "code",
   "execution_count": 18,
   "metadata": {
    "id": "kBuRRRiZZGMr"
   },
   "outputs": [],
   "source": [
    "test_pred = model.predict(test_Data)"
   ]
  },
  {
   "cell_type": "code",
   "execution_count": 19,
   "metadata": {
    "id": "uupFm5doZ2Nn"
   },
   "outputs": [],
   "source": [
    "data = {'card_id' : list(test_CardId),\n",
    "        'target' : list(test_pred)\n",
    "}\n",
    "data = pd.DataFrame(data)"
   ]
  },
  {
   "cell_type": "code",
   "execution_count": 20,
   "metadata": {
    "colab": {
     "base_uri": "https://localhost:8080/",
     "height": 111
    },
    "id": "N6_jnF_N_UWC",
    "outputId": "2c1d1eb5-8972-45b9-ef51-edbb58217a50"
   },
   "outputs": [
    {
     "data": {
      "text/html": [
       "<div>\n",
       "<style scoped>\n",
       "    .dataframe tbody tr th:only-of-type {\n",
       "        vertical-align: middle;\n",
       "    }\n",
       "\n",
       "    .dataframe tbody tr th {\n",
       "        vertical-align: top;\n",
       "    }\n",
       "\n",
       "    .dataframe thead th {\n",
       "        text-align: right;\n",
       "    }\n",
       "</style>\n",
       "<table border=\"1\" class=\"dataframe\">\n",
       "  <thead>\n",
       "    <tr style=\"text-align: right;\">\n",
       "      <th></th>\n",
       "      <th>card_id</th>\n",
       "      <th>target</th>\n",
       "    </tr>\n",
       "  </thead>\n",
       "  <tbody>\n",
       "    <tr>\n",
       "      <th>0</th>\n",
       "      <td>C_ID_0ab67a22ab</td>\n",
       "      <td>-4.842349</td>\n",
       "    </tr>\n",
       "    <tr>\n",
       "      <th>1</th>\n",
       "      <td>C_ID_130fd0cbdd</td>\n",
       "      <td>-0.378474</td>\n",
       "    </tr>\n",
       "  </tbody>\n",
       "</table>\n",
       "</div>"
      ],
      "text/plain": [
       "           card_id    target\n",
       "0  C_ID_0ab67a22ab -4.842349\n",
       "1  C_ID_130fd0cbdd -0.378474"
      ]
     },
     "execution_count": 20,
     "metadata": {
      "tags": []
     },
     "output_type": "execute_result"
    }
   ],
   "source": [
    "data.head(2)"
   ]
  },
  {
   "cell_type": "code",
   "execution_count": 21,
   "metadata": {
    "id": "Qau1SCG4ZdY-"
   },
   "outputs": [],
   "source": [
    "data.to_csv(\"test_submission.csv\", index= False)"
   ]
  },
  {
   "cell_type": "markdown",
   "metadata": {
    "id": "kbXTZnsLPz2h"
   },
   "source": [
    "![image.png](data:image/png;base64,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)"
   ]
  },
  {
   "cell_type": "markdown",
   "metadata": {
    "id": "zsSkT-t_0VO8"
   },
   "source": [
    "<h3>5.1.4 LGBM with KFold</h3>"
   ]
  },
  {
   "cell_type": "code",
   "execution_count": null,
   "metadata": {
    "id": "knodubtaFoRk"
   },
   "outputs": [],
   "source": [
    "n_fold = 5\n",
    "folds = KFold(n_splits=n_fold, shuffle=True, random_state=42)"
   ]
  },
  {
   "cell_type": "code",
   "execution_count": null,
   "metadata": {
    "colab": {
     "base_uri": "https://localhost:8080/"
    },
    "id": "CrqzAlrQQlog",
    "outputId": "c47b9263-08e0-4b6f-f6cc-429fd529528d"
   },
   "outputs": [
    {
     "name": "stdout",
     "output_type": "stream",
     "text": [
      "Fold : 0 started at Thu Jan 28 07:29:20 2021\n",
      "[LightGBM] [Warning] num_threads is set with n_jobs=-1, nthread=4 will be ignored. Current value: num_threads=-1\n",
      "[LightGBM] [Warning] bagging_fraction is set=0.8126672064208567, subsample=0.8767547959893627 will be ignored. Current value: bagging_fraction=0.8126672064208567\n",
      "[LightGBM] [Warning] feature_fraction is set=0.8354507676881442, colsample_bytree=1.0 will be ignored. Current value: feature_fraction=0.8354507676881442\n",
      "[LightGBM] [Warning] boosting is set=gbdt, boosting_type=gbdt will be ignored. Current value: boosting=gbdt\n",
      "[LightGBM] [Warning] bagging_freq is set=5, subsample_freq=0 will be ignored. Current value: bagging_freq=5\n",
      "[LightGBM] [Warning] min_data_in_leaf is set=79, min_child_samples=20 will be ignored. Current value: min_data_in_leaf=79\n",
      "[LightGBM] [Warning] lambda_l1 is set=0.1, reg_alpha=1.1302650970728192 will be ignored. Current value: lambda_l1=0.1\n",
      "Training until validation scores don't improve for 200 rounds\n",
      "Early stopping, best iteration is:\n",
      "[466]\tvalid_0's rmse: 3.59849\n",
      "Train RMSE: 3.3457716331097362\n",
      "Test RMSE: 3.598492591318577\n",
      "Fold : 1 started at Thu Jan 28 07:29:50 2021\n",
      "[LightGBM] [Warning] num_threads is set with n_jobs=-1, nthread=4 will be ignored. Current value: num_threads=-1\n",
      "[LightGBM] [Warning] bagging_fraction is set=0.8126672064208567, subsample=0.8767547959893627 will be ignored. Current value: bagging_fraction=0.8126672064208567\n",
      "[LightGBM] [Warning] feature_fraction is set=0.8354507676881442, colsample_bytree=1.0 will be ignored. Current value: feature_fraction=0.8354507676881442\n",
      "[LightGBM] [Warning] boosting is set=gbdt, boosting_type=gbdt will be ignored. Current value: boosting=gbdt\n",
      "[LightGBM] [Warning] bagging_freq is set=5, subsample_freq=0 will be ignored. Current value: bagging_freq=5\n",
      "[LightGBM] [Warning] min_data_in_leaf is set=79, min_child_samples=20 will be ignored. Current value: min_data_in_leaf=79\n",
      "[LightGBM] [Warning] lambda_l1 is set=0.1, reg_alpha=1.1302650970728192 will be ignored. Current value: lambda_l1=0.1\n",
      "Training until validation scores don't improve for 200 rounds\n",
      "Early stopping, best iteration is:\n",
      "[421]\tvalid_0's rmse: 3.68001\n",
      "Train RMSE: 3.3511194213947353\n",
      "Test RMSE: 3.6800136493580307\n",
      "Fold : 2 started at Thu Jan 28 07:30:18 2021\n",
      "[LightGBM] [Warning] num_threads is set with n_jobs=-1, nthread=4 will be ignored. Current value: num_threads=-1\n",
      "[LightGBM] [Warning] bagging_fraction is set=0.8126672064208567, subsample=0.8767547959893627 will be ignored. Current value: bagging_fraction=0.8126672064208567\n",
      "[LightGBM] [Warning] feature_fraction is set=0.8354507676881442, colsample_bytree=1.0 will be ignored. Current value: feature_fraction=0.8354507676881442\n",
      "[LightGBM] [Warning] boosting is set=gbdt, boosting_type=gbdt will be ignored. Current value: boosting=gbdt\n",
      "[LightGBM] [Warning] bagging_freq is set=5, subsample_freq=0 will be ignored. Current value: bagging_freq=5\n",
      "[LightGBM] [Warning] min_data_in_leaf is set=79, min_child_samples=20 will be ignored. Current value: min_data_in_leaf=79\n",
      "[LightGBM] [Warning] lambda_l1 is set=0.1, reg_alpha=1.1302650970728192 will be ignored. Current value: lambda_l1=0.1\n",
      "Training until validation scores don't improve for 200 rounds\n",
      "Early stopping, best iteration is:\n",
      "[641]\tvalid_0's rmse: 3.67711\n",
      "Train RMSE: 3.2561960302890713\n",
      "Test RMSE: 3.677109755372364\n",
      "Fold : 3 started at Thu Jan 28 07:30:54 2021\n",
      "[LightGBM] [Warning] num_threads is set with n_jobs=-1, nthread=4 will be ignored. Current value: num_threads=-1\n",
      "[LightGBM] [Warning] bagging_fraction is set=0.8126672064208567, subsample=0.8767547959893627 will be ignored. Current value: bagging_fraction=0.8126672064208567\n",
      "[LightGBM] [Warning] feature_fraction is set=0.8354507676881442, colsample_bytree=1.0 will be ignored. Current value: feature_fraction=0.8354507676881442\n",
      "[LightGBM] [Warning] boosting is set=gbdt, boosting_type=gbdt will be ignored. Current value: boosting=gbdt\n",
      "[LightGBM] [Warning] bagging_freq is set=5, subsample_freq=0 will be ignored. Current value: bagging_freq=5\n",
      "[LightGBM] [Warning] min_data_in_leaf is set=79, min_child_samples=20 will be ignored. Current value: min_data_in_leaf=79\n",
      "[LightGBM] [Warning] lambda_l1 is set=0.1, reg_alpha=1.1302650970728192 will be ignored. Current value: lambda_l1=0.1\n",
      "Training until validation scores don't improve for 200 rounds\n",
      "Early stopping, best iteration is:\n",
      "[462]\tvalid_0's rmse: 3.6696\n",
      "Train RMSE: 3.338825764558501\n",
      "Test RMSE: 3.669596648857034\n",
      "Fold : 4 started at Thu Jan 28 07:31:25 2021\n",
      "[LightGBM] [Warning] num_threads is set with n_jobs=-1, nthread=4 will be ignored. Current value: num_threads=-1\n",
      "[LightGBM] [Warning] bagging_fraction is set=0.8126672064208567, subsample=0.8767547959893627 will be ignored. Current value: bagging_fraction=0.8126672064208567\n",
      "[LightGBM] [Warning] feature_fraction is set=0.8354507676881442, colsample_bytree=1.0 will be ignored. Current value: feature_fraction=0.8354507676881442\n",
      "[LightGBM] [Warning] boosting is set=gbdt, boosting_type=gbdt will be ignored. Current value: boosting=gbdt\n",
      "[LightGBM] [Warning] bagging_freq is set=5, subsample_freq=0 will be ignored. Current value: bagging_freq=5\n",
      "[LightGBM] [Warning] min_data_in_leaf is set=79, min_child_samples=20 will be ignored. Current value: min_data_in_leaf=79\n",
      "[LightGBM] [Warning] lambda_l1 is set=0.1, reg_alpha=1.1302650970728192 will be ignored. Current value: lambda_l1=0.1\n",
      "Training until validation scores don't improve for 200 rounds\n",
      "Early stopping, best iteration is:\n",
      "[428]\tvalid_0's rmse: 3.70921\n",
      "Train RMSE: 3.3430702424547163\n",
      "Test RMSE: 3.709209459268974\n"
     ]
    }
   ],
   "source": [
    "train_RMSE_list = []\n",
    "val_RMSE_list = []\n",
    "for fold, (X_train_index, X_val_index) in enumerate(folds.split(X)):\n",
    "    print(\"Fold :\", fold, \"started at\", time.ctime())\n",
    "    X_train, X_val = X.iloc[X_train_index], X.iloc[X_val_index]\n",
    "    y_train, y_val = y.iloc[X_train_index], y.iloc[X_val_index]\n",
    "\n",
    "    #https://www.kaggle.com/artgor/elo-eda-and-models\n",
    "    params = {'num_leaves': 54,\n",
    "         'min_data_in_leaf': 79,\n",
    "         'objective': 'regression',\n",
    "         'max_depth': 18,\n",
    "         'learning_rate': 0.018545526395058548,\n",
    "         \"boosting\": \"gbdt\",\n",
    "         \"feature_fraction\": 0.8354507676881442,\n",
    "         \"bagging_freq\": 5,\n",
    "         \"bagging_fraction\": 0.8126672064208567,\n",
    "         \"bagging_seed\": 11,\n",
    "         \"metric\": 'rmse',\n",
    "         \"lambda_l1\": 0.1,\n",
    "         \"verbosity\": -1,\n",
    "         'min_child_weight': 5.343384366323818,\n",
    "         'reg_alpha': 1.1302650970728192,\n",
    "         'reg_lambda': 0.3603427518866501,\n",
    "         'subsample': 0.8767547959893627,}\n",
    "\n",
    "    model = lgbm.LGBMRegressor(**params, n_estimators = 20000, nthread = 4, n_jobs = -1)\n",
    "    model.fit(X_train, y_train, eval_set = (X_val, y_val), eval_metric = 'rmse', verbose = 1000, early_stopping_rounds = 200)\n",
    "    y_pred_train = model.predict(X_train)\n",
    "    y_pred_test = model.predict(X_val)\n",
    "\n",
    "    train_rmse = np.sqrt(mean_squared_error(y_train, y_pred_train))\n",
    "    test_rmse = np.sqrt(mean_squared_error(y_val, y_pred_test))\n",
    "\n",
    "    train_RMSE_list.append(train_rmse)\n",
    "    val_RMSE_list.append(test_rmse)\n",
    "\n",
    "\n",
    "    print(\"Train RMSE:\", train_rmse)\n",
    "    print(\"Test RMSE:\", test_rmse)"
   ]
  },
  {
   "cell_type": "code",
   "execution_count": null,
   "metadata": {
    "id": "Qex7uOKpcvcT"
   },
   "outputs": [],
   "source": [
    "test_CardId = test['card_id']\n",
    "test_Data = test.drop(['card_id'], axis = 1)"
   ]
  },
  {
   "cell_type": "code",
   "execution_count": null,
   "metadata": {
    "id": "i2BiJeWxczcJ"
   },
   "outputs": [],
   "source": [
    "test_pred = model.predict(test_Data)"
   ]
  },
  {
   "cell_type": "code",
   "execution_count": null,
   "metadata": {
    "id": "LYn4xn5Dc3Qa"
   },
   "outputs": [],
   "source": [
    "data = {'card_id' : list(test_CardId),\n",
    "        'target' : list(test_pred)\n",
    "}\n",
    "data = pd.DataFrame(data)"
   ]
  },
  {
   "cell_type": "code",
   "execution_count": null,
   "metadata": {
    "colab": {
     "base_uri": "https://localhost:8080/",
     "height": 111
    },
    "id": "Q8md96yZc6nq",
    "outputId": "5dec9094-9098-41c7-f325-8ebeb60050de"
   },
   "outputs": [
    {
     "data": {
      "text/html": [
       "<div>\n",
       "<style scoped>\n",
       "    .dataframe tbody tr th:only-of-type {\n",
       "        vertical-align: middle;\n",
       "    }\n",
       "\n",
       "    .dataframe tbody tr th {\n",
       "        vertical-align: top;\n",
       "    }\n",
       "\n",
       "    .dataframe thead th {\n",
       "        text-align: right;\n",
       "    }\n",
       "</style>\n",
       "<table border=\"1\" class=\"dataframe\">\n",
       "  <thead>\n",
       "    <tr style=\"text-align: right;\">\n",
       "      <th></th>\n",
       "      <th>card_id</th>\n",
       "      <th>target</th>\n",
       "    </tr>\n",
       "  </thead>\n",
       "  <tbody>\n",
       "    <tr>\n",
       "      <th>0</th>\n",
       "      <td>C_ID_0ab67a22ab</td>\n",
       "      <td>-4.119254</td>\n",
       "    </tr>\n",
       "    <tr>\n",
       "      <th>1</th>\n",
       "      <td>C_ID_130fd0cbdd</td>\n",
       "      <td>-0.079001</td>\n",
       "    </tr>\n",
       "  </tbody>\n",
       "</table>\n",
       "</div>"
      ],
      "text/plain": [
       "           card_id    target\n",
       "0  C_ID_0ab67a22ab -4.119254\n",
       "1  C_ID_130fd0cbdd -0.079001"
      ]
     },
     "execution_count": 15,
     "metadata": {
      "tags": []
     },
     "output_type": "execute_result"
    }
   ],
   "source": [
    "data.head(2)"
   ]
  },
  {
   "cell_type": "code",
   "execution_count": null,
   "metadata": {
    "id": "ofjVhZlLdDjl"
   },
   "outputs": [],
   "source": [
    "data.to_csv(\"test_submission.csv\", index= False)"
   ]
  },
  {
   "cell_type": "markdown",
   "metadata": {
    "id": "pD-PEym4Phdg"
   },
   "source": [
    "![image.png](data:image/png;base64,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)"
   ]
  },
  {
   "cell_type": "markdown",
   "metadata": {
    "id": "zqmoAcOx0fn8"
   },
   "source": [
    "<h3>5.1.5 XgBoost with KFold </h3>"
   ]
  },
  {
   "cell_type": "code",
   "execution_count": null,
   "metadata": {
    "colab": {
     "base_uri": "https://localhost:8080/"
    },
    "id": "rjcSXUtggidv",
    "outputId": "ab509ec5-fa27-448a-bd48-b5e734fbfeae",
    "scrolled": false
   },
   "outputs": [
    {
     "name": "stdout",
     "output_type": "stream",
     "text": [
      "Fold : 0 started at Sat Jan 23 04:57:41 2021\n",
      "[0]\ttrain-rmse:3.97032\tvalid_data-rmse:3.87872\n",
      "Multiple eval metrics have been passed: 'valid_data-rmse' will be used for early stopping.\n",
      "\n",
      "Will train until valid_data-rmse hasn't improved in 200 rounds.\n",
      "[500]\ttrain-rmse:3.72696\tvalid_data-rmse:3.72955\n",
      "[1000]\ttrain-rmse:3.5861\tvalid_data-rmse:3.67003\n",
      "[1500]\ttrain-rmse:3.49308\tvalid_data-rmse:3.64443\n",
      "[2000]\ttrain-rmse:3.42054\tvalid_data-rmse:3.63252\n",
      "[2500]\ttrain-rmse:3.36084\tvalid_data-rmse:3.62626\n",
      "[3000]\ttrain-rmse:3.31241\tvalid_data-rmse:3.62292\n",
      "[3500]\ttrain-rmse:3.27438\tvalid_data-rmse:3.62153\n",
      "[4000]\ttrain-rmse:3.24317\tvalid_data-rmse:3.62067\n",
      "[4500]\ttrain-rmse:3.21997\tvalid_data-rmse:3.62008\n",
      "[5000]\ttrain-rmse:3.20235\tvalid_data-rmse:3.61957\n",
      "[5500]\ttrain-rmse:3.18664\tvalid_data-rmse:3.61911\n",
      "[6000]\ttrain-rmse:3.17072\tvalid_data-rmse:3.61902\n",
      "Stopping. Best iteration:\n",
      "[5866]\ttrain-rmse:3.17482\tvalid_data-rmse:3.61899\n",
      "\n",
      "Train RMSE: 3.17482\n",
      "Test RMSE: 3.61899\n",
      "Fold : 1 started at Sat Jan 23 06:18:12 2021\n",
      "[0]\ttrain-rmse:3.94676\tvalid_data-rmse:3.97374\n",
      "Multiple eval metrics have been passed: 'valid_data-rmse' will be used for early stopping.\n",
      "\n",
      "Will train until valid_data-rmse hasn't improved in 200 rounds.\n",
      "[500]\ttrain-rmse:3.71285\tvalid_data-rmse:3.8212\n",
      "[1000]\ttrain-rmse:3.57872\tvalid_data-rmse:3.75815\n",
      "[1500]\ttrain-rmse:3.49067\tvalid_data-rmse:3.7298\n",
      "[2000]\ttrain-rmse:3.40855\tvalid_data-rmse:3.71577\n",
      "[2500]\ttrain-rmse:3.35087\tvalid_data-rmse:3.70703\n",
      "[3000]\ttrain-rmse:3.30379\tvalid_data-rmse:3.70287\n",
      "[3500]\ttrain-rmse:3.26603\tvalid_data-rmse:3.70076\n",
      "[4000]\ttrain-rmse:3.23417\tvalid_data-rmse:3.69931\n",
      "[4500]\ttrain-rmse:3.20729\tvalid_data-rmse:3.69797\n",
      "[5000]\ttrain-rmse:3.18194\tvalid_data-rmse:3.69695\n",
      "[5500]\ttrain-rmse:3.16035\tvalid_data-rmse:3.69638\n",
      "[6000]\ttrain-rmse:3.13869\tvalid_data-rmse:3.69611\n",
      "Stopping. Best iteration:\n",
      "[6029]\ttrain-rmse:3.13759\tvalid_data-rmse:3.69608\n",
      "\n",
      "Train RMSE: 3.13759\n",
      "Test RMSE: 3.69608\n",
      "Fold : 2 started at Sat Jan 23 07:43:38 2021\n",
      "[0]\ttrain-rmse:3.94989\tvalid_data-rmse:3.96122\n",
      "Multiple eval metrics have been passed: 'valid_data-rmse' will be used for early stopping.\n",
      "\n",
      "Will train until valid_data-rmse hasn't improved in 200 rounds.\n",
      "[500]\ttrain-rmse:3.70945\tvalid_data-rmse:3.81103\n",
      "[1000]\ttrain-rmse:3.56987\tvalid_data-rmse:3.7478\n",
      "[1500]\ttrain-rmse:3.47551\tvalid_data-rmse:3.72076\n",
      "[2000]\ttrain-rmse:3.40041\tvalid_data-rmse:3.70804\n",
      "[2500]\ttrain-rmse:3.33796\tvalid_data-rmse:3.70076\n",
      "[3000]\ttrain-rmse:3.29036\tvalid_data-rmse:3.6966\n",
      "[3500]\ttrain-rmse:3.25046\tvalid_data-rmse:3.69426\n",
      "[4000]\ttrain-rmse:3.21658\tvalid_data-rmse:3.69306\n",
      "[4500]\ttrain-rmse:3.18995\tvalid_data-rmse:3.69278\n",
      "Stopping. Best iteration:\n",
      "[4451]\ttrain-rmse:3.19233\tvalid_data-rmse:3.69274\n",
      "\n",
      "Train RMSE: 3.19233\n",
      "Test RMSE: 3.69274\n",
      "Fold : 3 started at Sat Jan 23 08:47:19 2021\n",
      "[0]\ttrain-rmse:3.95238\tvalid_data-rmse:3.95125\n",
      "Multiple eval metrics have been passed: 'valid_data-rmse' will be used for early stopping.\n",
      "\n",
      "Will train until valid_data-rmse hasn't improved in 200 rounds.\n",
      "[500]\ttrain-rmse:3.71449\tvalid_data-rmse:3.8002\n",
      "[1000]\ttrain-rmse:3.57842\tvalid_data-rmse:3.73875\n",
      "[1500]\ttrain-rmse:3.48275\tvalid_data-rmse:3.71267\n",
      "[2000]\ttrain-rmse:3.40129\tvalid_data-rmse:3.70218\n",
      "[2500]\ttrain-rmse:3.34284\tvalid_data-rmse:3.69713\n",
      "[3000]\ttrain-rmse:3.29803\tvalid_data-rmse:3.69453\n",
      "[3500]\ttrain-rmse:3.26458\tvalid_data-rmse:3.69309\n",
      "[4000]\ttrain-rmse:3.23527\tvalid_data-rmse:3.69205\n",
      "[4500]\ttrain-rmse:3.21037\tvalid_data-rmse:3.69161\n",
      "[5000]\ttrain-rmse:3.18799\tvalid_data-rmse:3.69139\n",
      "[5500]\ttrain-rmse:3.16975\tvalid_data-rmse:3.6912\n",
      "[6000]\ttrain-rmse:3.15201\tvalid_data-rmse:3.69111\n",
      "Stopping. Best iteration:\n",
      "[5956]\ttrain-rmse:3.15348\tvalid_data-rmse:3.69108\n",
      "\n",
      "Train RMSE: 3.15348\n",
      "Test RMSE: 3.69108\n",
      "Fold : 4 started at Sat Jan 23 10:07:30 2021\n",
      "[0]\ttrain-rmse:3.94124\tvalid_data-rmse:3.99565\n",
      "Multiple eval metrics have been passed: 'valid_data-rmse' will be used for early stopping.\n",
      "\n",
      "Will train until valid_data-rmse hasn't improved in 200 rounds.\n",
      "[500]\ttrain-rmse:3.70725\tvalid_data-rmse:3.84179\n",
      "[1000]\ttrain-rmse:3.5714\tvalid_data-rmse:3.77732\n",
      "[1500]\ttrain-rmse:3.47928\tvalid_data-rmse:3.74865\n",
      "[2000]\ttrain-rmse:3.40292\tvalid_data-rmse:3.73578\n",
      "[2500]\ttrain-rmse:3.34537\tvalid_data-rmse:3.72981\n",
      "[3000]\ttrain-rmse:3.29867\tvalid_data-rmse:3.72627\n",
      "[3500]\ttrain-rmse:3.26187\tvalid_data-rmse:3.72409\n",
      "[4000]\ttrain-rmse:3.22922\tvalid_data-rmse:3.72313\n",
      "[4500]\ttrain-rmse:3.20344\tvalid_data-rmse:3.72279\n",
      "[5000]\ttrain-rmse:3.18162\tvalid_data-rmse:3.72262\n",
      "[5500]\ttrain-rmse:3.16292\tvalid_data-rmse:3.72225\n",
      "[6000]\ttrain-rmse:3.14501\tvalid_data-rmse:3.72209\n",
      "[6500]\ttrain-rmse:3.12864\tvalid_data-rmse:3.72193\n",
      "Stopping. Best iteration:\n",
      "[6443]\ttrain-rmse:3.13022\tvalid_data-rmse:3.72192\n",
      "\n",
      "Train RMSE: 3.13022\n",
      "Test RMSE: 3.72192\n"
     ]
    }
   ],
   "source": [
    "train_RMSE_list = []\n",
    "val_RMSE_list = []\n",
    "for fold, (X_train_index, X_val_index) in enumerate(folds.split(X)):\n",
    "    print(\"Fold :\", fold, \"started at\", time.ctime())\n",
    "    X_train, X_val = X.iloc[X_train_index], X.iloc[X_val_index]\n",
    "    y_train, y_val = y.iloc[X_train_index], y.iloc[X_val_index]\n",
    "    xgb_params = {'n_estimators' : 3000, 'max_depth': 8,  'learning_rate': 0.001, 'colsample_bytree': 0.8, \n",
    "          'num_leaves' : 250, 'eval_metric': 'rmse', 'nthread': 4}\n",
    "\n",
    "    train_data = xgb.DMatrix(data=X_train, label=y_train)\n",
    "    valid_data = xgb.DMatrix(data=X_val, label=y_val)\n",
    "\n",
    "    watchlist = [(train_data, 'train'), (valid_data, 'valid_data')]\n",
    "    model = xgb.train(dtrain=train_data, num_boost_round=20000, evals=watchlist, early_stopping_rounds=200, verbose_eval=500, params=xgb_params)\n",
    "\n",
    "    y_pred_train = model.predict(xgb.DMatrix(X_train), ntree_limit=model.best_ntree_limit)\n",
    "    y_pred_valid = model.predict(xgb.DMatrix(X_val), ntree_limit=model.best_ntree_limit)\n",
    "\n",
    "    train_rmse = np.sqrt(mean_squared_error(y_train, y_pred_train))\n",
    "    test_rmse = np.sqrt(mean_squared_error(y_val, y_pred_valid))\n",
    "\n",
    "    train_RMSE_list.append(train_rmse)\n",
    "    val_RMSE_list.append(test_rmse)\n",
    "\n",
    "\n",
    "    print(\"Train RMSE: {:2.5f}\".format(train_rmse))\n",
    "    print(\"Test RMSE: {:2.5f}\".format(test_rmse))"
   ]
  },
  {
   "cell_type": "code",
   "execution_count": null,
   "metadata": {
    "id": "PkMFvUCdggCT"
   },
   "outputs": [],
   "source": [
    "test_CardId = test['card_id']\n",
    "test_Data = test.drop(['card_id'], axis = 1)"
   ]
  },
  {
   "cell_type": "code",
   "execution_count": null,
   "metadata": {
    "id": "aupMhbNTpAKf"
   },
   "outputs": [],
   "source": [
    "test_pred = model.predict(xgb.DMatrix(test_Data), ntree_limit=model.best_ntree_limit)"
   ]
  },
  {
   "cell_type": "code",
   "execution_count": null,
   "metadata": {
    "id": "kRlXSG4DpCag"
   },
   "outputs": [],
   "source": [
    "data = {'card_id' : list(test_CardId),\n",
    "        'target' : list(test_pred)\n",
    "}\n",
    "data = pd.DataFrame(data)"
   ]
  },
  {
   "cell_type": "code",
   "execution_count": null,
   "metadata": {
    "colab": {
     "base_uri": "https://localhost:8080/",
     "height": 111
    },
    "id": "X8yEvrQcpE4C",
    "outputId": "053a6c80-5d7b-444c-c5cd-26e4e2ed3e52"
   },
   "outputs": [
    {
     "data": {
      "text/html": [
       "<div>\n",
       "<style scoped>\n",
       "    .dataframe tbody tr th:only-of-type {\n",
       "        vertical-align: middle;\n",
       "    }\n",
       "\n",
       "    .dataframe tbody tr th {\n",
       "        vertical-align: top;\n",
       "    }\n",
       "\n",
       "    .dataframe thead th {\n",
       "        text-align: right;\n",
       "    }\n",
       "</style>\n",
       "<table border=\"1\" class=\"dataframe\">\n",
       "  <thead>\n",
       "    <tr style=\"text-align: right;\">\n",
       "      <th></th>\n",
       "      <th>card_id</th>\n",
       "      <th>target</th>\n",
       "    </tr>\n",
       "  </thead>\n",
       "  <tbody>\n",
       "    <tr>\n",
       "      <th>0</th>\n",
       "      <td>C_ID_0ab67a22ab</td>\n",
       "      <td>-4.372157</td>\n",
       "    </tr>\n",
       "    <tr>\n",
       "      <th>1</th>\n",
       "      <td>C_ID_130fd0cbdd</td>\n",
       "      <td>-0.710922</td>\n",
       "    </tr>\n",
       "  </tbody>\n",
       "</table>\n",
       "</div>"
      ],
      "text/plain": [
       "           card_id    target\n",
       "0  C_ID_0ab67a22ab -4.372157\n",
       "1  C_ID_130fd0cbdd -0.710922"
      ]
     },
     "execution_count": 17,
     "metadata": {
      "tags": []
     },
     "output_type": "execute_result"
    }
   ],
   "source": [
    "data.head(2)"
   ]
  },
  {
   "cell_type": "code",
   "execution_count": null,
   "metadata": {
    "id": "W5bqg-c6pHQX"
   },
   "outputs": [],
   "source": [
    "data.to_csv(\"test_submission.csv\", index= False)"
   ]
  },
  {
   "cell_type": "markdown",
   "metadata": {
    "id": "ZB8YiEZmGhNa"
   },
   "source": [
    "![image.png](data:image/png;base64,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)"
   ]
  },
  {
   "cell_type": "markdown",
   "metadata": {
    "id": "Pdzv0cDqxp-6"
   },
   "source": [
    "<h3>5.1.6 Ada Boost </h3>"
   ]
  },
  {
   "cell_type": "code",
   "execution_count": null,
   "metadata": {
    "colab": {
     "base_uri": "https://localhost:8080/"
    },
    "id": "BA34T26txvpd",
    "outputId": "eba6ab60-af98-4950-951e-b6806deef11f"
   },
   "outputs": [
    {
     "data": {
      "text/plain": [
       "{'n_estimators': 500}"
      ]
     },
     "execution_count": 9,
     "metadata": {
      "tags": []
     },
     "output_type": "execute_result"
    }
   ],
   "source": [
    "n_estimators = [50, 100, 150, 200, 250, 500, 1000, 2000, 3000, 5000, 10000, 20000, 25000]\n",
    "params = {'n_estimators' : n_estimators}\n",
    "\n",
    "model = AdaBoostRegressor()\n",
    "gridsearch = GridSearchCV(model, params, scoring = 'neg_root_mean_squared_error', cv = 5)\n",
    "gridsearch.fit(X_train, y_train)\n",
    "gridsearch.best_params_"
   ]
  },
  {
   "cell_type": "code",
   "execution_count": null,
   "metadata": {
    "colab": {
     "base_uri": "https://localhost:8080/"
    },
    "id": "JI3eeqbfHLgX",
    "outputId": "ce658342-6d01-4e4f-a75d-959a8ef666b8"
   },
   "outputs": [
    {
     "name": "stdout",
     "output_type": "stream",
     "text": [
      "Train RMSE: 5.746392606541428\n",
      "Test RMSE: 5.712749233803937\n"
     ]
    }
   ],
   "source": [
    "model = AdaBoostRegressor(n_estimators= 500)\n",
    "model.fit(X_train, y_train)\n",
    "\n",
    "y_pred_train = model.predict(X_train)\n",
    "y_pred_test = model.predict(X_val)\n",
    "\n",
    "train_rmse = np.sqrt(mean_squared_error(y_train, y_pred_train))\n",
    "test_rmse = np.sqrt(mean_squared_error(y_val, y_pred_test))\n",
    "\n",
    "print(\"Train RMSE:\", train_rmse)\n",
    "print(\"Test RMSE:\", test_rmse)"
   ]
  },
  {
   "cell_type": "markdown",
   "metadata": {
    "id": "dr4bTUwDk11K"
   },
   "source": [
    "<h3>5.1.7 Custom Model </h3>"
   ]
  },
  {
   "cell_type": "code",
   "execution_count": 8,
   "metadata": {
    "id": "P8AkQMS-k46t"
   },
   "outputs": [],
   "source": [
    "X_train, X_test, y_train, y_test = train_test_split(X, y, test_size = 0.2, random_state = 42)"
   ]
  },
  {
   "cell_type": "code",
   "execution_count": 9,
   "metadata": {
    "id": "ZRgy-aR-qgcm"
   },
   "outputs": [],
   "source": [
    "X_train, X_val, y_train, y_val = train_test_split(X_train, y_train, test_size = 0.3, random_state = 42)"
   ]
  },
  {
   "cell_type": "code",
   "execution_count": 10,
   "metadata": {
    "id": "8NQU4S_7oWkE"
   },
   "outputs": [],
   "source": [
    "import random\n",
    "from random import seed\n",
    "from random import randrange\n",
    "\n",
    "\n",
    "def generateRandomData(Indices, k):\n",
    "    '''\n",
    "        This method takes a list of indices and selects k of them randomly\n",
    "    '''\n",
    "    distinctData = set()\n",
    "    N = len(Indices)\n",
    "    while len(distinctData) < k:\n",
    "        p = randrange(0,N)\n",
    "        distinctData.add(Indices[p])\n",
    "    return list(distinctData)"
   ]
  },
  {
   "cell_type": "code",
   "execution_count": 11,
   "metadata": {
    "id": "3cduPXMroyUN"
   },
   "outputs": [],
   "source": [
    "#https://stackoverflow.com/questions/22927181/selecting-specific-rows-and-columns-from-numpy-array\n",
    "def generating_samples(input_data, target_data):\n",
    "    '''\n",
    "        This method takes input and output data and selects data from them randomly with replacement.\n",
    "    '''\n",
    "    listOfRowIndices = [x for x in range(len(input_data))]\n",
    "    iniSampleSize = int(0.6*len(input_data))\n",
    "    Selecting_rows = generateRandomData(listOfRowIndices, iniSampleSize)   \n",
    "    replicateSampleSize = [x for x in range(len(Selecting_rows))]\n",
    "    Replacing_rows = generateRandomData(replicateSampleSize, len(input_data) - len(Selecting_rows))\n",
    "    Selecting_rows = np.array(Selecting_rows)\n",
    "    sample_data = input_data.iloc[Selecting_rows]\n",
    "    target_of_sample_data = target_data.iloc[Selecting_rows]\n",
    "    Replicated_sample_data = sample_data.iloc[Replacing_rows]\n",
    "    target_of_Replicated_sample_data = target_data.iloc[Replacing_rows]\n",
    "    final_sample_data = np.vstack((sample_data, Replicated_sample_data))\n",
    "    final_target_data = np.vstack((np.array(target_of_sample_data).reshape(-1,1), np.array(target_of_Replicated_sample_data).reshape(-1,1)))\n",
    "    return list(final_sample_data), list(final_target_data)"
   ]
  },
  {
   "cell_type": "code",
   "execution_count": 12,
   "metadata": {
    "id": "GaBNHRAn5wvD"
   },
   "outputs": [],
   "source": [
    "# Use generating_samples function to create k samples\n",
    "# store these created samples in a list\n",
    "def CreateKSamples(x , y, n_estimator):\n",
    "    list_input_data =[]\n",
    "    list_output_data =[]\n",
    "    for i in tqdm(range(n_estimator)):\n",
    "        a,b = generating_samples(x, y)\n",
    "        list_input_data.append(a)\n",
    "        list_output_data.append(b)\n",
    "    gc.collect()\n",
    "    return list_input_data, list_output_data"
   ]
  },
  {
   "cell_type": "code",
   "execution_count": 13,
   "metadata": {
    "id": "3Xz7O-p58jWG"
   },
   "outputs": [],
   "source": [
    "from sklearn.tree import DecisionTreeRegressor\n",
    "\n",
    "def CreateAlistofAllModels(list_input_data, list_output_data, n_estimator):\n",
    "    listofAllModels = []\n",
    "    for i in tqdm(range(n_estimator)):\n",
    "        model = DecisionTreeRegressor()\n",
    "        model.fit(list_input_data[i], list_output_data[i])\n",
    "        listofAllModels.append(model)\n",
    "    gc.collect()\n",
    "    return listofAllModels"
   ]
  },
  {
   "cell_type": "code",
   "execution_count": 14,
   "metadata": {
    "id": "-XSCHU7NFIj7"
   },
   "outputs": [],
   "source": [
    "def CreateDataSetPredictions(listofAllModels, X_val, n_estimator):\n",
    "    data = {}\n",
    "    for i in tqdm(range(n_estimator)):\n",
    "        propertyName = 'pred_' + str(i+1)\n",
    "        data[propertyName] = list(listofAllModels[i].predict(X_val)) \n",
    "    gc.collect()\n",
    "    return data"
   ]
  },
  {
   "cell_type": "code",
   "execution_count": 15,
   "metadata": {
    "id": "OGbSLEyVIk5s"
   },
   "outputs": [],
   "source": [
    "def CustomModel1(X_train, y_train, X_val, y_val, n_estimator):\n",
    "\n",
    "    list_input_data ,list_output_data = CreateKSamples(X_train , y_train, n_estimator)\n",
    "\n",
    "    BaseModels = CreateAlistofAllModels(list_input_data, list_output_data, n_estimator)\n",
    "\n",
    "    dictOfData = CreateDataSetPredictions(BaseModels, X_val, n_estimator)\n",
    "\n",
    "    pred_df = pd.DataFrame(dictOfData)\n",
    "\n",
    "\n",
    "    meta_model = lgbm.LGBMRegressor(n_jobs=-1, \n",
    "                      num_leaves = 250,\n",
    "                      n_estimators = 1000,\n",
    "                      max_depth = 8,\n",
    "                      learning_rate = 0.001,\n",
    "                      colsample_bytree = 0.6)\n",
    "    meta_model.fit(pred_df, y_val)\n",
    "\n",
    "\n",
    "    y_pred_test = meta_model.predict(pred_df)\n",
    "\n",
    "    test_rmse = np.sqrt(mean_squared_error(y_val, y_pred_test))\n",
    "\n",
    "    print(\"Test RMSE:\", test_rmse)\n",
    "\n",
    "    return BaseModels, meta_model"
   ]
  },
  {
   "cell_type": "code",
   "execution_count": 17,
   "metadata": {
    "colab": {
     "base_uri": "https://localhost:8080/",
     "height": 374
    },
    "id": "1zrnl-A3JslL",
    "outputId": "7e6a4450-3c14-4c32-efd3-ab8d2a359e88"
   },
   "outputs": [
    {
     "name": "stderr",
     "output_type": "stream",
     "text": [
      "100%|██████████| 100/100 [00:54<00:00,  1.83it/s]\n",
      "100%|██████████| 100/100 [1:42:27<00:00, 61.47s/it]\n",
      "100%|██████████| 100/100 [00:10<00:00,  9.52it/s]\n"
     ]
    },
    {
     "name": "stdout",
     "output_type": "stream",
     "text": [
      "Test RMSE: 3.6275384053762\n"
     ]
    }
   ],
   "source": [
    "BaseModels, meta_model = CustomModel1(X_train, y_train, X_val, y_val, 100)"
   ]
  },
  {
   "cell_type": "code",
   "execution_count": 18,
   "metadata": {
    "id": "7Q0a3E7RPpGY"
   },
   "outputs": [],
   "source": [
    "test_CardId = test['card_id']\n",
    "test_Data = test.drop(['card_id'], axis = 1)"
   ]
  },
  {
   "cell_type": "code",
   "execution_count": 19,
   "metadata": {
    "colab": {
     "base_uri": "https://localhost:8080/"
    },
    "id": "aKwfHfZLPVYv",
    "outputId": "d2798bf5-8709-4dc3-8f06-4ed998cecc81"
   },
   "outputs": [
    {
     "name": "stderr",
     "output_type": "stream",
     "text": [
      "100%|██████████| 100/100 [00:25<00:00,  3.93it/s]\n"
     ]
    }
   ],
   "source": [
    "dictOfData = CreateDataSetPredictions(BaseModels, test_Data, 100)"
   ]
  },
  {
   "cell_type": "code",
   "execution_count": 20,
   "metadata": {
    "id": "o3QME-6FPghC"
   },
   "outputs": [],
   "source": [
    "pred_df = pd.DataFrame(dictOfData)"
   ]
  },
  {
   "cell_type": "code",
   "execution_count": 21,
   "metadata": {
    "id": "6_62IsjCPuvd"
   },
   "outputs": [],
   "source": [
    "test_pred = meta_model.predict(pred_df)"
   ]
  },
  {
   "cell_type": "code",
   "execution_count": 22,
   "metadata": {
    "id": "1ql5RnDrP5mB"
   },
   "outputs": [],
   "source": [
    "data = {'card_id' : list(test_CardId),\n",
    "        'target' : list(test_pred)\n",
    "}\n",
    "data = pd.DataFrame(data)"
   ]
  },
  {
   "cell_type": "code",
   "execution_count": 23,
   "metadata": {
    "colab": {
     "base_uri": "https://localhost:8080/",
     "height": 111
    },
    "id": "uaA1qRvrP-px",
    "outputId": "89a76d03-97c3-469e-a3b6-d813efa9630d"
   },
   "outputs": [
    {
     "data": {
      "text/html": [
       "<div>\n",
       "<style scoped>\n",
       "    .dataframe tbody tr th:only-of-type {\n",
       "        vertical-align: middle;\n",
       "    }\n",
       "\n",
       "    .dataframe tbody tr th {\n",
       "        vertical-align: top;\n",
       "    }\n",
       "\n",
       "    .dataframe thead th {\n",
       "        text-align: right;\n",
       "    }\n",
       "</style>\n",
       "<table border=\"1\" class=\"dataframe\">\n",
       "  <thead>\n",
       "    <tr style=\"text-align: right;\">\n",
       "      <th></th>\n",
       "      <th>card_id</th>\n",
       "      <th>target</th>\n",
       "    </tr>\n",
       "  </thead>\n",
       "  <tbody>\n",
       "    <tr>\n",
       "      <th>0</th>\n",
       "      <td>C_ID_0ab67a22ab</td>\n",
       "      <td>-0.702288</td>\n",
       "    </tr>\n",
       "    <tr>\n",
       "      <th>1</th>\n",
       "      <td>C_ID_130fd0cbdd</td>\n",
       "      <td>-0.494178</td>\n",
       "    </tr>\n",
       "  </tbody>\n",
       "</table>\n",
       "</div>"
      ],
      "text/plain": [
       "           card_id    target\n",
       "0  C_ID_0ab67a22ab -0.702288\n",
       "1  C_ID_130fd0cbdd -0.494178"
      ]
     },
     "execution_count": 23,
     "metadata": {},
     "output_type": "execute_result"
    }
   ],
   "source": [
    "data.head(2)"
   ]
  },
  {
   "cell_type": "code",
   "execution_count": 24,
   "metadata": {
    "id": "MmRFJvC4P-z9"
   },
   "outputs": [],
   "source": [
    "data.to_csv(\"test_submission.csv\", index= False)"
   ]
  },
  {
   "cell_type": "markdown",
   "metadata": {
    "id": "7L309pUtjcqN"
   },
   "source": [
    "![image.png](data:image/png;base64,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)"
   ]
  },
  {
   "cell_type": "markdown",
   "metadata": {},
   "source": [
    "<h3>5.1.8 LGBM with Stratified Fold based on outliers points </h3>"
   ]
  },
  {
   "cell_type": "code",
   "execution_count": 20,
   "metadata": {
    "id": "oHz4JviYbx4F"
   },
   "outputs": [],
   "source": [
    "df_train = train\n",
    "df_test = test"
   ]
  },
  {
   "cell_type": "code",
   "execution_count": 21,
   "metadata": {
    "id": "iogIV_Rwbx4F",
    "outputId": "10fa1dc3-f5c8-429f-c52c-e8ea45bd1cca"
   },
   "outputs": [
    {
     "data": {
      "text/plain": [
       "0    199710\n",
       "1      2207\n",
       "Name: outliers, dtype: int64"
      ]
     },
     "execution_count": 21,
     "metadata": {},
     "output_type": "execute_result"
    }
   ],
   "source": [
    "df_train['outliers'] = 0\n",
    "df_train.loc[df_train['target'] < -30, 'outliers'] = 1\n",
    "df_train['outliers'].value_counts()"
   ]
  },
  {
   "cell_type": "code",
   "execution_count": 22,
   "metadata": {
    "id": "rLNw0v-qbx4F"
   },
   "outputs": [],
   "source": [
    "df_train_columns = [c for c in df_train.columns if c not in ['card_id', 'first_active_month','target','outliers']]\n",
    "target = df_train['target']\n",
    "del df_train['target']"
   ]
  },
  {
   "cell_type": "code",
   "execution_count": 23,
   "metadata": {},
   "outputs": [],
   "source": [
    "import joblib"
   ]
  },
  {
   "cell_type": "code",
   "execution_count": 24,
   "metadata": {
    "id": "5x_tQX_abx4G",
    "outputId": "f19c5438-103c-40de-eec9-af136293a3e5",
    "scrolled": false
   },
   "outputs": [
    {
     "name": "stdout",
     "output_type": "stream",
     "text": [
      "fold 0\n",
      "[LightGBM] [Warning] min_data_in_leaf is set=79, min_child_samples=20 will be ignored. Current value: min_data_in_leaf=79\n",
      "Training until validation scores don't improve for 100 rounds\n",
      "[100]\ttraining's rmse: 3.64195\tvalid_1's rmse: 3.72968\n",
      "[200]\ttraining's rmse: 3.54988\tvalid_1's rmse: 3.70597\n",
      "[300]\ttraining's rmse: 3.49292\tvalid_1's rmse: 3.69756\n",
      "[400]\ttraining's rmse: 3.45103\tvalid_1's rmse: 3.69359\n",
      "[500]\ttraining's rmse: 3.41617\tvalid_1's rmse: 3.6927\n",
      "[600]\ttraining's rmse: 3.3846\tvalid_1's rmse: 3.69167\n",
      "[700]\ttraining's rmse: 3.35677\tvalid_1's rmse: 3.69129\n",
      "[800]\ttraining's rmse: 3.32971\tvalid_1's rmse: 3.69123\n",
      "Early stopping, best iteration is:\n",
      "[754]\ttraining's rmse: 3.34234\tvalid_1's rmse: 3.69081\n",
      "fold 1\n",
      "[LightGBM] [Warning] min_data_in_leaf is set=79, min_child_samples=20 will be ignored. Current value: min_data_in_leaf=79\n",
      "Training until validation scores don't improve for 100 rounds\n",
      "[100]\ttraining's rmse: 3.64334\tvalid_1's rmse: 3.72352\n",
      "[200]\ttraining's rmse: 3.55086\tvalid_1's rmse: 3.69699\n",
      "[300]\ttraining's rmse: 3.49495\tvalid_1's rmse: 3.68777\n",
      "[400]\ttraining's rmse: 3.45207\tvalid_1's rmse: 3.68274\n",
      "[500]\ttraining's rmse: 3.41737\tvalid_1's rmse: 3.68029\n",
      "[600]\ttraining's rmse: 3.38749\tvalid_1's rmse: 3.6793\n",
      "[700]\ttraining's rmse: 3.36105\tvalid_1's rmse: 3.67863\n",
      "[800]\ttraining's rmse: 3.3357\tvalid_1's rmse: 3.67815\n",
      "Early stopping, best iteration is:\n",
      "[793]\ttraining's rmse: 3.33741\tvalid_1's rmse: 3.67814\n",
      "fold 2\n",
      "[LightGBM] [Warning] min_data_in_leaf is set=79, min_child_samples=20 will be ignored. Current value: min_data_in_leaf=79\n",
      "Training until validation scores don't improve for 100 rounds\n",
      "[100]\ttraining's rmse: 3.64832\tvalid_1's rmse: 3.71083\n",
      "[200]\ttraining's rmse: 3.55802\tvalid_1's rmse: 3.67974\n",
      "[300]\ttraining's rmse: 3.50283\tvalid_1's rmse: 3.66856\n",
      "[400]\ttraining's rmse: 3.45844\tvalid_1's rmse: 3.66352\n",
      "[500]\ttraining's rmse: 3.42256\tvalid_1's rmse: 3.66108\n",
      "[600]\ttraining's rmse: 3.391\tvalid_1's rmse: 3.65906\n",
      "[700]\ttraining's rmse: 3.36283\tvalid_1's rmse: 3.65775\n",
      "[800]\ttraining's rmse: 3.33636\tvalid_1's rmse: 3.657\n",
      "[900]\ttraining's rmse: 3.31173\tvalid_1's rmse: 3.65684\n",
      "[1000]\ttraining's rmse: 3.28816\tvalid_1's rmse: 3.65704\n",
      "Early stopping, best iteration is:\n",
      "[919]\ttraining's rmse: 3.3075\tvalid_1's rmse: 3.65678\n",
      "fold 3\n",
      "[LightGBM] [Warning] min_data_in_leaf is set=79, min_child_samples=20 will be ignored. Current value: min_data_in_leaf=79\n",
      "Training until validation scores don't improve for 100 rounds\n",
      "[100]\ttraining's rmse: 3.65046\tvalid_1's rmse: 3.702\n",
      "[200]\ttraining's rmse: 3.56118\tvalid_1's rmse: 3.67047\n",
      "[300]\ttraining's rmse: 3.50541\tvalid_1's rmse: 3.65941\n",
      "[400]\ttraining's rmse: 3.46444\tvalid_1's rmse: 3.6542\n",
      "[500]\ttraining's rmse: 3.43073\tvalid_1's rmse: 3.65193\n",
      "[600]\ttraining's rmse: 3.39989\tvalid_1's rmse: 3.6514\n",
      "[700]\ttraining's rmse: 3.37155\tvalid_1's rmse: 3.65088\n",
      "[800]\ttraining's rmse: 3.34537\tvalid_1's rmse: 3.65043\n",
      "[900]\ttraining's rmse: 3.3215\tvalid_1's rmse: 3.65039\n",
      "[1000]\ttraining's rmse: 3.29812\tvalid_1's rmse: 3.65053\n",
      "[1100]\ttraining's rmse: 3.27524\tvalid_1's rmse: 3.65024\n",
      "Early stopping, best iteration is:\n",
      "[1085]\ttraining's rmse: 3.27864\tvalid_1's rmse: 3.64998\n",
      "fold 4\n",
      "[LightGBM] [Warning] min_data_in_leaf is set=79, min_child_samples=20 will be ignored. Current value: min_data_in_leaf=79\n",
      "Training until validation scores don't improve for 100 rounds\n",
      "[100]\ttraining's rmse: 3.64832\tvalid_1's rmse: 3.7152\n",
      "[200]\ttraining's rmse: 3.55779\tvalid_1's rmse: 3.68799\n",
      "[300]\ttraining's rmse: 3.50332\tvalid_1's rmse: 3.67866\n",
      "[400]\ttraining's rmse: 3.46258\tvalid_1's rmse: 3.67383\n",
      "[500]\ttraining's rmse: 3.42781\tvalid_1's rmse: 3.67098\n",
      "[600]\ttraining's rmse: 3.39676\tvalid_1's rmse: 3.66944\n",
      "[700]\ttraining's rmse: 3.36881\tvalid_1's rmse: 3.66794\n",
      "[800]\ttraining's rmse: 3.34333\tvalid_1's rmse: 3.6678\n",
      "[900]\ttraining's rmse: 3.31907\tvalid_1's rmse: 3.66702\n",
      "[1000]\ttraining's rmse: 3.29472\tvalid_1's rmse: 3.66639\n",
      "Early stopping, best iteration is:\n",
      "[979]\ttraining's rmse: 3.29964\tvalid_1's rmse: 3.66612\n"
     ]
    },
    {
     "data": {
      "text/plain": [
       "3.6683961203879645"
      ]
     },
     "execution_count": 24,
     "metadata": {},
     "output_type": "execute_result"
    }
   ],
   "source": [
    "param = {'num_leaves': 54,\n",
    "         'min_data_in_leaf': 79, \n",
    "         'objective':'regression',\n",
    "         'max_depth': 18,\n",
    "         'learning_rate': 0.01,\n",
    "         \"min_child_samples\": 20,\n",
    "         \"boosting\": \"gbdt\",\n",
    "         \"feature_fraction\": 0.9,\n",
    "         \"bagging_freq\": 1,\n",
    "         \"bagging_fraction\": 0.9 ,\n",
    "         \"bagging_seed\": 11,\n",
    "         \"metric\": 'rmse',\n",
    "         \"lambda_l1\": 0.1,\n",
    "         \"verbosity\": -1,\n",
    "         \"nthread\": 4,\n",
    "         \"random_state\": 4590}\n",
    "folds = StratifiedKFold(n_splits=5, shuffle=True, random_state=4590)\n",
    "oof = np.zeros(len(df_train))\n",
    "predictions = np.zeros(len(df_test))\n",
    "feature_importance_df = pd.DataFrame()\n",
    "\n",
    "for fold_, (trn_idx, val_idx) in enumerate(folds.split(df_train,df_train['outliers'].values)):\n",
    "    print(\"fold {}\".format(fold_))\n",
    "    trn_data = lgbm.Dataset(df_train.iloc[trn_idx][df_train_columns], label=target.iloc[trn_idx])\n",
    "    val_data = lgbm.Dataset(df_train.iloc[val_idx][df_train_columns], label=target.iloc[val_idx])\n",
    "\n",
    "    num_round = 10000\n",
    "    clf = lgbm.train(param, trn_data, num_round, valid_sets = [trn_data, val_data], verbose_eval=100, early_stopping_rounds = 100)\n",
    "    oof[val_idx] = clf.predict(df_train.iloc[val_idx][df_train_columns], num_iteration=clf.best_iteration)\n",
    "    \n",
    "    \n",
    "    predictions += clf.predict(df_test[df_train_columns], num_iteration=clf.best_iteration) / folds.n_splits\n",
    "\n",
    "np.sqrt(mean_squared_error(oof, target))"
   ]
  },
  {
   "cell_type": "code",
   "execution_count": 25,
   "metadata": {},
   "outputs": [
    {
     "data": {
      "text/plain": [
       "['finalModel.pkl']"
      ]
     },
     "execution_count": 25,
     "metadata": {},
     "output_type": "execute_result"
    }
   ],
   "source": [
    "#saving the model\n",
    "joblib.dump(clf,'finalModel.pkl')"
   ]
  },
  {
   "cell_type": "code",
   "execution_count": null,
   "metadata": {
    "id": "NGKbmrODbx4G"
   },
   "outputs": [],
   "source": [
    "sub_df = pd.DataFrame({\"card_id\":df_test[\"card_id\"].values})\n",
    "sub_df[\"target\"] = predictions\n",
    "sub_df.to_csv(\"submission.csv\", index=False)"
   ]
  },
  {
   "cell_type": "markdown",
   "metadata": {
    "id": "SZhPQujInI3F"
   },
   "source": [
    "![image.png](data:image/png;base64,iVBORw0KGgoAAAANSUhEUgAAA6sAAABlCAYAAACr6HXcAAAgAElEQVR4Ae3dz28TWYIHcP4Mrn3sI0euHFs+cWwpp2ikHSFxgROMtGiVRSM6MwyCnsgioFkMoUO3IbPudLJObNkhjtvx2sHBG1tx4rQTeWK3IQ6WQyja1nf16ofrlX/GMSY/+ovEuOyqej8+VTPM1+/V8xnwDwUoQAEKUIACFKAABShAAQpQ4JgJnDlm7WFzKEABClCAAhSgAAUoQAEKUIACYFjlTUABClCAAhSgAAUoQAEKUIACx06AYfXYXRI2iAIUoAAFKEABClCAAhSgAAUYVnkPUIACFKAABShAAQpQgAIUoMCxE2BYPXaXhA2iAAUoQAEKUIACFKAABShAAYZV3gMUoAAFKEABClCAAhSgAAUocOwEGFaP3SVhgyhAAQpQgAIUoAAFKHAyBHaK7xAIReDxLxzqrzhXlME/FGgmwLDaTIWfUYACFKAABShAAQpQgAIdBXoJqkbAFWXwDwWaCTCsNlPhZxSgAAUoQAEKUIACFKBARwEjcHY8sMUBvZ7folh+fEoEGFZPyYVkNyhAAQpQgAIUoAAFKPC5BXoNm72e/7n7y/o+rwDD6uf1Zm0UoAAFKEABClCAAhQ4NQK9hs1ezz81kOxIUwGG1aYs/JACFKAABShAAQpQgAIU6CTQa9js9fxO7eP+ky3AsHqyrx9bTwEKUIACFKAABShAgSMT6DVs9nr+kXWcFX8WAYbVz8LMSihAAQpQgAIUoAAFKHD6BHoNm72ef/pE2SNZ4BiH1d+wv1tC8UNVbm9v29VdLEwvYXJD6a0cAPtrK7g3vYFizyWxAApQgAIUoAAFDiqglHNYj60jV+7i33KljNx6DOv5MlqeJR9TqWtNRUG5XG7+VypQaXVMXVubHrdfVyffdi3Qzb3R9Bqo10+6oJYW6PdAq93Gsca9Unc9u6pvfwebyQQ2dzpVZlR6tK+9hs1ezz/a3rP2fgsc47C6gaFbs7g4u/PpDAor+PrWLM67sj2XGXXO4sxwEJO7PRfFAihAAQpQgAIU6CSwv44f/zwIm81W+zv4twByHc4rLz3CtQHznIFrDxDOW0+qP8b2hztwb0lBITleq1OuX2zf9Bv/PyWBcaltluP+7INxFJQYHjQ77mnC2ii+O7hA1/fGDnx/Nu8Jy7WyjaPhSuzEMP4fA+o9YF7vZs1TkHh8WbtXLNfzgPcGFKz/900MSvfH4N/c2KwLvs1qPsrPeg2bvZ5/lH1n3f0X+H2FVeFZLmP/UwzWVhUUy7/1/wqxBgpQgAIUoMDvXkBB7L8GYLvyCGEj9eV9+GbAhhszbeJqwYebtgF8M72JsjAsb8L9lwHY/t1thtx3AdwRoXNSP6ayg/DDy7Bdfo51w90YLZNGTndCD/BH21U8rx0ENIyeFcJ48G82XJ2QDlLbdA0/rtaN1B7zQGJQHL/Xw90bDdeqvI4f/8OGgb+HtXtF72j5fx9g0DaIm85x7T6pfTnRKKEkx3HVdhmXL9tgs4TVg90bSuwRBmyX8SCk3+T6PX75aaL1jIDGZnz2T3oNm72e/9k7zAo/q0B/w6qyg4XZJVwZ9eHiPyJ4EjeHIYvLyxh2JpGWupteiGB4OqNPrTVGVvNIByO4NDKHS8+W4cmbAdEoY6WwgdHHAbUO59p7QJ3uG8Lg3QCuiKm6tXCax6QzgtHlkl5rFcXMKkafBXFRPXYVafVfM313V+2vori6gnuPA7gwEsTwbAbb0peyRt/SYvqwOGY0hNEl00NikDZ/w3ZkGdf/MacdH8xLfQGwm8fkdAiXRnwYfLyMya332rlvNzDqjOBJUmoASliYjmDYlwX/PZSIuUkBClCAAidAQMHOagyxLfkfaX10rC4UyJ1Zn7hsDaZi57tNxGLrqM2wXP0R1/70wAzB4hh1JPUmfAW5NHlbq7s+2MhHiO0d/03YBkYQfiftUcv+BgEjdEu7uHkYgcPdG/U1iaB5ue7LB3HMzv/+CN8v4r7TRkdbjqwq6xi/YsON6Zg2atvmvlTLbbg3ygj/3Qbb3wKWsKzeQ7YHiMn/l66+8Uf8vtew2ev5R9x9Vt9ngT6G1R0478/i7N0A7s2twekK4PytWVx6qQXF7dk5nLkVxoLUwYVnszhjj2Nb/UwLq+fu+PDVwxCGnSJ8iqm3c3iS1dKnVoYX5+0BXJf2D973YfBZBMOP5/CFmPb7zy29FiMAa/9C7MfDapsuPotjMhjH9ZFZnLkTQVQtvpv2V5GencNZMW35cURr6x3R9yW9LEDt220vLnwr2hrBFfssztzyYqjl//q8x8IzL84M6315FsCF4Vmcf7ahhc0PGQzdmcUX9jCeBFfx5Dsfzt7yYjgpGp/H6LezODu2ZgbT3SQu3ZrF4JwR1CV4blKAAhSgAAVOmoA66jSAkZAcYOVOaIHy2nQO2InB7XyO584f4Vttdbx5rhYym0wH1Q9pFWzMEgAoCYxfrhtVFR8vPYDN9giBVR9+VNvkRvhfndtkKZtv2gt0vDfqTz/Ilw/tw+r6xFX9i5HOX6I0vzf08r11MwX+5cY12wDGV+vbfHze9xo2ez3/+EiwJf0Q6F9YfbuCwVuzuB4xRkLFyOMaovrI6EHD6pnRFXMRo+oWhm/P4uyzDdVCKyMA51udRq/zwpQWd4EqFr5rDMDGc7Dqc6ffLpuju+U8Fpb10ctu2v9hDdeHZ/FVrV4A+vlGOFTD6nAQHuPfo2oW90T41vvScHEzy/jq1iyuhPTRUrGoUziMC3dDmBT9XYngi1s+jGaMM98jvZxBelcK8sMheD5o+4svAzhzK8BnbA0uvlKAAhSgwIkUENNvr137IwZsVzHi3WwzPVL7P//X/vINrv7hJh44n+PR3WsYENOC/XWBQJbQg843L1sNfR4k2LQYVTVGW20D+OOtB3jufI4H6nO4VzFumQ0lN4jbBxU4+L1hLfFAXz60G1n9lxs3aqOyncNq0xH3VuWr08ZtGE9a23yc3vUaNns9/zhZsC2fXqB/YRXayKQYCb3iimMymce+NIXhoGHVCJZG19WAORJXA2ZjGdaRU3FOs9Fao0xjZPXCwxBG5zJYeSs1sJv2x8M4K4KjlqH1ppYw+XAWZx6vqqOb1naIQ3bwRIyutgir2z4x8hzCgpY9je6br/rIqhi5vj6dxEJ61/osrhG2w6JPWlssI61mSdyiAAUoQAEKnBgBpbCOWCwA90OxEM1VjIRaBU8trNoGHiAmPf+Sm74BW6tplfkA7vzBhqttnhE8ULBpMapaQ7asNqwg9nAAtj9Jz9HWDuRGNwIHvzfkUg/25UPracA5ddrv1Wfr+hcnHcJqy3ujxcgtw6p8sbj9OxToY1gVc13EM6vieVMvvhwWU3h9GIppI4WNQbN5sDSmDRvXJj3lw5nbEUQBNJbRXVgVI6/qM6viGdLbYlruLL4YXUHaCIgHbX8sjDO35vDEGNBVG6uP6t5fUac1dx1Wm0yTNgxqr/ozq4N3vep05zPDATj1KdKWgKpPAb6uBtfa2dygAAUoQAEKnGiBdedl2AbGzYWQLL3Jwf0nG2yP69Z2VadV3oD7X5aDgXcxPLpiw1V72Fx8qe4Q8UWzWEV24GGszYiuMapqDckNRUkfaFODRxA2Zl9J+7h5OIH294ZZpvblQ5P7wTxE32oeJrVnSu/AlzcWzNqE+z9tsP1XGOW6nywSBWmjqs3ujXWMD9igTluX615/jsu2y5aFvOTdx2G715HRXs8/DgZsQ/8E+hxWFXO0r/pGG0nUn0nVgqY8cvgek48ap+yee2E8byoQSnCOzuLMw6Q6NfhThNX9D8Y0ZWB/KYRzt2YxFNPBlU7t15+53Y7jopjyLIdBfcryOf152W7DKmL6aG1tmq/4X7hteCIZbOtTe/FBGgkub+C6CNzSSO1+KIgzw2FMzgXU15ajtP27v1gyBShAAQpQoHcBZRMB53O4k9Y0l/PeVJ//jFlGKo3q9FVi6xas0YJh3QJH5YS6OM7AX3xtgipwoGCjj5zdEM/KNvxRsPnyOZ7PJCyL6ORmbrQJ3Q2F8ANZ4FD3hlHAwb580I5uHlYTT1v9BI74vO655w73hrritbxSNQB1JsDAo2O9wJI/EIIROA/7GghFjIvCVwpYBPoXVvVnLr92b2uBdSeDYbHoz6NV7RnUlYgaDM+PJbGSz2PBFdBGX+sWWDo7PIfh5R0Ud3cQnQ12WKSpm5FVBZ4xsaBSGJ6d34Cqgm1fQF2k6N4agA7ttwZlfcrvnZC6Iu9+eQfRKbHgkpgarA3TdgyrHzIYFqv6uvXhWRF2xSJN95cRzZdQzG9h9L65ANR+OKS2dSgiFkyqYj+7gktiASb5N2T1Z2nPDs/CGvot9wDfUIACFKAABY65gFgpdQDi909/TOZQLpeRi43jxoA8yrmDwN+v4ebTmBkE15/jqm0AN57FkCuXsbPuw8iVup8n2deCqu3fRuCOxRCT/m7Kq/giB/e/y/U1J9OCZ7ORM+34cmhEe97Wv44dqR+Wn7dpXjQ/bSpwyHtDTABUfyrmIKOqouLmYbWxSa2nAXe6N1B3vxr3+HG/N3aK7yDCZi9BVZTBPxRoJtC/sIoq0i+D6gq2YnqtOsXWvoRo7UvR94i6tNV6xb6vnBuYbLIa8FBwA0NiISK9jIuurdoKt9bAKLrXTVgVv7e2hXvqqrx6+cM+XHn5Rndq3/6GustZjD70qisCq20dnsO9eK2zdc/OiirqnlndXVXD5hff6av9ikMKqxj61uz72btBTNam+Vr9RJ0XHiXNKcxqL6pavWKV4BVjbrPePb5QgAIUoAAFTpLA/iZ8D29g0GaMZA3ixsMAcrVR1U38KILof1pHR8v/9xw3/2CcM4Br933YlJ5h1X6mxthvfZUXtREjsgO2DsFmP4YH4rdfm46qGtgKNv0PcG3AqEv8hqd1pNU4kq8HFDjUvXGwLx/MFvQYVg90bwA5sYCYdG/ckL98MRvDLQr8bgT6GFYNw9+wv1tC8UMvYamK/VLJskCTUfonef1QRnHXXHXXWmaX7RdllaTpudbCDveuXGpdZlVBcbePNodrMc+iAAUoQAEK9ElAUUdWu/2XVimXodSCbZ+a1mWxapu6PIeHtxM43L3RrsSj2af345jdr0djwVp/7wKfIaz+3onZfwpQgAIUoAAFKEABClCAAhToVoBhtVsxHk8BClCAAhSgAAUoQAEKUIACfRdgWO07MSugAAUoQAEKUIACFKAABShAgW4FGFa7FePxFKAABShAAQpQgAIUoAAFKNB3AYbVvhOzAgpQgAIUoAAFKEABClCAAhToVoBhtVsxHk8BClCAAhSgAAUoQAEKUIACfRdgWO07MSugAAUoQAEKUIACFKAABShAgW4FGFa7FePxFKAABShAAQpQgAIUoAAFKNB3AYbVvhOzAgpQgAIUoAAFKEABClCAAhToVoBhtVsxHk8BClCAAhSgAAUoQAEKUIACfRc49mG18NqF+K99d/i8FexlEFzIYO9T1ZqJY/BuGAsfPlWB/Siniv1SGftVs+yoy4d7K+b7tlu7WTifBXDhrg8XRoK4F9mpHd5VObWzuEEBClCAAhSgAAUoQAEKHGeBYx9WcxE7ovnjTHiItpVTcM+kPlFYrSL6wotzt724HlYO0ZjPdcoOntjn8GTbrG/h2SyGYub7llvVLQzf8eJ6MI9i+T2K+S2M3p/FpZcl9ZQDl9OyAu6gAAUoQAEKUIACFKAABY6bQH/D6scSsqk4Yq9iSGyWUItSSg6JX4pQ3qYRfxVDPFUw99UJqWE1u4dsMobYqzjSb2ulqEcq7zJIvIoh9jqFnDRUqeQTSOTNY+X3YjtTVJATZf6iBR5rtRWUsim1bbFkBiWzGAAKihuiT3GkflWglvXOPLtVe8wjAOhhtbSf09ou1bGXjSOelToCBblEHJaP5MLUIBeCJxbBuYdJFKV96YVlLBR24JmOYNi1gpXdKpBfw6gzguHpNWzL/Spk4RTHOZfwZNkctSwuL2MyvYsFsW9BfGuQx+R0Btu1claRLkuVlvPwzC5h2BnBqAiX6khqCQvTIXx924uvvzPKAdSQGdHb51yCc1UuSCpzO46L9jiknAsUsvCkpbDaspwqiqtJrc+uOBbyv9UKVn2yWThdEYwul4DdDEYXtlFcXcE90X4xelstY2VO9KeufU37WSuaGxSgAAUoQAEKUIACFKBAjwL9C6uVAqIvJjCfzKGklJCNTGFiuaA1V4S1Fy4EX+dQ2isiHZqAM5JDpUlnRFh1TkeRelNCKZ/A/IsJxN9qB1byUbimo8gU97R9Lg9SevbcS7nhTpmhT34vtidcfkQ3ssgW5cQmyq2gsDSBiUACuZKCUjaKqRcxaC1XkHk5hqmlDIp7JeReB+GedtZGftu1x9I10f8fpuCPiDr2UNyMYsoVRe4jgHcJTP2UQC1Ci2Pl95aCAMTC+GJsDfvYwvDtAJy6jThs4ZkXFx5GMJnOI+oO4Ny3Pgx+l8TK1jacY16ce7Gllba9gq+HfRgKbmM7v4UnD721Ucvt2TmcvxvA0NyaHg43MHTbi4uinHweC/+cw1kjSH7IYOiOF5emM0jv5uF55sP5f4o6FGzHV3D9rg/Xa+VoYfXcSBhPknmkl5dx6Y4X99bqOwjgwxqui/ZF3limERtHitDbqpxt3xy+GAljMr2D7WQcl+4EMKkbCZ/z9iBGg2uIZhVAhOI7cxgS7d9aw9C3XnxlD+LesmjfEr4e1n1b9tNoEV8pQAEKUIACFKAABShAgV4F+hdWRcsqUvwsSVNfRQD7n5QZyJQM5n8wAqG1SyKsLkpDaqVVI4SWkPhpCglpVLOSXcRYKKuGXjmcihLl9+r2ai0OWisU76oVKTiXkPofN1Ji0O9dAi7L9F0FaZ8xTbl9eyyViP7b55ER4VT/U0q49HC9h9SM2a9ScgpTyVZtVeAZE1NptQdB01M+XJw1R0VFiLu+ZDwkuoGhW0F4jOdaLaOVVex/MEccsRTCmWcbastEWL3ofmM0E4AoJ4QFo1g9JE/u6od8kMJ/Vh4RbT4N2GwfkHbPWdovVQoUNnDvHz58OezFhdGwZfTX2s+6cqoK9mtNqmLhO3Pqcf15algdiSOtVyz6fmHKvPnE8bVpyy37aWk131CAAhSgAAUoQAEKUIAChxToa1hVfk0h/rMfrkkXXC/G4TCCnghrxrba8Byi9ihyTTpR/8yqGTqbnCOVax6nFSq/l7ebVAnsF5B6HYRftNs1gXGHHlbzUdgj1laa7WvfHks99WFd7JTKVjb8cCVEQBUB2I/0vuVs882HVVy5FcC98Bo8kTV43EF8+e1yLWxZwpUaMsNYMM62hNX3SAeXcf0fc7hw14sLf521hlUpAGthVSoHcgitohiP495jsRCSFxdue81RV8txWiOs7QPUYGypy2is9FpVUEyvYmhkFl/7tGDetpyymLYcwqURHy7c8eLLYTNw1p+nhlVjlBiN7TGPb9dPqa3cpAAFKEABClCAAhSgAAUOLdC/sPo2jomZOAp7+uiqFCSNZzbNSbpNgp7eJTMMah+YQVOcs2gNuGL01ptWFy4yj6s/zzrK2ihXRPyFG/E3e6ioo4dipFMPq79G4fhZG7k1zsuFjZHV9u0xjldfhUXdSHJlKwinMU16Pw3/ZAIlMSXYl275PG9xLoBz90Pq86HiGdFhZwiDd3wYzWi1meFKvBcjolLIlMJqMRjE+cdJpI2Hc2Phw4XVtSWcty8hmn+vNUCqA72E1Q9lFMvSyK8oXYza3l9Rn2O19lMOmSVMPvLiykIexQ/aULB8rLytNtjSXrkcrTu149v2UzuW/0kBClCAAhSgAAUoQAEK9CbQv7AqRgrD5ijk3sb8Jx5ZrSAbGoPHeEgVFeQiE7Ups3vrHjjDWS3oVUtIzNhrz7DWB1krYV3o3Etj3hhZVZ/DdSOuL/JUeZeC/6kRVtu3x1KHCKt2Jxa3jWnSJaRmnIjVZttWkP3ZCfeMC8Et4xhLCeqoq3PUi+GV2nxc9QAxOnlOfU5UX8Cottpu67Bqner7m7q6sGUasGW0s64cOYSKkPudNn0YqGJ7LmAZWXXe9+HemtneWvjTu9ZyZHUlgnPfLmGlNp33N6Sn52rP3LYuRx/1zeoVKGJV4U8wstq2n/XXie8pQAEKUIACFKAABShAgcMI9C+sooS0bxzjLjGV1gX/0qI59VceZVVbfZiRVQAfC4jP6HW8GIdrIWM+B6vuG4P96RjGXVGk/s941rXTyCpQWvdj/HuXNn3ZH8Wi8cyqaOt+DjGfts//Kod0bWS1Q3vkq6P2P47U0pRWx/fjcL8uSM/JAuL5W4djEdlWWVWMAt6OICqXK7bfrmBQfF49eFhFeQNDd704L37D9I4PQ8+ChxtZrb6BCNBf3tGm3A46Q5ZVfIvhEC4Me/HVpLawU+uQWd+p91iZDmjPq4o2/nUWXz5cxoq+eHC7cvZjYVz4q1f7fdZvwxh69AnCaod+1ree7ylAAQpQgAIUoAAFKECB7gX6GFb1xnxUoLQKXN23t/kZ/aijWoHSrOHmwKDaFnMasNS0btrzUdGnG0vni7WpxGJRdc/HWo/41O+q2C+VpMWIeii/XKpNu+2hlMZTxfOqu4coWz1Pn5rcWOrhP+lXPw/fIp5JAQpQgAIUoAAFKECBUyPQ/7B6aqjEKsEFxH9yYT6ZQeFNAZlkEC5XFIVPGsZLyKXET/SYKwKfJkL2hQIUoAAFKEABClCAAhSgwEEEGFYPoiQfU91DYSOB2KsY4qksjDWJ5EN62q7soZDNomCuPtVTcTyZAhSgAAUoQAEKUIACFKDASRRgWD2JV41tpgAFKEABClCAAhSgAAUocMoFGFZP+QVm9yhAAQpQgAIUoAAFKEABCpxEAYbVk3jV2GYKUIACFKAABShAAQpQgAKnXIBh9ZRfYHaPAhSgAAUoQAEKUIACFKDASRRgWD2JV41tpgAFKEABClCAAhSgAAUocMoFGFZP+QVm9yhAAQpQgAIUoAAFKEABCpxEAYbVk3jV2GYKUIACFKAABShAAQpQgAKnXIBh9ZRfYHaPAhSgAAUoQAEKUIACFKDASRRgWD2JV41tpgAFKEABClCAAhSgAAUocMoFGFZP+QVm9yhAAQpQgAIUoAAFKEABCpxEAYbVk3jV2GYKUIACFKAABShAAQpQgAKnXIBh9ZRfYHaPAhSgAAUoQAEKUIACFKDASRRgWD2JV41tpgAFKEABClCAAhSgAAUocMoFGFZP+QVm9yhAAQpQgAIUoAAFKEABCpxEgeMXVj8qUCrtKCtQ2h/Q7uSO+yqKgrbVdyyh7oD9AjK/KnUfHuLtpyqnm6qr/bUGKihmsyh91BtVUfp6bbvpOo+lAAUoQAEKUIACFKAABY5W4NiF1VzEDndqr7VKOQW3PYpc6yN62JND1O5GqtxDEXWnFl9PwP4ijmLd592+/VTldFVvPgr7TAptrkZdcQqK2QL2Dpr2lQzmHQ7Mb2phfi/l7rK+uur5lgIUoAAFKEABClCAAhQ4NQIMq5ZL+enDqqX4k/am67Damx/D6km7QdheClCAAhSgAAUoQAEK9E+gz2FVQXEjjsWXbrhfLiKxWWqYYruXTyGm7o8hXaygYWRVKSGTDMI/6UcwmYNS6jyyapTp8gUR3yjW6lTyCcREGZJn6ZcYEnnjEz1slRTkjDpfp1E0dgPQjt/DXjaO+Rk35l+lUfwIVEoZJH72w/0yhvRb84SGOmv9cWM+nEBuX2oMgG7avpdNmLZZ6/in0S9lO4GgzwX/zwnUHWKtWLzbyyH1ah7umXnEhFuTsKq8TSP+sx+Gba2nSg6JV/OYsjvhCcUQ+6VUK189J6yVu5jMmNN+UULmVQyZd9qhDWG1g1WtAm5QgAIUoAAFKEABClCAAqdOoI9hVUHmpQOO6SjS+QIK+RQWXzjgWTdDVSnlgePFPBKbWWSzaURn/PDMSNOAP+YQfeHA1FIa2WwWmeQ83F4PXG2mASu/zGtlZosoFTOITo/Bk9KCU0MYAurCsQirLni8bswnM2qd6aUpOF5EkdOfqxRh2jXjR/C12J9B3OuAw+tHcCGBjN7GCWkqsbXOAmJ6fwqlEnLJeUxIZR+87RUUXrkwJmyzut20AxNLhVowV9vp9cOv26n9cMwjUxeOa3d0KQWPY0Lqtxt+r3Va7t6GH2PS9YrNjGEslNXqrOyhkI3Db3dhcT2LrJ7w1T45phDdyKHwJodUaAIOb1qfWiy87YjmtVZ0Y1VrNzcoQAEKUIACFKAABShAgVMp0MewKkYbi9IoGlDZCsJuBJVKFouOKST0UTVV92MWQYcZVkvJKTh+1sOQzl9KTMHeJqyqI7Or5qge9vdqbbCGIa1A60iuFp6mEtL5qCD7swNTSe0zcbxdbpM60juPTG2IcQ9prx3BLe3BTUud6vO2i9LzthUoZXNBpwO3XS3Hj7QcPFU701NtZyBTC6/AHlIzdsz/UmuodENXkA050Kzf5jOrBcR+MMvXTq7/TB+Zlp/5/VhCsSQ9xFrJImj3IK1+Z9EmrHawkhrPTQpQgAIUoAAFKEABClDgFAr0NawKr4pSQiGbRToZw6JvwlxA510Crh9iKFhQRTA0wqq23RCuxHltwqo2kueC/3UaueIeKlWzAktw1D9uDKtOxN6Y54gtUab9ZUadPqyGwIi0vFOTBZ/kMq11ipFVO8ZmokhtFlCqW9X4oG23hP5aU8VIthlGG9rZMIpcO1FMbkZisrHfaj3GAkvCfTyIhDqSK0ZztRHdxUkzmANNwqqopqKg9CaL7EYCsbAf5shzm7CK9lZy67lNAQpQgAIUoAAFKEABCpw+gT6G1RLSvjE4vvcg+CqGxEYWhdSiGVZ/jcIxmYA8hil4c2EjrFpHKGv06khm+9WAlXdZpF4H4XeNw+FwIZpvMsqpFygHy1rYqm/UttnuhhDYVVFHnxwAAAYJSURBVFgFUN1DYUN71nTiqR1jvrTF4CBt31v3wB6WArPRl5qdNr3ZLofqtmG1gKjDZR3lFmVK/Ya4Xj94sPgqhljd34ZnfqWR1dK6H2OOcXh+jiGWTCP7JoXF2jTpdmG1s1XtnuAGBShAAQpQgAIUoAAFKHDqBPoXVt/E4KwbObWM1O2l4bHL02eFrRjhM8IqUFhywLlcN/YqphK3GVmtv0LqqKjeDkv9+oFmOBYfaOHJmMJrlFVKuOBY0trRc1g1ChWv1SLik+ZoqLxLbMttt4zQNrHV7ByI/qqV0tDOtmFV+2KgfhRb9Ls2DVi9XkFkpRm99e2thf1aWBXThOtGbNVpwMbPA3UIq3IFHazkQ7lNAQpQgAIUoAAFKEABCpx8gf6FVTHi6Aiaz3J+LCLhdZjhB9oCTBMRc3Xe0qoYhTPDKt7EMOHwQF8fCVByiLoccLQMq+K5TEdtQSVxeUpJaZGgdwlM2d2Iq6v1VrC3uQiXXJ8aVh1wuKLIGY926gsPGVODG0JgNyOr+SjGpAWVoGSx+INDX2CofdstYVWE+p8c8EjP5pZWxWJV5rTqhna2DataMFYXkpL67X8qXy/t2V35ekHYPPVIv0srwqcL8bfGfzG0PgX131EFKigmPHAcZGS1rZVRPl8pQAEKUIACFKAABShAgdMq0L+wigoKr90Yszsw/mIcjqd+pFfN6bQq6McC4jNjsDvGMf7UAddSDpmIFFbVn4oJqoFy7Hu9jO0OP11TyiAoAu33Lohptg5XEJnatF6jTXbY7c3qE2HLjdR2GiKojX8v2uZCUPoZloYQ2E1YrZmMYUJMUbaPwf3aXMEXbdpuDasA9nMQq/HaHWNqwB/7KYqstOBSQzs7hFURJGvX6/sxLbBvRqUvFwB8LCK14FLbPf69A/anUxYbcU3Vab92e+0Z38qbONziOnw/gXHHGPzrB50GbLSnhdVp/W8k+0UBClCAAhSgAAUoQAEKqAJ9DKu6cLUCpW4hoQb7jwoU/adhGvapH4gyzFVzmx9j/bSidCrTenyzd6KMtrNem510kM9Uk9Zld9X2jnYHaZB0zEGuV0XpfE2lIsWmaiktdlW3u/XbDlatT+QeClCAAhSgAAUoQAEKUOAkC/Q/rJ5kHbadAhSgAAUoQAEKUIACFKAABY5EgGH1SNhZKQUoQAEKUIACFKAABShAAQq0E2BYbafDfRSgAAUoQAEKUIACFKAABShwJAIMq0fCzkopQAEKUIACFKAABShAAQpQoJ0Aw2o7He6jAAUoQAEKUIACFKAABShAgSMRYFg9EnZWSgEKUIACFKAABShAAQpQgALtBBhW2+lwHwUoQAEKUIACFKAABShAAQociQDD6pGws1IKUIACFKAABShAAQpQgAIUaCfAsNpOh/soQAEKUIACFKAABShAAQpQ4EgEGFaPhJ2VUoACFKAABShAAQpQgAIUoEA7AYbVdjrcRwEKUIACFKAABShAAQpQgAJHIsCweiTsrJQCFKAABShAAQpQgAIUoAAF2gkwrLbT4T4KUIACFKAABShAAQpQgAIUOBIBhtUjYWelFKAABShAAQpQgAIUoAAFKNBOgGG1nQ73UYACFKAABShAAQpQgAIUoMCRCJzZKRbBvzTgPcB7gPcA7wHeA7wHeA/wHuA9wHuA9wDvgeN0D3Bk9Ui+I2ClFKAABShAAQpQgAIUoAAFKNBOgGG1nQ73UYACFKAABShAAQpQgAIUoMCRCDCsHgk7K6UABShAAQpQgAIUoAAFKECBdgIMq+10uI8CFKAABShAAQpQgAIUoAAFjkSAYfVI2FkpBShAAQpQgAIUoAAFKEABCrQTYFhtp8N9FKAABShAAQpQgAIUoAAFKHAkAgyrR8LOSilAAQpQgAIUoAAFKEABClCgnQDDajsd7qMABShAAQpQgAIUoAAFWgrsFN8hEIrA41841F9xriiDfyjQTIBhtZkKP6MABShAAQpQgAIUoAAFOgr0ElSNgCvK4B8KNBNgWG2mws8oQAEKUIACFKAABShAgY4CRuDseGCLA3o9v0Wx/PiUCPw/uOUDEOo+ASUAAAAASUVORK5CYII=)"
   ]
  },
  {
   "cell_type": "markdown",
   "metadata": {
    "id": "TaSuA3Bfbx4G"
   },
   "source": [
    "<h2>5.2 Classification Models </h3>"
   ]
  },
  {
   "cell_type": "markdown",
   "metadata": {},
   "source": [
    "- We will try to convert this to a binary classification problem\n",
    "- We have to ignore test dataset as we dont have correct classes.(We can try incorporate that based on the predictions that we make from regression task)\n",
    "- Our two classes being Loyal(1) and Not Loyal(0)\n",
    "- We will first standardize the target column, 'Loyal' if target >= 0 else 'NotLoyal'"
   ]
  },
  {
   "cell_type": "code",
   "execution_count": 15,
   "metadata": {},
   "outputs": [],
   "source": [
    "from sklearn.preprocessing import StandardScaler\n",
    "from sklearn.metrics import f1_score"
   ]
  },
  {
   "cell_type": "code",
   "execution_count": 6,
   "metadata": {},
   "outputs": [],
   "source": [
    "scaler = StandardScaler().fit(np.array(train['target']).reshape(-1,1))"
   ]
  },
  {
   "cell_type": "code",
   "execution_count": 7,
   "metadata": {},
   "outputs": [],
   "source": [
    "train['target'] = scaler.transform(np.array(train['target']).reshape(-1,1))"
   ]
  },
  {
   "cell_type": "code",
   "execution_count": 8,
   "metadata": {
    "scrolled": false
   },
   "outputs": [
    {
     "data": {
      "image/png": "[encoded data removed]",
      "text/plain": [
       "<Figure size 512x504 with 1 Axes>"
      ]
     },
     "metadata": {
      "needs_background": "light"
     },
     "output_type": "display_data"
    }
   ],
   "source": [
    "sns.FacetGrid(train, size = 7)\\\n",
    "    .map(sns.distplot, 'target')\\\n",
    "    .add_legend()\n",
    "plt.show()"
   ]
  },
  {
   "cell_type": "markdown",
   "metadata": {},
   "source": [
    "- target data is normalized as we can see from the above plot"
   ]
  },
  {
   "cell_type": "code",
   "execution_count": 9,
   "metadata": {},
   "outputs": [],
   "source": [
    "train['target'] = train['target'].apply(lambda x : 1 if x >= 0 else 0)"
   ]
  },
  {
   "cell_type": "code",
   "execution_count": 10,
   "metadata": {},
   "outputs": [
    {
     "data": {
      "text/plain": [
       "1    126335\n",
       "0     75582\n",
       "Name: target, dtype: int64"
      ]
     },
     "execution_count": 10,
     "metadata": {},
     "output_type": "execute_result"
    }
   ],
   "source": [
    "train['target'].value_counts()"
   ]
  },
  {
   "cell_type": "code",
   "execution_count": 11,
   "metadata": {
    "scrolled": false
   },
   "outputs": [
    {
     "data": {
      "image/png": "[encoded data removed]",
      "text/plain": [
       "<Figure size 720x432 with 1 Axes>"
      ]
     },
     "metadata": {
      "needs_background": "light"
     },
     "output_type": "display_data"
    }
   ],
   "source": [
    "x = [\"Loyal\" , \"Not Loyal\"]\n",
    "y =  [train['target'].value_counts()[1] , train['target'].value_counts()[0]]\n",
    "\n",
    "plt.figure(figsize=(10, 6))\n",
    "plt.title (\"Distribution of classes\")\n",
    "sns.barplot(x,y)\n",
    "plt.show()"
   ]
  },
  {
   "cell_type": "markdown",
   "metadata": {},
   "source": [
    "- For metric we can go for \n",
    " - Log loss \n",
    " - Binary Confusion Matrix"
   ]
  },
  {
   "cell_type": "code",
   "execution_count": 12,
   "metadata": {},
   "outputs": [],
   "source": [
    "y = train['target']\n",
    "X = train.drop(['target', 'card_id'], axis = 1)"
   ]
  },
  {
   "cell_type": "code",
   "execution_count": 13,
   "metadata": {},
   "outputs": [],
   "source": [
    "X_train, X_test, y_train, y_test = train_test_split(X, y, test_size = 0.1, random_state = 42)"
   ]
  },
  {
   "cell_type": "markdown",
   "metadata": {},
   "source": [
    "<h3>5.2.1 Logistic Regression with hyperparameter tuning </h3>"
   ]
  },
  {
   "cell_type": "code",
   "execution_count": 14,
   "metadata": {},
   "outputs": [],
   "source": [
    "# This function plots the confusion matrices given y_i, y_i_hat.\n",
    "def plot_confusion_matrix(test_y, predict_y):\n",
    "    C = confusion_matrix(test_y, predict_y)\n",
    "    \n",
    "    A =(((C.T)/(C.sum(axis=1))).T)\n",
    "    B =(C/C.sum(axis=0))\n",
    "    plt.figure(figsize=(20,4))\n",
    "    \n",
    "    labels = [1,2]\n",
    "    # representing A in heatmap format\n",
    "    cmap=sns.light_palette(\"blue\")\n",
    "    plt.subplot(1, 3, 1)\n",
    "    sns.heatmap(C, annot=True, cmap=cmap, fmt=\".3f\", xticklabels=labels, yticklabels=labels)\n",
    "    plt.xlabel('Predicted Class')\n",
    "    plt.ylabel('Original Class')\n",
    "    plt.title(\"Confusion matrix\")\n",
    "    \n",
    "    plt.subplot(1, 3, 2)\n",
    "    sns.heatmap(B, annot=True, cmap=cmap, fmt=\".3f\", xticklabels=labels, yticklabels=labels)\n",
    "    plt.xlabel('Predicted Class')\n",
    "    plt.ylabel('Original Class')\n",
    "    plt.title(\"Precision matrix\")\n",
    "    \n",
    "    plt.subplot(1, 3, 3)\n",
    "    # representing B in heatmap format\n",
    "    sns.heatmap(A, annot=True, cmap=cmap, fmt=\".3f\", xticklabels=labels, yticklabels=labels)\n",
    "    plt.xlabel('Predicted Class')\n",
    "    plt.ylabel('Original Class')\n",
    "    plt.title(\"Recall matrix\")\n",
    "    \n",
    "    plt.show()"
   ]
  },
  {
   "cell_type": "code",
   "execution_count": 16,
   "metadata": {},
   "outputs": [
    {
     "name": "stdout",
     "output_type": "stream",
     "text": [
      "For values of alpha =  0.01 The log loss is: 0.6598125880584119\n",
      "For values of alpha =  0.1 The log loss is: 0.6598125880584119\n",
      "For values of alpha =  1 The log loss is: 0.6598125880584119\n",
      "For values of alpha =  10 The log loss is: 0.6598125880584119\n",
      "For values of alpha =  100 The log loss is: 0.6598184414982601\n",
      "For values of alpha =  1000 The log loss is: 0.6598137840608809\n",
      "For values of alpha =  10000 The log loss is: 0.6598281396234847\n"
     ]
    },
    {
     "data": {
      "image/png": "[encoded data removed]",
      "text/plain": [
       "<Figure size 432x288 with 1 Axes>"
      ]
     },
     "metadata": {
      "needs_background": "light"
     },
     "output_type": "display_data"
    },
    {
     "name": "stdout",
     "output_type": "stream",
     "text": [
      "For values of best alpha =  0.01 The train log loss is: 0.6613721452356421\n",
      "For values of best alpha =  0.01 The test log loss is: 0.6598125880584119\n",
      "Total number of data points : 20192\n"
     ]
    },
    {
     "data": {
      "image/png": "[encoded data removed]",
      "text/plain": [
       "<Figure size 1440x288 with 6 Axes>"
      ]
     },
     "metadata": {
      "needs_background": "light"
     },
     "output_type": "display_data"
    },
    {
     "name": "stdout",
     "output_type": "stream",
     "text": [
      "Macro f1_score = 0.7718135093214927\n"
     ]
    }
   ],
   "source": [
    "alpha = [10 ** x for x in range(-2, 5)] \n",
    "\n",
    "log_error_array=[]\n",
    "for i in alpha:\n",
    "    clf = SGDClassifier(alpha=i, penalty='l2', loss='log', random_state=42)\n",
    "    clf.fit(X_train, y_train)\n",
    "    sig_clf = CalibratedClassifierCV(clf, method=\"sigmoid\")\n",
    "    sig_clf.fit(X_train, y_train)\n",
    "    predict_y = sig_clf.predict_proba(X_test)\n",
    "    log_error_array.append(log_loss(y_test, predict_y, labels=clf.classes_, eps=1e-15))\n",
    "    print('For values of alpha = ', i, \"The log loss is:\",log_loss(y_test, predict_y, labels=clf.classes_, eps=1e-15))\n",
    "\n",
    "fig, ax = plt.subplots()\n",
    "ax.plot(alpha, log_error_array,c='g')\n",
    "for i, txt in enumerate(np.round(log_error_array,3)):\n",
    "    ax.annotate((alpha[i],np.round(txt,3)), (alpha[i],log_error_array[i]))\n",
    "plt.grid()\n",
    "plt.title(\"Cross Validation Error for each alpha\")\n",
    "plt.xlabel(\"Alpha i's\")\n",
    "plt.ylabel(\"Error measure\")\n",
    "plt.show()\n",
    "\n",
    "\n",
    "best_alpha = np.argmin(log_error_array)\n",
    "clf = SGDClassifier(alpha=alpha[best_alpha], penalty='l2', loss='log', random_state=42)\n",
    "clf.fit(X_train, y_train)\n",
    "sig_clf = CalibratedClassifierCV(clf, method=\"sigmoid\")\n",
    "sig_clf.fit(X_train, y_train)\n",
    "\n",
    "predict_y = sig_clf.predict_proba(X_train)\n",
    "print('For values of best alpha = ', alpha[best_alpha], \"The train log loss is:\",log_loss(y_train, predict_y, labels=clf.classes_, eps=1e-15))\n",
    "predict_y = sig_clf.predict_proba(X_test)\n",
    "print('For values of best alpha = ', alpha[best_alpha], \"The test log loss is:\",log_loss(y_test, predict_y, labels=clf.classes_, eps=1e-15))\n",
    "predicted_y =np.argmax(predict_y,axis=1)\n",
    "print(\"Total number of data points :\", len(predicted_y))\n",
    "plot_confusion_matrix(y_test, predicted_y)\n",
    "print(\"Macro f1_score = {}\".format(f1_score(y_test, predicted_y)))\n"
   ]
  },
  {
   "cell_type": "markdown",
   "metadata": {},
   "source": [
    "<h3>5.2.2 XgBoost </h3>"
   ]
  },
  {
   "cell_type": "code",
   "execution_count": 17,
   "metadata": {},
   "outputs": [
    {
     "name": "stdout",
     "output_type": "stream",
     "text": [
      "[0]\ttrain-logloss:0.68852\tvalid-logloss:0.69163\n",
      "[10]\ttrain-logloss:0.64698\tvalid-logloss:0.67791\n",
      "[20]\ttrain-logloss:0.61018\tvalid-logloss:0.66693\n",
      "[30]\ttrain-logloss:0.57701\tvalid-logloss:0.65778\n",
      "[40]\ttrain-logloss:0.54675\tvalid-logloss:0.64995\n",
      "[50]\ttrain-logloss:0.51972\tvalid-logloss:0.64345\n",
      "[60]\ttrain-logloss:0.49470\tvalid-logloss:0.63807\n",
      "[70]\ttrain-logloss:0.47199\tvalid-logloss:0.63375\n",
      "[80]\ttrain-logloss:0.45106\tvalid-logloss:0.63014\n",
      "[90]\ttrain-logloss:0.43153\tvalid-logloss:0.62712\n",
      "[100]\ttrain-logloss:0.41321\tvalid-logloss:0.62432\n",
      "[110]\ttrain-logloss:0.39635\tvalid-logloss:0.62204\n",
      "[120]\ttrain-logloss:0.38056\tvalid-logloss:0.62018\n",
      "[130]\ttrain-logloss:0.36591\tvalid-logloss:0.61867\n",
      "[140]\ttrain-logloss:0.35275\tvalid-logloss:0.61723\n",
      "[150]\ttrain-logloss:0.34051\tvalid-logloss:0.61616\n",
      "[160]\ttrain-logloss:0.32895\tvalid-logloss:0.61531\n",
      "[170]\ttrain-logloss:0.31816\tvalid-logloss:0.61474\n",
      "[180]\ttrain-logloss:0.30810\tvalid-logloss:0.61408\n",
      "[190]\ttrain-logloss:0.29896\tvalid-logloss:0.61339\n",
      "[200]\ttrain-logloss:0.29026\tvalid-logloss:0.61312\n",
      "[210]\ttrain-logloss:0.28210\tvalid-logloss:0.61278\n",
      "[220]\ttrain-logloss:0.27433\tvalid-logloss:0.61262\n",
      "[230]\ttrain-logloss:0.26705\tvalid-logloss:0.61243\n",
      "[240]\ttrain-logloss:0.26015\tvalid-logloss:0.61231\n",
      "[250]\ttrain-logloss:0.25396\tvalid-logloss:0.61224\n",
      "[260]\ttrain-logloss:0.24846\tvalid-logloss:0.61234\n",
      "[266]\ttrain-logloss:0.24503\tvalid-logloss:0.61229\n",
      "The test log loss is: 0.6122855198637489\n",
      "Total number of data points : 20192\n"
     ]
    },
    {
     "data": {
      "image/png": "[encoded data removed]",
      "text/plain": [
       "<Figure size 1440x288 with 6 Axes>"
      ]
     },
     "metadata": {
      "needs_background": "light"
     },
     "output_type": "display_data"
    },
    {
     "name": "stdout",
     "output_type": "stream",
     "text": [
      "Macro f1_score = 0.7694294189495724\n"
     ]
    }
   ],
   "source": [
    "import xgboost as xgb\n",
    "params = {}\n",
    "params['objective'] = 'binary:logistic'\n",
    "params['eval_metric'] = 'logloss'\n",
    "params['eta'] = 0.01\n",
    "params['max_depth'] = 18\n",
    "\n",
    "d_train = xgb.DMatrix(X_train, label=y_train)\n",
    "d_test = xgb.DMatrix(X_test, label=y_test)\n",
    "\n",
    "watchlist = [(d_train, 'train'), (d_test, 'valid')]\n",
    "\n",
    "bst = xgb.train(params, d_train, 400, watchlist, early_stopping_rounds=20, verbose_eval=10)\n",
    "\n",
    "xgdmat = xgb.DMatrix(X_train,y_train)\n",
    "predict_y = bst.predict(d_test)\n",
    "print(\"The test log loss is:\",log_loss(y_test, predict_y, labels=clf.classes_, eps=1e-15))\n",
    "\n",
    "predicted_y =np.array(predict_y>0.5,dtype=int)\n",
    "print(\"Total number of data points :\", len(predicted_y))\n",
    "plot_confusion_matrix(y_test, predicted_y)\n",
    "print(\"Macro f1_score = {}\".format(f1_score(y_test, predicted_y)))"
   ]
  },
  {
   "cell_type": "code",
   "execution_count": null,
   "metadata": {},
   "outputs": [],
   "source": []
  }
 ],
 "metadata": {
  "colab": {
   "collapsed_sections": [],
   "machine_shape": "hm",
   "name": "Elo_notebook.ipynb",
   "provenance": []
  },
  "kernelspec": {
   "display_name": "Python 3",
   "language": "python",
   "name": "python3"
  },
  "language_info": {
   "codemirror_mode": {
    "name": "ipython",
    "version": 3
   },
   "file_extension": ".py",
   "mimetype": "text/x-python",
   "name": "python",
   "nbconvert_exporter": "python",
   "pygments_lexer": "ipython3",
   "version": "3.7.8"
  }
 },
 "nbformat": 4,
 "nbformat_minor": 1
}
